{
  "cells": [
    {
      "cell_type": "markdown",
      "metadata": {
        "id": "zcav88u_I45M"
      },
      "source": [
        "# Prompting Language Models\n",
        "\n",
        "In ths notebook, we'll be evaluating different model prompting strategies on a publicly available language model. We will then perform soft-prompt tuning on GPT-2 and compare it against hard prompting."
      ]
    },
    {
      "cell_type": "markdown",
      "metadata": {
        "id": "ShJPg2nFI45N"
      },
      "source": [
        "## Install required packages"
      ]
    },
    {
      "cell_type": "code",
      "execution_count": null,
      "metadata": {
        "id": "5Cs5P34rU7rT",
        "colab": {
          "base_uri": "https://localhost:8080/"
        },
        "outputId": "e39265c6-6155-4ef5-e37d-c612f07b40b5"
      },
      "outputs": [
        {
          "output_type": "stream",
          "name": "stdout",
          "text": [
            "Requirement already satisfied: transformers in /usr/local/lib/python3.11/dist-packages (4.48.3)\n",
            "Requirement already satisfied: filelock in /usr/local/lib/python3.11/dist-packages (from transformers) (3.17.0)\n",
            "Requirement already satisfied: huggingface-hub<1.0,>=0.24.0 in /usr/local/lib/python3.11/dist-packages (from transformers) (0.28.1)\n",
            "Requirement already satisfied: numpy>=1.17 in /usr/local/lib/python3.11/dist-packages (from transformers) (2.0.2)\n",
            "Requirement already satisfied: packaging>=20.0 in /usr/local/lib/python3.11/dist-packages (from transformers) (24.2)\n",
            "Requirement already satisfied: pyyaml>=5.1 in /usr/local/lib/python3.11/dist-packages (from transformers) (6.0.2)\n",
            "Requirement already satisfied: regex!=2019.12.17 in /usr/local/lib/python3.11/dist-packages (from transformers) (2024.11.6)\n",
            "Requirement already satisfied: requests in /usr/local/lib/python3.11/dist-packages (from transformers) (2.32.3)\n",
            "Requirement already satisfied: tokenizers<0.22,>=0.21 in /usr/local/lib/python3.11/dist-packages (from transformers) (0.21.1)\n",
            "Requirement already satisfied: safetensors>=0.4.1 in /usr/local/lib/python3.11/dist-packages (from transformers) (0.5.3)\n",
            "Requirement already satisfied: tqdm>=4.27 in /usr/local/lib/python3.11/dist-packages (from transformers) (4.67.1)\n",
            "Requirement already satisfied: fsspec>=2023.5.0 in /usr/local/lib/python3.11/dist-packages (from huggingface-hub<1.0,>=0.24.0->transformers) (2024.10.0)\n",
            "Requirement already satisfied: typing-extensions>=3.7.4.3 in /usr/local/lib/python3.11/dist-packages (from huggingface-hub<1.0,>=0.24.0->transformers) (4.12.2)\n",
            "Requirement already satisfied: charset-normalizer<4,>=2 in /usr/local/lib/python3.11/dist-packages (from requests->transformers) (3.4.1)\n",
            "Requirement already satisfied: idna<4,>=2.5 in /usr/local/lib/python3.11/dist-packages (from requests->transformers) (3.10)\n",
            "Requirement already satisfied: urllib3<3,>=1.21.1 in /usr/local/lib/python3.11/dist-packages (from requests->transformers) (2.3.0)\n",
            "Requirement already satisfied: certifi>=2017.4.17 in /usr/local/lib/python3.11/dist-packages (from requests->transformers) (2025.1.31)\n",
            "Requirement already satisfied: inflect in /usr/local/lib/python3.11/dist-packages (7.5.0)\n",
            "Requirement already satisfied: more_itertools>=8.5.0 in /usr/local/lib/python3.11/dist-packages (from inflect) (10.6.0)\n",
            "Requirement already satisfied: typeguard>=4.0.1 in /usr/local/lib/python3.11/dist-packages (from inflect) (4.4.2)\n",
            "Requirement already satisfied: typing_extensions>=4.10.0 in /usr/local/lib/python3.11/dist-packages (from typeguard>=4.0.1->inflect) (4.12.2)\n",
            "Collecting cohere\n",
            "  Downloading cohere-5.14.0-py3-none-any.whl.metadata (3.4 kB)\n",
            "Collecting fastavro<2.0.0,>=1.9.4 (from cohere)\n",
            "  Downloading fastavro-1.10.0-cp311-cp311-manylinux_2_17_x86_64.manylinux2014_x86_64.whl.metadata (5.5 kB)\n",
            "Requirement already satisfied: httpx>=0.21.2 in /usr/local/lib/python3.11/dist-packages (from cohere) (0.28.1)\n",
            "Collecting httpx-sse==0.4.0 (from cohere)\n",
            "  Downloading httpx_sse-0.4.0-py3-none-any.whl.metadata (9.0 kB)\n",
            "Requirement already satisfied: pydantic>=1.9.2 in /usr/local/lib/python3.11/dist-packages (from cohere) (2.10.6)\n",
            "Requirement already satisfied: pydantic-core<3.0.0,>=2.18.2 in /usr/local/lib/python3.11/dist-packages (from cohere) (2.27.2)\n",
            "Requirement already satisfied: requests<3.0.0,>=2.0.0 in /usr/local/lib/python3.11/dist-packages (from cohere) (2.32.3)\n",
            "Requirement already satisfied: tokenizers<1,>=0.15 in /usr/local/lib/python3.11/dist-packages (from cohere) (0.21.1)\n",
            "Collecting types-requests<3.0.0,>=2.0.0 (from cohere)\n",
            "  Downloading types_requests-2.32.0.20250306-py3-none-any.whl.metadata (2.3 kB)\n",
            "Requirement already satisfied: typing_extensions>=4.0.0 in /usr/local/lib/python3.11/dist-packages (from cohere) (4.12.2)\n",
            "Requirement already satisfied: anyio in /usr/local/lib/python3.11/dist-packages (from httpx>=0.21.2->cohere) (3.7.1)\n",
            "Requirement already satisfied: certifi in /usr/local/lib/python3.11/dist-packages (from httpx>=0.21.2->cohere) (2025.1.31)\n",
            "Requirement already satisfied: httpcore==1.* in /usr/local/lib/python3.11/dist-packages (from httpx>=0.21.2->cohere) (1.0.7)\n",
            "Requirement already satisfied: idna in /usr/local/lib/python3.11/dist-packages (from httpx>=0.21.2->cohere) (3.10)\n",
            "Requirement already satisfied: h11<0.15,>=0.13 in /usr/local/lib/python3.11/dist-packages (from httpcore==1.*->httpx>=0.21.2->cohere) (0.14.0)\n",
            "Requirement already satisfied: annotated-types>=0.6.0 in /usr/local/lib/python3.11/dist-packages (from pydantic>=1.9.2->cohere) (0.7.0)\n",
            "Requirement already satisfied: charset-normalizer<4,>=2 in /usr/local/lib/python3.11/dist-packages (from requests<3.0.0,>=2.0.0->cohere) (3.4.1)\n",
            "Requirement already satisfied: urllib3<3,>=1.21.1 in /usr/local/lib/python3.11/dist-packages (from requests<3.0.0,>=2.0.0->cohere) (2.3.0)\n",
            "Requirement already satisfied: huggingface-hub<1.0,>=0.16.4 in /usr/local/lib/python3.11/dist-packages (from tokenizers<1,>=0.15->cohere) (0.28.1)\n",
            "Requirement already satisfied: filelock in /usr/local/lib/python3.11/dist-packages (from huggingface-hub<1.0,>=0.16.4->tokenizers<1,>=0.15->cohere) (3.17.0)\n",
            "Requirement already satisfied: fsspec>=2023.5.0 in /usr/local/lib/python3.11/dist-packages (from huggingface-hub<1.0,>=0.16.4->tokenizers<1,>=0.15->cohere) (2024.10.0)\n",
            "Requirement already satisfied: packaging>=20.9 in /usr/local/lib/python3.11/dist-packages (from huggingface-hub<1.0,>=0.16.4->tokenizers<1,>=0.15->cohere) (24.2)\n",
            "Requirement already satisfied: pyyaml>=5.1 in /usr/local/lib/python3.11/dist-packages (from huggingface-hub<1.0,>=0.16.4->tokenizers<1,>=0.15->cohere) (6.0.2)\n",
            "Requirement already satisfied: tqdm>=4.42.1 in /usr/local/lib/python3.11/dist-packages (from huggingface-hub<1.0,>=0.16.4->tokenizers<1,>=0.15->cohere) (4.67.1)\n",
            "Requirement already satisfied: sniffio>=1.1 in /usr/local/lib/python3.11/dist-packages (from anyio->httpx>=0.21.2->cohere) (1.3.1)\n",
            "Downloading cohere-5.14.0-py3-none-any.whl (253 kB)\n",
            "\u001b[2K   \u001b[90m━━━━━━━━━━━━━━━━━━━━━━━━━━━━━━━━━━━━━━━━\u001b[0m \u001b[32m253.9/253.9 kB\u001b[0m \u001b[31m6.8 MB/s\u001b[0m eta \u001b[36m0:00:00\u001b[0m\n",
            "\u001b[?25hDownloading httpx_sse-0.4.0-py3-none-any.whl (7.8 kB)\n",
            "Downloading fastavro-1.10.0-cp311-cp311-manylinux_2_17_x86_64.manylinux2014_x86_64.whl (3.3 MB)\n",
            "\u001b[2K   \u001b[90m━━━━━━━━━━━━━━━━━━━━━━━━━━━━━━━━━━━━━━━━\u001b[0m \u001b[32m3.3/3.3 MB\u001b[0m \u001b[31m65.4 MB/s\u001b[0m eta \u001b[36m0:00:00\u001b[0m\n",
            "\u001b[?25hDownloading types_requests-2.32.0.20250306-py3-none-any.whl (20 kB)\n",
            "Installing collected packages: types-requests, httpx-sse, fastavro, cohere\n",
            "Successfully installed cohere-5.14.0 fastavro-1.10.0 httpx-sse-0.4.0 types-requests-2.32.0.20250306\n"
          ]
        }
      ],
      "source": [
        "!pip install transformers\n",
        "!pip install inflect\n",
        "!pip install cohere"
      ]
    },
    {
      "cell_type": "code",
      "execution_count": null,
      "metadata": {
        "id": "UCd-lD2jU7rX"
      },
      "outputs": [],
      "source": [
        "import pickle as pkl\n",
        "import os\n",
        "import json\n",
        "# import cohere\n",
        "import random\n",
        "import inflect\n",
        "import numpy as np\n",
        "import matplotlib.pyplot as plt\n",
        "import pickle as pkl\n",
        "import torch\n",
        "from torch import nn\n",
        "import time\n",
        "from collections import deque\n",
        "\n",
        "random.seed(0)\n",
        "np.random.seed(0)"
      ]
    },
    {
      "cell_type": "markdown",
      "metadata": {
        "id": "OnghhJjYU7rY"
      },
      "source": [
        "# Load the dataset\n",
        "\n",
        "We will be using the Common Sense QA dataset, which is a collection of questions about everyday life. The cells below download the data from https://www.tau-nlp.sites.tau.ac.il/commonsenseqa ."
      ]
    },
    {
      "cell_type": "code",
      "execution_count": null,
      "metadata": {
        "id": "N9rldi5WU7rZ"
      },
      "outputs": [],
      "source": [
        "# Load dataset from jsonl file\n",
        "def make_dataset(path):\n",
        "    dataset = []\n",
        "    with open(path) as f:\n",
        "        for line in f:\n",
        "            dataset.append(json.loads(line))\n",
        "    return dataset"
      ]
    },
    {
      "cell_type": "code",
      "execution_count": null,
      "metadata": {
        "id": "FLwUUEk3U7rZ",
        "colab": {
          "base_uri": "https://localhost:8080/"
        },
        "outputId": "ac6963ce-8f95-447a-bde4-1ca08a12d358"
      },
      "outputs": [
        {
          "output_type": "stream",
          "name": "stdout",
          "text": [
            "  % Total    % Received % Xferd  Average Speed   Time    Time     Time  Current\n",
            "                                 Dload  Upload   Total   Spent    Left  Speed\n",
            "100 3697k  100 3697k    0     0  4594k      0 --:--:-- --:--:-- --:--:-- 4598k\n",
            "  % Total    % Received % Xferd  Average Speed   Time    Time     Time  Current\n",
            "                                 Dload  Upload   Total   Spent    Left  Speed\n",
            "100  460k  100  460k    0     0   803k      0 --:--:-- --:--:-- --:--:--  803k\n",
            "  % Total    % Received % Xferd  Average Speed   Time    Time     Time  Current\n",
            "                                 Dload  Upload   Total   Spent    Left  Speed\n",
            "100  413k  100  413k    0     0   727k      0 --:--:-- --:--:-- --:--:--  727k\n"
          ]
        }
      ],
      "source": [
        "#@title download the dataset\n",
        "!curl https://s3.amazonaws.com/commensenseqa/train_rand_split.jsonl -o train_rand_split.jsonl\n",
        "!curl https://s3.amazonaws.com/commensenseqa/dev_rand_split.jsonl -o dev_rand_split.jsonl\n",
        "!curl https://s3.amazonaws.com/commensenseqa/test_rand_split_no_answers.jsonl -o test_rand_split_no_answers.jsonl"
      ]
    },
    {
      "cell_type": "code",
      "execution_count": null,
      "metadata": {
        "id": "YhoOwcDYU7ra",
        "colab": {
          "base_uri": "https://localhost:8080/"
        },
        "outputId": "eb873067-48b7-460b-fac1-fde8e4517602"
      },
      "outputs": [
        {
          "output_type": "stream",
          "name": "stdout",
          "text": [
            "9741 1221\n"
          ]
        }
      ],
      "source": [
        "train_set = make_dataset('train_rand_split.jsonl')\n",
        "val_set = make_dataset('dev_rand_split.jsonl')\n",
        "\n",
        "# Print the lengths of the train and validation sets\n",
        "print(len(train_set), len(val_set))"
      ]
    },
    {
      "cell_type": "markdown",
      "metadata": {
        "id": "p02tkKfGU7ra"
      },
      "source": [
        "Here are a few examples of the dataset format:"
      ]
    },
    {
      "cell_type": "code",
      "execution_count": null,
      "metadata": {
        "id": "se1rOuGkU7rb",
        "colab": {
          "base_uri": "https://localhost:8080/"
        },
        "outputId": "078d0387-911d-435c-aca2-b04890a459ab"
      },
      "outputs": [
        {
          "output_type": "execute_result",
          "data": {
            "text/plain": [
              "[{'answerKey': 'A',\n",
              "  'id': '1afa02df02c908a558b4036e80242fac',\n",
              "  'question': {'question_concept': 'revolving door',\n",
              "   'choices': [{'label': 'A', 'text': 'bank'},\n",
              "    {'label': 'B', 'text': 'library'},\n",
              "    {'label': 'C', 'text': 'department store'},\n",
              "    {'label': 'D', 'text': 'mall'},\n",
              "    {'label': 'E', 'text': 'new york'}],\n",
              "   'stem': 'A revolving door is convenient for two direction travel, but it also serves as a security measure at a what?'}},\n",
              " {'answerKey': 'A',\n",
              "  'id': 'a7ab086045575bb497933726e4e6ad28',\n",
              "  'question': {'question_concept': 'people',\n",
              "   'choices': [{'label': 'A', 'text': 'complete job'},\n",
              "    {'label': 'B', 'text': 'learn from each other'},\n",
              "    {'label': 'C', 'text': 'kill animals'},\n",
              "    {'label': 'D', 'text': 'wear hats'},\n",
              "    {'label': 'E', 'text': 'talk to each other'}],\n",
              "   'stem': 'What do people aim to do at work?'}},\n",
              " {'answerKey': 'B',\n",
              "  'id': 'b8c0a4703079cf661d7261a60a1bcbff',\n",
              "  'question': {'question_concept': 'magazines',\n",
              "   'choices': [{'label': 'A', 'text': 'doctor'},\n",
              "    {'label': 'B', 'text': 'bookstore'},\n",
              "    {'label': 'C', 'text': 'market'},\n",
              "    {'label': 'D', 'text': 'train station'},\n",
              "    {'label': 'E', 'text': 'mortuary'}],\n",
              "   'stem': 'Where would you find magazines along side many other printed works?'}}]"
            ]
          },
          "metadata": {},
          "execution_count": 11
        }
      ],
      "source": [
        "val_set[:3]"
      ]
    },
    {
      "cell_type": "code",
      "execution_count": null,
      "metadata": {
        "id": "2caC6yf4U7rd"
      },
      "outputs": [],
      "source": [
        "def make_simple_prompt(data_point):\n",
        "    prompt = f\"\"\"{data_point['question']['stem']}\n",
        " {data_point['question']['choices'][0]['label']} {data_point['question']['choices'][0]['text']}\n",
        " {data_point['question']['choices'][1]['label']} {data_point['question']['choices'][1]['text']}\n",
        " {data_point['question']['choices'][2]['label']} {data_point['question']['choices'][2]['text']}\n",
        " {data_point['question']['choices'][3]['label']} {data_point['question']['choices'][3]['text']}\n",
        " {data_point['question']['choices'][4]['label']} {data_point['question']['choices'][4]['text']}\n",
        "\"\"\"\n",
        "    return prompt\n",
        "\n",
        "def make_simple_qa_prompt(data_point):\n",
        "    prompt = f\"\"\"Question: {data_point['question']['stem']}\n",
        "Choice {data_point['question']['choices'][0]['label']}: {data_point['question']['choices'][0]['text']}\n",
        "Choice {data_point['question']['choices'][1]['label']}: {data_point['question']['choices'][1]['text']}\n",
        "Choice {data_point['question']['choices'][2]['label']}: {data_point['question']['choices'][2]['text']}\n",
        "Choice {data_point['question']['choices'][3]['label']}: {data_point['question']['choices'][3]['text']}\n",
        "Choice {data_point['question']['choices'][4]['label']}: {data_point['question']['choices'][4]['text']}\n",
        "Answer:\"\"\"\n",
        "    return prompt\n",
        "\n",
        "def get_instruction():\n",
        "    return \"Answer the following question with A, B, C, D, or E.\\n\"\n",
        "\n",
        "def make_qa_instruction_prompt(data_point):\n",
        "    prompt = get_instruction()\n",
        "    prompt += make_simple_qa_prompt(data_point)\n",
        "    return prompt\n",
        "\n",
        "def make_few_shot_prompt(data_point, num_shots):\n",
        "    prompt = get_instruction()\n",
        "    for i in range(num_shots):\n",
        "        prompt += make_simple_qa_prompt(train_set[i])\n",
        "        prompt += f\" {train_set[i]['answerKey']}\\n\"\n",
        "    prompt += make_simple_qa_prompt(data_point)\n",
        "    return prompt\n",
        "\n",
        "# This is like the prompt above, but the answers in the examples given are random, not the correct answer\n",
        "def make_incorrect_few_shot_prompt(data_point, num_shots):\n",
        "    prompt = get_instruction()\n",
        "    for i in range(num_shots):\n",
        "        prompt += make_simple_prompt(train_set[i])\n",
        "        valid_answers = ['A', 'B', 'C', 'D', 'E']\n",
        "        valid_answers.remove(train_set[i]['answerKey'])\n",
        "        # Randomly choose an incorrect answer\n",
        "        random_answer = random.choice(valid_answers)\n",
        "        prompt += f\"{random_answer}\\n\"\n",
        "    prompt += make_simple_qa_prompt(data_point)\n",
        "    return prompt"
      ]
    },
    {
      "cell_type": "code",
      "execution_count": null,
      "metadata": {
        "id": "BWnuRosfU7rg"
      },
      "outputs": [],
      "source": [
        "# Printing the log probs for the generated tokens\n",
        "prompt_strategies = {\n",
        "    # 'simple': make_simple_prompt, # removed since it's always incorrect\n",
        "    'simple_qa': make_simple_qa_prompt,\n",
        "    'qa_instruction': make_qa_instruction_prompt,\n",
        "    'few_shot': lambda x: make_few_shot_prompt(x, num_shots),\n",
        "    'incorrect_few_shot': lambda x: make_incorrect_few_shot_prompt(x, num_shots)\n",
        "}"
      ]
    },
    {
      "cell_type": "markdown",
      "metadata": {
        "id": "z16OJFJfU7rh"
      },
      "source": [
        "# Training GPT-2 for soft prompt tuning\n",
        "\n",
        "GPT-2 is the smaller predecessor model to GPT-3. We will use GPT-2 for soft prompt tuning as it is\n",
        "publicly available(unlike GPT-3) and small enough to train on the free version of the colab GPU\n",
        "(unlike GPT-J).\n",
        "\n",
        "Soft prompt tuning is described in this [paper](https://arxiv.org/abs/2104.08691v1), which we encourage you to learn more about. In essence, instead of generating answers by putting in token prompts, we use fine tuning to train the embeddings of new learned tokens. This allows us to generate answers by putting in the new learned tokens instead of tokens which correspond to real words.\n",
        "\n",
        "Most of the code has been implemented for you, but you should still read through the code to understand what it's doing. There is one TODO which asks you to set up the optimizer. Think about which parameters should get passed into the optimizer.\n"
      ]
    },
    {
      "cell_type": "code",
      "execution_count": null,
      "metadata": {
        "id": "wKSHHwAXU7rh"
      },
      "outputs": [],
      "source": [
        "#@title Define soft embedding for GPT-2\n",
        "class SoftEmbedding(nn.Module):\n",
        "    def __init__(self,\n",
        "                wte: nn.Embedding,\n",
        "                n_tokens: int = 10,\n",
        "                random_range: float = 0.5,\n",
        "                initialize_from_vocab: bool = True):\n",
        "        \"\"\"\n",
        "        Here, we concatentate a new task-specific learned embedding to the existing GPT-2 embedding.\n",
        "        Args:\n",
        "            wte (nn.Embedding): original transformer word embedding\n",
        "            n_tokens (int, optional): number of tokens for task. Defaults to 10.\n",
        "            random_range (float, optional): range to init embedding (if not initialize from vocab). Defaults to 0.5.\n",
        "            initialize_from_vocab (bool, optional): initalizes from default vocab. Defaults to True.\n",
        "        \"\"\"\n",
        "        super(SoftEmbedding, self).__init__()\n",
        "        self.wte = wte\n",
        "        self.n_tokens = n_tokens\n",
        "        self.learned_embedding = nn.parameter.Parameter(self.initialize_embedding(wte,\n",
        "                                                                               n_tokens,\n",
        "                                                                               random_range,\n",
        "                                                                               initialize_from_vocab))\n",
        "\n",
        "    def initialize_embedding(self,\n",
        "                             wte: nn.Embedding,\n",
        "                             n_tokens: int = 10,\n",
        "                             random_range: float = 0.5,\n",
        "                             initialize_from_vocab: bool = True):\n",
        "        \"\"\"initializes learned embedding\n",
        "        Args:\n",
        "            same as __init__\n",
        "        Returns:\n",
        "            torch.float: initialized using original schemes\n",
        "        \"\"\"\n",
        "        if initialize_from_vocab:\n",
        "            return self.wte.weight[:n_tokens].clone().detach()\n",
        "        return torch.FloatTensor(n_tokens, wte.weight.size(1)).uniform_(-random_range, random_range)\n",
        "\n",
        "    def forward(self, tokens):\n",
        "        \"\"\"run forward pass\n",
        "        Args:\n",
        "            tokens (torch.long): input tokens before encoding\n",
        "        Returns:\n",
        "            torch.float: encoding of text concatenated with learned task specifc embedding\n",
        "        \"\"\"\n",
        "        # The first n_tokens embeddings are reserved for the learned embeddings\n",
        "        # The rest of the embeddings are the original GPT-2 embeddings\n",
        "        input_embedding = self.wte(tokens[:, self.n_tokens:])\n",
        "        learned_embedding = self.learned_embedding.repeat(input_embedding.size(0), 1, 1)\n",
        "        return torch.cat([learned_embedding, input_embedding], 1)"
      ]
    },
    {
      "cell_type": "code",
      "execution_count": null,
      "metadata": {
        "id": "3TWAX7kEU7ri",
        "colab": {
          "base_uri": "https://localhost:8080/",
          "height": 301,
          "referenced_widgets": [
            "33c01522d09e4fb78aedbd92c90b1e9c",
            "ab94686f622848b6942b08e49d8f4e78",
            "861f2b8f1ed049d680460dfcabddd163",
            "aea32382af914c2ca5fb87c0f547edeb",
            "5857c672d65d47aa800dbfcbaee89454",
            "1697e0ae4eb34b43b0ae542d4dcca878",
            "0b2e097c6c03428496160967ac3b0e5d",
            "1ba4f702a8b54be1b96202d2e8fa852b",
            "91ca6c9b313a4f648f24f35f3a3499ee",
            "894250f5e631499cb89b992fefe050fb",
            "515d8cd9fc0e467f833efa96d5b012d9",
            "cc63312e0f78483297d066c2606e5ac9",
            "b95b482ea6864d99a73b0d094fc85cce",
            "019eeee08a484769b441370dc4ecdbf3",
            "931e31e26fc048bd811f51bf35d5c2d4",
            "d56d380da9934769bd1ad855dc9ebed4",
            "a0afe81219c4480dbf9e4ac641a5beb3",
            "e866e9be0f2945b181a1a7a0ec311dd5",
            "ee10bcf3c4a74f61a469eaaaeb192599",
            "3b886e9b47c94113a27a76080a2eeace",
            "5651718c69e44c849680576fe491c30b",
            "833783cf306549c98bce930d46f669f4",
            "160f4a60e05e4d09bb83d03a0f746e84",
            "3d43ad903ac04282bf9ef141dec8d8d6",
            "b04d984e47204bd79e5d0b24d94d25c2",
            "984469ccaabb42cc91b6fb60910ffbc8",
            "fe0742457a834de4b24787a2a5e027ec",
            "8b5c08ce6e524c9c997e70e9bcab970b",
            "5c0fe37bc1404046b8a23f7110eb164c",
            "2f814f2cb304457cab7e5f8e9121345f",
            "e93416e767f848ffa5885cb462d5e313",
            "1a5717a5d562488089f47bb95f9393bb",
            "8948853c50714ebcadcbfc71b5c9dc5e",
            "e9f2d1df4a414e3d9fa58addb470fd22",
            "db47a40e099e474485ac02620d2e8a62",
            "21cd2231e19a47f2b4df0931772ef431",
            "960291d9812f43ea9398331087ed41d7",
            "20cba768c9b34a1eb858fe0bbb7a2911",
            "bc67f0bd900642f38bfa08c6be25f86b",
            "5242cc6275244723aa8f69b9380b7617",
            "4f061cd9db234eb5be6abb5e092fb7d1",
            "d657d21e7fb343b2a728052952bd0359",
            "56ff6670e2fb4fda8da9d2194a91347a",
            "d3e4a64d297f4f58a699f1c472908612",
            "fc96e1d076d1466a9dc178985bdbafaa",
            "81e86e40e6ab4cc5af571959e659b733",
            "54f9d25a83834e3d975e37b3b1f6e2c0",
            "1b666ba9c14a4510adfbc94a8e931093",
            "ef8d049db1e04c0f8669fc785d140d38",
            "f56fa3a4c55340338998145410dfd305",
            "76f8658f29f54029ad751f2698196354",
            "22fbe483039f4791b4276762da1484e9",
            "ccbe30a5baa245b6ac9ee341aba24c19",
            "f4604cea7fe2494a9215f3ca61924399",
            "9b1f4c7763824ce983ffa8f62582bffb"
          ]
        },
        "outputId": "e447a3da-aa7e-4b12-e8d7-c950147688e4"
      },
      "outputs": [
        {
          "output_type": "stream",
          "name": "stderr",
          "text": [
            "/usr/local/lib/python3.11/dist-packages/huggingface_hub/utils/_auth.py:94: UserWarning: \n",
            "The secret `HF_TOKEN` does not exist in your Colab secrets.\n",
            "To authenticate with the Hugging Face Hub, create a token in your settings tab (https://huggingface.co/settings/tokens), set it as secret in your Google Colab and restart your session.\n",
            "You will be able to reuse this secret in all of your notebooks.\n",
            "Please note that authentication is recommended but still optional to access public models or datasets.\n",
            "  warnings.warn(\n"
          ]
        },
        {
          "output_type": "display_data",
          "data": {
            "text/plain": [
              "tokenizer_config.json:   0%|          | 0.00/26.0 [00:00<?, ?B/s]"
            ],
            "application/vnd.jupyter.widget-view+json": {
              "version_major": 2,
              "version_minor": 0,
              "model_id": "33c01522d09e4fb78aedbd92c90b1e9c"
            }
          },
          "metadata": {}
        },
        {
          "output_type": "display_data",
          "data": {
            "text/plain": [
              "vocab.json:   0%|          | 0.00/1.04M [00:00<?, ?B/s]"
            ],
            "application/vnd.jupyter.widget-view+json": {
              "version_major": 2,
              "version_minor": 0,
              "model_id": "cc63312e0f78483297d066c2606e5ac9"
            }
          },
          "metadata": {}
        },
        {
          "output_type": "display_data",
          "data": {
            "text/plain": [
              "merges.txt:   0%|          | 0.00/456k [00:00<?, ?B/s]"
            ],
            "application/vnd.jupyter.widget-view+json": {
              "version_major": 2,
              "version_minor": 0,
              "model_id": "160f4a60e05e4d09bb83d03a0f746e84"
            }
          },
          "metadata": {}
        },
        {
          "output_type": "display_data",
          "data": {
            "text/plain": [
              "tokenizer.json:   0%|          | 0.00/1.36M [00:00<?, ?B/s]"
            ],
            "application/vnd.jupyter.widget-view+json": {
              "version_major": 2,
              "version_minor": 0,
              "model_id": "e9f2d1df4a414e3d9fa58addb470fd22"
            }
          },
          "metadata": {}
        },
        {
          "output_type": "display_data",
          "data": {
            "text/plain": [
              "config.json:   0%|          | 0.00/665 [00:00<?, ?B/s]"
            ],
            "application/vnd.jupyter.widget-view+json": {
              "version_major": 2,
              "version_minor": 0,
              "model_id": "fc96e1d076d1466a9dc178985bdbafaa"
            }
          },
          "metadata": {}
        }
      ],
      "source": [
        "from transformers import GPT2LMHeadModel, GPT2TokenizerFast\n",
        "tokenizer = GPT2TokenizerFast.from_pretrained(\"gpt2\", padding_side='left')\n",
        "tokenizer.pad_token=tokenizer.eos_token\n",
        "device = torch.device(\"cuda\" if torch.cuda.is_available() else \"cpu\")\n",
        "n_tokens = 100\n",
        "\n",
        "def initialize_soft_model():\n",
        "    model = GPT2LMHeadModel.from_pretrained('gpt2')\n",
        "\n",
        "    initialize_from_vocab = True\n",
        "\n",
        "    # Set the input embeddings to the GPT2 model\n",
        "    s_wte = SoftEmbedding(model.get_input_embeddings(),\n",
        "                        n_tokens=n_tokens,\n",
        "                        initialize_from_vocab=initialize_from_vocab)\n",
        "    model.set_input_embeddings(s_wte)\n",
        "    model.to(device)\n",
        "    return model\n",
        "\n",
        "# While we didn't need to do this for GPT-3 earlier, training the model means we need to turn the text\n",
        "# into tokens that the model can understand via the embedding layer.\n",
        "def process_dataset(dataset, mapper_fn, pad_length=119):\n",
        "    mapped_dataset = [mapper_fn(item) for item in dataset]\n",
        "    if pad_length is None:\n",
        "        out = tokenizer(mapped_dataset, return_tensors='pt', padding=True)\n",
        "    else:\n",
        "        out = tokenizer(mapped_dataset, return_tensors='pt', padding=\"max_length\", max_length=pad_length)\n",
        "    # Need to add a space as GPT differentiates between \" A\" and \"A\" and it will be predicting \" A\".\n",
        "    answerkey = [' ' + item['answerKey'] for item in dataset]\n",
        "    out['answerkey'] = tokenizer(answerkey, return_tensors='pt', max_length=1)['input_ids']\n",
        "    return out\n",
        "\n",
        "def pad_soft_inputs(inputs):\n",
        "    \"\"\"\n",
        "    We need to pad the attention_mask and input_ids with an extra n_learned_tokens\n",
        "    It does not matter what you pad input_ids with since these will be overwritten by learned embeddings\n",
        "    \"\"\"\n",
        "    batch = len(inputs['input_ids'])\n",
        "    inputs['input_ids'] = torch.cat([torch.full((batch, n_tokens), 50256).to(device), inputs['input_ids'].to(device)], 1).to(device)\n",
        "    inputs['attention_mask'] = torch.cat([torch.full((batch, n_tokens), 1).to(device), inputs['attention_mask'].to(device)], 1).to(device)\n",
        "    return inputs\n",
        "\n",
        "# Train the model\n",
        "def train_model(model, train_set, val_set, dataset_processor, batch_size=8, epochs=1, lr=1e-4, print_every=100):\n",
        "    train_dataset = process_dataset(train_set, dataset_processor)\n",
        "    val_dataset = process_dataset(val_set, dataset_processor)\n",
        "    parameters_to_train = [model.get_input_embeddings().learned_embedding]\n",
        "    optimizer = torch.optim.Adam(parameters_to_train, lr=1e-4)\n",
        "    criterion = nn.CrossEntropyLoss()\n",
        "    model.to(device)\n",
        "    model.train()\n",
        "    epoch_train_losses = []\n",
        "    for i in range(epochs):\n",
        "        epoch_loss = 0\n",
        "        for j in range(0, len(train_dataset['input_ids']), batch_size):\n",
        "            # Calculate cross entropy loss between predicted last token and actual last token\n",
        "            optimizer.zero_grad()\n",
        "            inputs = {k: v[j:j+batch_size].to(device) for k, v in train_dataset.items()}\n",
        "            inputs = pad_soft_inputs(inputs)\n",
        "            labels = inputs.pop('answerkey')\n",
        "            outputs = model(**inputs).logits[:, -1, :] # (batch_size, vocab_size)\n",
        "            loss = criterion(outputs, labels.squeeze())\n",
        "            loss.backward()\n",
        "            optimizer.step()\n",
        "            # loss calculated by criterion is averaged over batch, so multiply by batch size to get total loss\n",
        "            epoch_loss += loss.item() * labels.shape[0]\n",
        "            if j % print_every == 0:\n",
        "                print(f'Epoch {i}, Item {j}, loss: {loss.item()}')\n",
        "        epoch_loss /= train_dataset['input_ids'].shape[0]\n",
        "        epoch_train_losses.append(epoch_loss)\n",
        "\n",
        "        # Evaluate on validation set\n",
        "        model.eval()\n",
        "        val_loss = 0\n",
        "        for j in range(0, len(val_dataset['input_ids']), batch_size):\n",
        "            inputs = {k: v[j:j+batch_size].to(device) for k, v in val_dataset.items()}\n",
        "            inputs = pad_soft_inputs(inputs)\n",
        "            labels = inputs.pop('answerkey')\n",
        "            outputs = model(**inputs).logits[:, -1, :]\n",
        "            if j == 0: print(f'decoding {tokenizer.decode(outputs.argmax(dim=-1))}')\n",
        "            loss = criterion(outputs, labels.squeeze())\n",
        "            val_loss += loss.item() * labels.shape[0]\n",
        "        val_loss /= val_dataset['input_ids'].shape[0]\n",
        "        print('-'*20)\n",
        "        print(f'Epoch {i}, Validation loss: {val_loss}')\n",
        "\n",
        "\n",
        "# This function lets us sample the next token (or, in our case, the next answer) from the model.\n",
        "def generate_output(model, inputs, pad_soft=True):\n",
        "    \"\"\"\n",
        "    Given a string text or a tokenized input (or list of these, if batched), returns the model's prediction for the\n",
        "    next token in the sequence.\n",
        "    \"\"\"\n",
        "    model.eval()\n",
        "    if type(inputs) is str or type(inputs) is list and type(inputs[0]) is str:\n",
        "        inputs = tokenizer(inputs, return_tensors=\"pt\").to(device)\n",
        "\n",
        "    if pad_soft:\n",
        "        inputs = pad_soft_inputs(inputs)\n",
        "    outputs = model(**inputs).logits[0, -1, :]\n",
        "    outputs = outputs.argmax(dim=-1)\n",
        "    return tokenizer.decode(outputs)\n",
        "\n"
      ]
    },
    {
      "cell_type": "code",
      "execution_count": null,
      "metadata": {
        "id": "E4YnMpBqI45R",
        "colab": {
          "base_uri": "https://localhost:8080/"
        },
        "outputId": "5e7cd65b-fa98-4348-b67b-73b03ce52594"
      },
      "outputs": [
        {
          "output_type": "stream",
          "name": "stdout",
          "text": [
            " important\n",
            "Embedding object SoftEmbedding(\n",
            "  (wte): Embedding(50257, 768)\n",
            ")\n",
            "Learned embeddings torch.Size([100, 768])\n",
            "Original vocab embeddings torch.Size([50257, 768])\n"
          ]
        }
      ],
      "source": [
        "model = initialize_soft_model()\n",
        "hard_embedding_model = GPT2LMHeadModel.from_pretrained('gpt2').to(device)\n",
        "print(generate_output(hard_embedding_model, 'Deep learning is an', pad_soft=False))\n",
        "\n",
        "# Print out the embeddings so you can see their shpaes\n",
        "print('Embedding object', model.get_input_embeddings())\n",
        "print('Learned embeddings', model.get_input_embeddings().learned_embedding.shape)\n",
        "print('Original vocab embeddings', model.get_input_embeddings().wte.weight.shape)"
      ]
    },
    {
      "cell_type": "code",
      "execution_count": null,
      "metadata": {
        "id": "UCZQZU17XuJi",
        "colab": {
          "base_uri": "https://localhost:8080/"
        },
        "outputId": "dd929c4b-3f5f-41d1-edbd-528a62a99cfe"
      },
      "outputs": [
        {
          "output_type": "stream",
          "name": "stderr",
          "text": [
            "Truncation was not explicitly activated but `max_length` is provided a specific value, please use `truncation=True` to explicitly truncate examples to max length. Defaulting to 'longest_first' truncation strategy. If you encode pairs of sequences (GLUE-style) with the tokenizer you can select this strategy more precisely by providing a specific strategy to `truncation`.\n"
          ]
        },
        {
          "output_type": "stream",
          "name": "stdout",
          "text": [
            "Epoch 0, Item 0, loss: 5.391863822937012\n",
            "Epoch 0, Item 200, loss: 5.4052629470825195\n",
            "Epoch 0, Item 400, loss: 5.828929424285889\n",
            "Epoch 0, Item 600, loss: 5.44577169418335\n",
            "Epoch 0, Item 800, loss: 5.050631999969482\n",
            "Epoch 0, Item 1000, loss: 4.415789604187012\n",
            "Epoch 0, Item 1200, loss: 5.815289497375488\n",
            "Epoch 0, Item 1400, loss: 5.204868316650391\n",
            "Epoch 0, Item 1600, loss: 4.6779022216796875\n",
            "Epoch 0, Item 1800, loss: 4.580889701843262\n",
            "Epoch 0, Item 2000, loss: 4.182481288909912\n",
            "Epoch 0, Item 2200, loss: 4.527665138244629\n",
            "Epoch 0, Item 2400, loss: 5.259193420410156\n",
            "Epoch 0, Item 2600, loss: 4.1292266845703125\n",
            "Epoch 0, Item 2800, loss: 4.780576229095459\n",
            "Epoch 0, Item 3000, loss: 3.916512966156006\n",
            "Epoch 0, Item 3200, loss: 4.121880531311035\n",
            "Epoch 0, Item 3400, loss: 3.6142380237579346\n",
            "Epoch 0, Item 3600, loss: 4.1729817390441895\n",
            "Epoch 0, Item 3800, loss: 3.553046464920044\n",
            "Epoch 0, Item 4000, loss: 3.1329822540283203\n",
            "Epoch 0, Item 4200, loss: 3.1040170192718506\n",
            "Epoch 0, Item 4400, loss: 3.2346010208129883\n",
            "Epoch 0, Item 4600, loss: 2.516951560974121\n",
            "Epoch 0, Item 4800, loss: 2.3702778816223145\n",
            "Epoch 0, Item 5000, loss: 2.613013505935669\n",
            "Epoch 0, Item 5200, loss: 2.097623825073242\n",
            "Epoch 0, Item 5400, loss: 2.1528539657592773\n",
            "Epoch 0, Item 5600, loss: 1.957087516784668\n",
            "Epoch 0, Item 5800, loss: 2.3026368618011475\n",
            "Epoch 0, Item 6000, loss: 2.0273776054382324\n",
            "Epoch 0, Item 6200, loss: 2.036275625228882\n",
            "Epoch 0, Item 6400, loss: 1.841245174407959\n",
            "Epoch 0, Item 6600, loss: 1.8176183700561523\n",
            "Epoch 0, Item 6800, loss: 1.996833324432373\n",
            "Epoch 0, Item 7000, loss: 1.8450117111206055\n",
            "Epoch 0, Item 7200, loss: 1.873474359512329\n",
            "Epoch 0, Item 7400, loss: 1.8176746368408203\n",
            "Epoch 0, Item 7600, loss: 1.7928850650787354\n",
            "Epoch 0, Item 7800, loss: 1.762100338935852\n",
            "Epoch 0, Item 8000, loss: 2.065112829208374\n",
            "Epoch 0, Item 8200, loss: 1.8667445182800293\n",
            "Epoch 0, Item 8400, loss: 1.8239667415618896\n",
            "Epoch 0, Item 8600, loss: 1.789023518562317\n",
            "Epoch 0, Item 8800, loss: 1.6681327819824219\n",
            "Epoch 0, Item 9000, loss: 1.65049409866333\n",
            "Epoch 0, Item 9200, loss: 1.7699270248413086\n",
            "Epoch 0, Item 9400, loss: 1.7110977172851562\n",
            "Epoch 0, Item 9600, loss: 1.7541645765304565\n",
            "decoding  C D C C D D C C\n",
            "--------------------\n",
            "Epoch 0, Validation loss: 1.6656882999179599\n",
            "Epoch 1, Item 0, loss: 1.6786623001098633\n",
            "Epoch 1, Item 200, loss: 1.6974629163742065\n",
            "Epoch 1, Item 400, loss: 1.7460827827453613\n",
            "Epoch 1, Item 600, loss: 1.6875970363616943\n",
            "Epoch 1, Item 800, loss: 1.6168153285980225\n",
            "Epoch 1, Item 1000, loss: 1.540570616722107\n",
            "Epoch 1, Item 1200, loss: 1.7620999813079834\n",
            "Epoch 1, Item 1400, loss: 1.6298881769180298\n",
            "Epoch 1, Item 1600, loss: 1.6795390844345093\n",
            "Epoch 1, Item 1800, loss: 1.6888482570648193\n",
            "Epoch 1, Item 2000, loss: 1.6698917150497437\n",
            "Epoch 1, Item 2200, loss: 1.6338717937469482\n",
            "Epoch 1, Item 2400, loss: 1.6292308568954468\n",
            "Epoch 1, Item 2600, loss: 1.6409344673156738\n",
            "Epoch 1, Item 2800, loss: 1.6205804347991943\n",
            "Epoch 1, Item 3000, loss: 1.5696519613265991\n",
            "Epoch 1, Item 3200, loss: 1.6478384733200073\n",
            "Epoch 1, Item 3400, loss: 1.6525382995605469\n",
            "Epoch 1, Item 3600, loss: 1.6160781383514404\n",
            "Epoch 1, Item 3800, loss: 1.636609673500061\n",
            "Epoch 1, Item 4000, loss: 1.6990593671798706\n",
            "Epoch 1, Item 4200, loss: 1.6441051959991455\n",
            "Epoch 1, Item 4400, loss: 1.6212799549102783\n",
            "Epoch 1, Item 4600, loss: 1.6842224597930908\n",
            "Epoch 1, Item 4800, loss: 1.5777671337127686\n",
            "Epoch 1, Item 5000, loss: 1.6179496049880981\n",
            "Epoch 1, Item 5200, loss: 1.6179602146148682\n",
            "Epoch 1, Item 5400, loss: 1.595233678817749\n",
            "Epoch 1, Item 5600, loss: 1.7084853649139404\n",
            "Epoch 1, Item 5800, loss: 1.6909624338150024\n",
            "Epoch 1, Item 6000, loss: 1.645869493484497\n",
            "Epoch 1, Item 6200, loss: 1.6816189289093018\n",
            "Epoch 1, Item 6400, loss: 1.6251276731491089\n",
            "Epoch 1, Item 6600, loss: 1.6858011484146118\n",
            "Epoch 1, Item 6800, loss: 1.6967066526412964\n",
            "Epoch 1, Item 7000, loss: 1.6572117805480957\n",
            "Epoch 1, Item 7200, loss: 1.6299986839294434\n",
            "Epoch 1, Item 7400, loss: 1.6680487394332886\n",
            "Epoch 1, Item 7600, loss: 1.6184625625610352\n",
            "Epoch 1, Item 7800, loss: 1.6733874082565308\n",
            "Epoch 1, Item 8000, loss: 1.6592453718185425\n",
            "Epoch 1, Item 8200, loss: 1.5955545902252197\n",
            "Epoch 1, Item 8400, loss: 1.6751097440719604\n",
            "Epoch 1, Item 8600, loss: 1.541305422782898\n",
            "Epoch 1, Item 8800, loss: 1.5992326736450195\n",
            "Epoch 1, Item 9000, loss: 1.6357178688049316\n",
            "Epoch 1, Item 9200, loss: 1.5810837745666504\n",
            "Epoch 1, Item 9400, loss: 1.624216079711914\n",
            "Epoch 1, Item 9600, loss: 1.6627436876296997\n",
            "decoding  A B B B B E C B\n",
            "--------------------\n",
            "Epoch 1, Validation loss: 1.6208749764479153\n"
          ]
        }
      ],
      "source": [
        "prompt_strategy = 'qa_instruction'\n",
        "if prompt_strategy not in prompt_strategies:\n",
        "    print('prompt strategy must be one of', [i for i in prompt_strategies])\n",
        "else:\n",
        "    prompt_strategy = prompt_strategies[prompt_strategy]\n",
        "    train_model(model, train_set, val_set, prompt_strategy, batch_size=8, epochs=2) # you can reduce the batch size if you run out of memory\n"
      ]
    },
    {
      "cell_type": "code",
      "execution_count": null,
      "metadata": {
        "id": "xWzIveVzI45R"
      },
      "outputs": [],
      "source": [
        "# Save the model to a pickle file (If your runtime crashes, you can load the model from this file)\n",
        "with open('soft_embeddings_model_qa.pkl', 'wb') as f:\n",
        "    pkl.dump(model, f)"
      ]
    },
    {
      "cell_type": "markdown",
      "metadata": {
        "id": "TorOKrwaI45R"
      },
      "source": [
        "Compare the performance of the model with hard prompting and with soft prompt tuning. If your implementation is correct, you should get around 21% correct and 0% invalid with the soft prompt. Answer the analysis questions in the written portion of the assignment."
      ]
    },
    {
      "cell_type": "code",
      "execution_count": null,
      "metadata": {
        "id": "3J3PS-70U7rj",
        "colab": {
          "base_uri": "https://localhost:8080/"
        },
        "outputId": "17c927a9-aecc-49c1-ce4b-ac4234013e50"
      },
      "outputs": [
        {
          "output_type": "stream",
          "name": "stdout",
          "text": [
            "Answer the following question with A, B, C, D, or E.\n",
            "Question: The surgeon's clients had begun to reduce, it seemed girls no longer want to what?\n",
            "Choice A: reduction\n",
            "Choice B: make larger\n",
            "Choice C: augment\n",
            "Choice D: gain weight\n",
            "Choice E: expand\n",
            "Answer:\n",
            "gt: C. model1: ' B'. model2: ' The'\n",
            "--------------------\n",
            "Answer the following question with A, B, C, D, or E.\n",
            "Question: The teacher knew her students understood division, what was she hoping they would learn next?\n",
            "Choice A: multiplication\n",
            "Choice B: multiply\n",
            "Choice C: putting together\n",
            "Choice D: unity\n",
            "Choice E: pay debts\n",
            "Answer:\n",
            "gt: A. model1: ' A'. model2: ' The'\n",
            "--------------------\n",
            "Answer the following question with A, B, C, D, or E.\n",
            "Question: What would you do to a rock when climb up a cliff?\n",
            "Choice A: grab\n",
            "Choice B: look down\n",
            "Choice C: throw\n",
            "Choice D: falling\n",
            "Choice E: may fall\n",
            "Answer:\n",
            "gt: A. model1: ' A'. model2: ' A'\n",
            "--------------------\n",
            "Answer the following question with A, B, C, D, or E.\n",
            "Question: To see new films you must?\n",
            "Choice A: open eyes\n",
            "Choice B: go to movies\n",
            "Choice C: kick ball\n",
            "Choice D: make art\n",
            "Choice E: look for\n",
            "Answer:\n",
            "gt: B. model1: ' A'. model2: ' To'\n",
            "--------------------\n",
            "Answer the following question with A, B, C, D, or E.\n",
            "Question: On a hot day what can you do to enjoy something cool and sweet?\n",
            "Choice A: dive\n",
            "Choice B: cool off\n",
            "Choice C: fresh cake\n",
            "Choice D: go for swim\n",
            "Choice E: eat ice cream\n",
            "Answer:\n",
            "gt: E. model1: ' A'. model2: ' On'\n",
            "--------------------\n"
          ]
        }
      ],
      "source": [
        "#@title Let's compare a few examples from our prompts\n",
        "def compare_models(model1, model1_pad_soft, model2, model2_pad_soft, dataset, dataset_processor, n_entries=5):\n",
        "    processed_set = process_dataset(dataset, dataset_processor)\n",
        "    for i in range(n_entries):\n",
        "        data_point_idx = np.random.choice(len(dataset))\n",
        "        point = dataset[data_point_idx]\n",
        "        processed_point = processed_set[data_point_idx]\n",
        "        prompt = dataset_processor(point)\n",
        "        print(prompt)\n",
        "        output1 = generate_output(model1, dataset_processor(point), pad_soft=model1_pad_soft)\n",
        "        output2 = generate_output(model2, dataset_processor(point), pad_soft=model2_pad_soft)\n",
        "        print(f'gt: {point[\"answerKey\"]}. model1: {repr(output1)}. model2: {repr(output2)}')\n",
        "        print('-' * 20)\n",
        "\n",
        "\n",
        "compare_models(model, True, hard_embedding_model, False, val_set, prompt_strategy)"
      ]
    },
    {
      "cell_type": "code",
      "execution_count": null,
      "metadata": {
        "id": "cfXUEeJmU7rj"
      },
      "outputs": [],
      "source": [
        "#@title Bar plot the distribution of incorrect answers, invalid answers, and correct answers\n",
        "def get_answer_stats(model, dataset, dataset_processor, verbose, pad_soft):\n",
        "    processed_set = process_dataset(dataset, dataset_processor)\n",
        "    correct = 0\n",
        "    incorrect = 0\n",
        "    invalid = 0\n",
        "    for i in range(len(dataset)):\n",
        "        inputs = {k: v[i:i+1].to(device) for k, v in processed_set.items()}\n",
        "        point = dataset[i]\n",
        "        prompt = dataset_processor(point)\n",
        "        label = inputs.pop('answerkey')\n",
        "        output = generate_output(model, inputs, pad_soft).strip()\n",
        "        if verbose: print(f'Prompt: {prompt}, output: |{output}|, answerkey |{point[\"answerKey\"]}|')\n",
        "        if output == point[\"answerKey\"]:\n",
        "            correct += 1\n",
        "        elif output in ['A', 'B', 'C', 'D', 'E'] or not point['answerKey'] in ['A', 'B', 'C', 'D', 'E']:\n",
        "            incorrect += 1\n",
        "        else:\n",
        "            invalid += 1\n",
        "    correct, incorrect, invalid = correct/len(dataset), incorrect/len(dataset), invalid/len(dataset)\n",
        "    return correct, incorrect, invalid\n",
        "\n",
        "def plot_answer_stats(model, dataset, dataset_processor, verbose=False, pad_soft=True):\n",
        "    correct, incorrect, invalid = get_answer_stats(model, dataset, dataset_processor, verbose, pad_soft)\n",
        "    plt.bar(['correct', 'incorrect', 'invalid'], [correct, incorrect, invalid])\n",
        "    plt.title('Answer distribution')\n",
        "    plt.show()"
      ]
    },
    {
      "cell_type": "code",
      "execution_count": null,
      "metadata": {
        "id": "4F-l72jcU7rj",
        "colab": {
          "base_uri": "https://localhost:8080/",
          "height": 452
        },
        "outputId": "e27ba5c8-5eae-49aa-b404-acf056363d32"
      },
      "outputs": [
        {
          "output_type": "display_data",
          "data": {
            "text/plain": [
              "<Figure size 640x480 with 1 Axes>"
            ],
            "image/png": "[encoded data removed]"
          },
          "metadata": {}
        }
      ],
      "source": [
        "plot_answer_stats(model, val_set, prompt_strategy, verbose=False, pad_soft=True)"
      ]
    },
    {
      "cell_type": "code",
      "execution_count": null,
      "metadata": {
        "id": "5ZY_SuePeBK4",
        "colab": {
          "base_uri": "https://localhost:8080/",
          "height": 452
        },
        "outputId": "9a605e8d-b23a-45ff-a825-1acae8a64f3c"
      },
      "outputs": [
        {
          "output_type": "display_data",
          "data": {
            "text/plain": [
              "<Figure size 640x480 with 1 Axes>"
            ],
            "image/png": "[encoded data removed]"
          },
          "metadata": {}
        }
      ],
      "source": [
        "plot_answer_stats(hard_embedding_model, val_set, prompt_strategies['qa_instruction'], pad_soft=False, verbose=False)"
      ]
    },
    {
      "cell_type": "code",
      "execution_count": null,
      "metadata": {
        "id": "JGiiewORI45R"
      },
      "outputs": [],
      "source": [
        "model_soft_qa = model"
      ]
    },
    {
      "cell_type": "markdown",
      "metadata": {
        "id": "vZGRQUvdI45R"
      },
      "source": [
        "# Pluralize task\n",
        "\n",
        "As you can see above, the soft embedding model does not perform very well on this task. We'll show how soft prompting does better on a second, very simple task - pluralizing a word.\n",
        "\n",
        "The dataset we use was found here, and consists of a list of English nouns: https://www.kaggle.com/datasets/leite0407/list-of-nouns?select=nounlist.csv.\n",
        "For simplicity, we will only consider words where the output is a single token (to avoid needing to deal with sequential generation for evaluation), but you could adapt the code to generate arbitrarily long outputs.\n",
        "\n",
        "If you get memory errors when running this part, re-run the notebook while skipping loading the previous dataset and soft model.\n",
        "\n",
        "\n",
        "!! If you run into an error during training complaining about batch size dimensions, this is an edge-case issue where we get errors when the last batch in an epoch length 1. You can fix this by removing the item in the train set. !!"
      ]
    },
    {
      "cell_type": "code",
      "execution_count": null,
      "metadata": {
        "id": "dBi3QVllI45R",
        "colab": {
          "base_uri": "https://localhost:8080/"
        },
        "outputId": "c50cde8a-f60b-4190-c394-b2cbb03a4fdf"
      },
      "outputs": [
        {
          "output_type": "stream",
          "name": "stdout",
          "text": [
            "  % Total    % Received % Xferd  Average Speed   Time    Time     Time  Current\n",
            "                                 Dload  Upload   Total   Spent    Left  Speed\n",
            "  0     0    0     0    0     0      0      0 --:--:-- --:--:-- --:--:--     0\n",
            "100 22376  100 22376    0     0  53168      0 --:--:-- --:--:-- --:--:-- 53168\n"
          ]
        }
      ],
      "source": [
        "!curl -L -o list-of-nouns.zip https://www.kaggle.com/api/v1/datasets/download/leite0407/list-of-nouns"
      ]
    },
    {
      "cell_type": "code",
      "source": [
        "!unzip list-of-nouns.zip"
      ],
      "metadata": {
        "colab": {
          "base_uri": "https://localhost:8080/"
        },
        "id": "4scKqVfntptS",
        "outputId": "0d788e76-54ac-4661-a72b-70d7af59f75f"
      },
      "execution_count": null,
      "outputs": [
        {
          "output_type": "stream",
          "name": "stdout",
          "text": [
            "Archive:  list-of-nouns.zip\n",
            "  inflating: nounlist.csv            \n"
          ]
        }
      ]
    },
    {
      "cell_type": "markdown",
      "metadata": {
        "id": "FzAeBRBFI45R"
      },
      "source": [
        "We'll create targets for this dataset using the inflect library, which is a Python library for inflecting English words. You can read more about it here: https://pypi.org/project/inflect/. This library can convert word to plural forms (though it is not 100% reliable)."
      ]
    },
    {
      "cell_type": "code",
      "execution_count": null,
      "metadata": {
        "id": "X2gUrggh_XAl",
        "colab": {
          "base_uri": "https://localhost:8080/"
        },
        "outputId": "77809b4c-28ad-4ae0-a648-50ae74471dc7"
      },
      "outputs": [
        {
          "output_type": "stream",
          "name": "stdout",
          "text": [
            "['pathogenesis', 'pitcher', 'occasion', 'reactant', 'laugh', 'rehospitalization', 'abbreviation', 'probability', 'comradeship', 'handsaw', 'mineshaft', 'surfboard', 'lender', 'formamide', 'obsidian', 'towel', 'soap', 'mattress', 'attention', 'doorway', 'demur', 'haste', 'ukulele', 'blackboard', 'facet', 'clause', 'enrollment', 'visitor', 'revitalisation', 'feng', 'con', 'program', 'wake', 'grass', 'weekend', 'script', 'purr', 'darkness', 'hut', 'sucker', 'platinum', 'west', 'cricketer', 'swallow', 'hop', 'obesity', 'hiring', 'typeface', 'temptation', 'protection', 'mechanism', 'carload', 'burrow', 'cabbage', 'thread', 'hatbox', 'wick', 'mailbox', 'catalyst', 'legal', 'tramp', 'upstairs', 'graft', 'utilisation', 'march', 'zoot-suit', 'yawl', 'candle', 'tintype', 'cultivator', 'minimalism', 'arcade', 'almighty', 'scarf', 'segment', 'pet', 'shortwave', 'prosecution', 'reminder', 'mop', 'traditionalism', 'chop', 'grandparent', 'caviar', 'cruelty', 'pioneer', 'prune', 'slave', 'flute', 'evaporation', 'jury', 'subway', 'fourths', 'carnation', 'flood', 'sculptural', 'door', 'louse', 'scrambled', 'headlight', 'ray', 'sound', 'fall', 'doc', 'manhunt', 'standardisation', 'sideburns', 'onset', 'intestine', 'pilot', 'fusarium', 'harmonize', 'swath', 'vanity', 'rocker', 'company', 'sentencing', 'dead', 'observatory', 'sandal', 'sulfur', 'drainage', 'fan', 'cenotaph', 'evocation', 'orchestra', 'noon', 'ram', 'seashore', 'bloodflow', 'tiara', 'worry', 'judgment', 'timeout', 'crab', 'sandpaper', 'choosing', 'hair', 'brunch', 'sickness', 'polarisation', 'viola', 'pen', 'drummer', 'shortage', 'inside', 'member', 'document', 'leopard', 'threat', 'motivation', 'snowplow', 'control', 'bunch', 'oleo', 'dollop', 'vitamin', 'section', 'briefing', 'goodbye', 'joey', 'skullduggery', 'router', 'loss', 'weed', 'human', 'mantel', 'drink', 'sombrero', 'line', 'roundabout', 'step-grandfather', 'saviour', 'figure', 'sponge', 'baby', 'uncle', 'network', 'copy', 'inclusion', 'peanut', 'vermicelli', 'allowance', 'safeguard', 'wisdom', 'ice', 'badge', 'sun', 'credit', 'meal', 'craw', 'force', 'marketplace', 'delivery', 'labor', 'sunglasses', 'existence', 'woodland', 'visor', 'fig', 'language', 'headache', 'certainty', 'breeze', 'heart-throb', 'wit', 'thistle', 'forte', 'repeat', 'hour', 'saucer', 'assistance', 'drama', 'supporter', 'dark', 'manipulation', 'harp', 'displacement', 'receiver', 'tour', 'ignorance', 'housework', 'symmetry', 'cornet', 'mouse', 'creative', 'fang', 'mustard', 'kiwi', 'policy', 'outrage', 'area', 'membership', 'neuropathologist', 'stroke', 'subgroup', 'initialize', 'siege', 'sideboard', 'thief', 'moai', 'quicksand', 'communion', 'cynic', 'fright', 'sequence', 'alien', 'waste', 'instance', 'duration', 'monocle', 'spandex', 'cookbook', 'tail', 'afoul', 'domain', 'rebel', 'psychoanalyst', 'premium', 'download', 'curry', 'backyard', 'address', 'fire', 'failure', 'curtailment', 'fisting', 'vibe', 'spat', 'motorcar', 'mixer', 'tension', 'binoculars', 'exhaustion', 'understatement', 'puritan', 'everyone', 'winner', 'bijou', 'parameter', 'freight', 'dredger', 'honey', 'interferometer', 'flytrap', 'attitude', 'wharf', 'papa', 'skull', 'terrorist', 'painting', 'thunderstorm', 't-shirt', 'tankful', 'concert', 'salon', 'well-being', 'schedule', 'sensor', 'panties', 'codepage', 'potential', 'trash', 'spotlight', 'retreat', 'cook', 'cable', 'recovery', 'waistband', 'sand', 'slime', 'grocery', 'text', 'casket', 'enigma', 'liberty', 'size', 'identity', 'sunrise', 'apparatus', 'blowhole', 'fruit', 'neighborhood', 'forage', 'uniformity', 'analogue', 'butane', 'lead', 'anesthesiology', 'puggle', 'opera', 'black', 'bull-fighter', 'behest', 'thickness', 'lentil', 'operator', 'bureau', 'idiot', 'luxury', 'outfielder', 'programme', 'negotiation', 'prescription', 'carport', 'health', 'pantology', 'slippers', 'coverage', 'integer', 'payment', 'average', 'detainment', 'waiver', 'controversy', 'editorial', 'evening', 'siding', 'effacement', 'deduce', 'handful', 'chops', 'economics', 'digger', 'miter', 'guidance', 'wish', 'hugger', 'newsstand', 'sponsor', 'ban', 'actor', 'game', 'dissonance', 'legislator', 'verse', 'refund', 'fava', 'hedge', 'avenue', 'press', 'solution', 'originality', 'cousin', 'refuge', 'secrecy', 'wiseguy', 'justification', 'dwarf', 'planter', 'peripheral', 'trooper', 'devastation', 'stylus', 'dynamite', 'ex-husband', 'countryside', 'mule', 'ignorant', 'fireman', 'stress', 'spacing', 'shoelace', 'tunnel', 'piece', 'wildebeest', 'cub', 'violet', 'alcohol', 'mini', 'missionary', 'sheep', 'lode', 'conduct', 'icebreaker', 'fringe', 'aftermath', 'credential', 'snack', 'chin', 'help', 'behaviour', 'notation', 'volunteer', 'campaigning', 'sturgeon', 'checkout', 'pard', 'attainment', 'candidate', 'markup', 'broadcast', 'coordinator', 'emergence', 'aluminium', 'disengagement', 'calibre', 'delay', 'subtitle', 'normalisation', 'claim', 'great-grandfather', 'trip', 'appointment', 'photodiode', 'margin', 'dilapidation', 'frog', 'neuropsychiatry', 'cod', 'eddy', 'congo', 'builder', 'joy', 'celsius', 'pond', 'packet', 'investor', 'issue', 'venison', 'editor', 'grace', 'inglenook', 'subsidy', 'couple', 'heart', 'sweat', 'tortellini', 'asymmetry', 'eponym', 'credenza', \"tam-o'-shanter\", 'depression', 'eating', 'denim', 'fly', 'verve', 'loading', 'eraser', 'duel', 'flume', 'professional', 'subcomponent', 'botany', 'rifle', 'salad', 'trafficker', 'congressman', 'veldt', 'chronicle', 'algebra', 'turmeric', 'halibut', 'trout', 'mathematics', 'uniform', 'potato', 'compromise', 'reorganization', 'fail', 'follower', 'roar', 'pecker', 'invite', 'chain', 'technician', 'cupola', 'hydrolyze', 'corn', 'merchant', 'charger', 'tune-up', 'bump', 'elephant', 'tangerine', 'armoire', 'channel', 'waveform', 'cemetery', 'mortgage', 'advice', 'twig', 'gym', 'mimosa', 'drum', 'guilt', 'auto', 'extinction', 'incision', 'waterwheel', 'creation', 'stuff', 'mattock', 'destination', 'symptom', 'cherry', 'ring', 'lumber', 'illegal', 'sustenance', 'plug', 'melody', 'display', 'tinkle', 'use', 'skiing', 'plot', 'premier', 'altitude', 'marten', 'pate', 'beard', 'cluster', 'mycoplasma', 'zinc', 'ottoman', 'plantation', 'overcharge', 'garbage', 'diner', 'executor', 'programming', 'unemployment', 'sub', 'stitch', 'woman', 'distortion', 'handball', 'fertilizer', 'knife-edge', 'fighter', 'rent', 'milkshake', 'survey', 'waterfront', 'pine', 'art', 'geology', 'employer', 'basket', 'authorisation', 'lox', 'kale', 'anxiety', 'otter', 'road', 'check', 'genie', 'raffle', 'boysenberry', 'producer', 'oar', 'collateral', 'cheese', 'hockey', 'lid', 'diam', 'osprey', 'fedelini', 'zoology', 'baggie', 'baggage', 'nightclub', 'adverb', 'chemistry', 'expectation', 'bartender', 'fame', 'protein', 'margarine', 'retention', 'cappuccino', 'suicide', 'freelance', 'blueberry', 'blister', 'bitter', 'opportunity', 'withdrawal', 'counselling', 'hurry', 'snowman', 'gratitude', 'fantasy', 'nymph', 'licensing', 'coincidence', 'trick', 'grenade', 'prompt', 'rethinking', 'snorer', 'literature', 'morbid', 'mailman', 'still', 'locker', 'aglet', 'essence', 'default', 'gall-bladder', 'barbeque', 'productivity', 'junket', 'fundraising', 'octopus', 'barrage', 'clay', 'brother', 'constellation', 'portfolio', 'cement', 'pride', 'intent', 'special', 'avalanche', 'flavor', 'enjoyment', 'spill', 'serum', 'birch', 'flat', 'mercury', 'industry', 'wardrobe', 'suggestion', 'girlfriend', 'notion', 'mitten', 'chestnut', 'tonality', 'procurement', 'deviation', 'footstep', 'legacy', 'bloomer', 'marionberry', 'fortress', 'mouton', 'wont', 'passing', 'resolve', 'alliance', 'army', 'fetus', 'tab', 'pun', 'scale', 'clarity', 'training', 'word', 'fate', 'essay', 'exchange', 'receipt', 'dart', 'paragraph', 'man', 'brass', 'sherry', 'eve', 'goodie', 'confidentiality', 'boulevard', 'trigger', 'salmon', 'impairment', 'jodhpurs', 'princess', 'export', 'principal', 'mid-course', 'peer-to-peer', 'understanding', 'sister-in-law', 'liar', 'shopper', 'kind', 'sweater', 'casualty', 'example', 'sensibility', 'latte', 'dickey', 'nanoparticle', 'underpass', 'verdict', 'metallurgist', 'licence', 'unique', 'donation', 'slot', 'rescue', 'aquifer', 'parenting', 'peacock', 'eel', 'accessory', 'ape', 'dune', 'gazelle', 'dioxide', 'termination', 'chandelier', 'electronics', 'pressurization', 'bride', 'variation', 'snail', 'offset', 'shoe', 'petal', 'exploration', 'effective', 'money', 'switching', 'implementation', 'plastic', 'battleship', 'recapitulation', 'basin', 'hospitality', 'sprinkles', 'nucleotidase', 'speedboat', 'brief', 'sled', 'cookie', 'ease', 'filth', 'outcome', 'blouse', 'prow', 'chance', 'prizefight', 'assurance', 'forehead', 'engine', 'contrast', 'brisket', 'damage', 'evaluation', 'fiction', 'middleman', 'being', 'commotion', 'air', 'lottery', 'science', 'expert', 'hunchback', 'barstool', 'populist', 'coal', 'parrot', 'solidity', 'starter', 'truth', 'maintainer', 'pharmacist', 'sunset', 'niece', 'selling', 'dome', 'aunt', 'quality', 'disposer', 'grade', 'randomization', 'incandescence', 'wraparound', 'other', 'saloon', 'burn', 'investment', 'interest', 'tailspin', 'nitrogen', 'hyena', 'mare', 'footwear', 'chuck', 'position', 'gambling', 'village', 'kilt', 'algorithm', 'valentine', 'plan', 'echidna', 'almanac', 'willingness', 'keep', 'squash', 'justice', 'loft', 'gran', 'water', 'beetle', 'linen', 'dash', 'change', 'sausage', 'mallet', 'tablecloth', 'relation', 'variability', 'alpenglow', 'matter', 'goddess', 'absence', 'chopsticks', 'horse', 'election', 'jacket', 'inverse', 'acid', 'journey', 'suspenders', 'dresser', 'optimal', 'mosque', 'tomorrow', 'cleft', 'cot', 'butter', 'amazon', 'boar', 'dimension', 'animal', 'dispatch', 'voting', 'riverbed', 'architect', 'in-laws', 'calculation', 'slump', 'chivalry', 'grip', 'tarragon', 'field', 'mound', 'simple', 'tower', 'dump', 'mink', 'certification', 'cashier', 'retina', 'mecca', 'belly', 'mass', 'passbook', 'lunge', 'principle', 'sundae', 'zucchini', 'oncology', 'comb', 'diaphragm', 'endothelium', 'beverage', 'balcony', 'applause', 'toreador', 'revenue', 'paramecium', 'aside', 'vane', 'fatigues', 'outline', 'inhibition', 'owl', 'mainstream', 'evaluator', 'pentagon', 'thought', 'treatment', 'artichoke', 'crop', 'encirclement', 'mussel', 'torso', 'scholar', 'asparagus', 'goal', 'picture', 'attempt', 'developmental', 'beech', 'opposite', 'trumpet', 'sparrow', 'admin', 'private', 'chimpanzee', 'rib', 'tugboat', 'examiner', 'gold', 'scooter', 'self-control', 'cupcake', 'cocoa', 'enzyme', 'basement', 'peen', 'leaker', 'legislation', 'proponent', 'temporariness', 'market', 'developing', 'loquat', 'vein', 'stepdaughter', 'felony', 'beating', 'impress', 'altar', 'yang', 'pew', 'tie', 'reference', 'curve', 'gastropod', 'recollection', 'joint', 'randomisation', 'humor', 'spork', 'muscle', 'connection', 'smuggling', 'bar', 'inflammation', 'particular', 'lightscreen', 'rawhide', 'prison', 'application', 'patriot', 'husband', 'monasticism', 'polyp', 'skunk', 'detainee', 'membrane', 'couch', 'wedge', 'mansion', 'collar', 'stone', 'eaglet', 'gas', 'substitution', 'inscription', 'washcloth', 'replacement', 'marriage', 'founder', 'craft', 'beak', 'timbale', 'plant', 'milepost', 'eyelash', 'hub', 'particle', 'detection', 'chrysalis', 'lard', 'singer', 'smock', 'balloon', 'publisher', 'omission', 'status', 'dial', 'perp', 'familiarity', 'grouse', 'radar', 'decryption', 'restriction', 'appearance', 'pressroom', 'pruner', 'gaffer', 'netbook', 'dulcimer', 'gravel', 'girl', 'antelope', 'bunghole', 'show', 'bower', 'chocolate', 'dryer', 'logo', 'great-grandmother', 'soulmate', 'discussion', 'activation', 'production', 'pantyhose', 'sauce', 'action', 'spite', 'conception', 'ride', 'transom', 'fratricide', 'post', 'tog', 'sunbeam', 'fixture', 'breadfruit', 'bathhouse', 'standard', 'surplus', 'knock', 'knitting', 'comfort', 'frequency', 'captor', 'yoga', 'compulsion', 'kitten', 'tent', 'toga', 'fatigue', 'watermelon', 'ridge', 'shirt', 'rose', 'casino', 'testimonial', 'clank', 'flip-flops', 'pregnancy', 'critic', 'sprag', 'barbecue', 'prospect', 'rhetoric', 'bathrobe', 'weekender', 'survivor', 'gearshift', 'task', 'parsley', 'counsellor', 'quartet', 'maid', 'cranky', 'plagiarism', 'comment', 'sunbonnet', 'platform', 'fiesta', 'sanctity', 'dragster', 'angora', 'swordfight', 'instrumentalist', 'trader', 'purchase', 'anime', 'rayon', 'gauge', 'quartz', 'oil', 'pat', 'gopher', 'fondue', 'hug', 'hill', 'clapboard', 'simplification', 'bowler', 'millimeter', 'spool', 'tide', 'enemy', 'conservation', 'father-in-law', 'deadline', 'access', 'heat', 'process', 'care', 'burial', 'wealth', 'mode', 'bathroom', 'bill', 'effectiveness', 'daddy', 'student', 'neck', 'ballpark', 'yew', 'representation', 'invitation', 'bamboo', 'evolution', 'index', 'medicine', 'dipstick', 'questionnaire', 'website', 'cooperation', 'ruin', 'soup', 'fawn', 'comics', 'watch', 'elderberry', 'jot', 'stove', 'knight', 'diesel', 'immigration', 'target', 'woolens', 'burning', 'processor', 'academy', 'heaven', 'custody', 'warfare', 'impact', 'cradle', 'ambition', 'widow', 'finance', 'appendix', 'role', 'enclosure', 'lysine', 'overload', 'corner', 'relative', 'pearl', 'school', 'clavier', 'minute', 'funding', 'gasket', 'splendor', 'rotation', 'device', 'reparation', 'zipper', 'sunlamp', 'tapioca', 'bird-watcher', 'composer', 'officer', 'warlock', 'transfer', 'leash', 'contention', 'leisure', 'cover', 'viscose', 'associate', 'house', 'wash', 'moccasins', 'homework', 'hearthside', 'mRNA', 'band', 'ashram', 'spirit', 'participation', 'bonding', 'wall', 'tempo', 'regret', 'chopstick', 'bakeware', 'calm', 'advancement', 'catacomb', 'charset', 'surname', 'landform', 'footage', 'tabernacle', 'familiar', 'luggage', 'zen', 'chassis', 'blazer', 'array', 'gherkin', 'breadcrumb', 'cap', 'buzz', 'collector', 'policeman', 'consumption', 'cellar', 'toy', 'stripe', 'clipboard', 'listening', 'wallaby', 'hygienic', 'dawn', 'poultry', 'beginner', 'underwear', 'burrito', 'comedy', 'magnitude', 'off-ramp', 'half', 'caramel', 'taco', 'guilder', 'township', 'eternity', 'bifocals', 'armadillo', 'feather', 'fiddle', 'crayon', 'toe', 'fix', 'purple', 'spread', 'cesspool', 'deformation', 'responsibility', 'kohlrabi', 'external', 'appropriation', 'pupa', 'propane', 'toast', 'freak', 'pin', 'history', 'hydroxyl', 'importance', 'thrift', 'atom', 'crack', 'progress', 'pigpen', 'calcification', 'locality', 'regime', 'college', 'textual', 'chalk', 'commerce', 'nestling', 'publication', 'willow', 'temper', 'offense', 'dwell', 'crumb', 'ham', 'burst', 'print', 'anesthesiologist', 'porter', 'mark', 'min', 'division', 'recipe', 'intellect', 'drill', 'trillion', 'codon', 'capitulation', 'collaboration', 'fishery', 'cockpit', 'hybridisation', 'glasses', 'retailer', 'portion', 'ascend', 'bricklaying', 'earring', 'presence', 'bug', 'hen', 'vacuum', 'headline', 'excellence', 'present', 'supermarket', 'rest', 'timber', 'grassland', 'tram', 'last', 'infusion', 'corporatism', 'part', 'celeriac', 'nonconformist', 'fiber', 'paddle', 'peacoat', 'spec', 'hope', 'competition', 'decline', 'tomography', 'equivalent', 'councilman', 'snowstorm', 'yacht', 'enquiry', 'decoder', 'award', 'mapping', 'bank', 'ash', 'pastor', 'club', 'mantua', 'lieu', 'tofu', 'emu', 'brownie', 'buckwheat', 'psychologist', 'heirloom', 'spelling', 'dromedary', 'fellow', 'string', 'hog', 'batter', 'wire', 'copper', 'lake', 'retouching', 'primary', 'acetate', 'syndicate', 'calf', 'mime', 'clan', 'scene', 'orator', 'sip', 'assault', 'coaster', 'keystone', 'church', 'loafer', 'achievement', 'exocrine', 'thunder', 'bout', 'disk', 'herb', 'anise', 'finger', 'obligation', 'hurricane', 'grape', 'mincemeat', 'elixir', 'complaint', 'ellipse', 'blogger', 'wetland', 'pod', 'incense', 'humidity', 'indication', 'resale', 'hard-hat', 'carboxyl', 'chard', 'ringworm', 'character', 'embassy', 'tank', 'imagination', 'bonus', 'radiator', 'addition', 'grasshopper', 'patient', 'shoat', 'balaclava', 'dearest', 'affair', 'power', 'bunkhouse', 'transition', 'transaction', 'interpretation', 'carriage', 'batting', 'chip', 'aftershave', 'doe', 'box', 'island', 'pace', 'coconut', 'refrigerator', 'veal', 'heel', 'cyclooxygenase', 'interior', 'raincoat', 'cholesterol', 'lashes', 'vivo', 'gripper', 'plaintiff', 'lust', 'freedom', 'dictaphone', 'pimple', 'discipline', 'inequality', 'second', 'testament', 'cave', 'photoreceptor', 'wear', 'banjo', 'bee', 'rivulet', 'user', 'involvement', 'sofa', 'silly', 'sparerib', 'jewel', 'xylophone', 'pattern', 'carter', 'bumper', 'processing', 'goodwill', 'anything', 'racer', 'plea', 'deep', 'songbird', 'exception', 'parliament', 'stumbling', 'subsidiary', 'earth', 'drawbridge', 'supply', 'philosophy', 'attorney', 'comparison', 'casement', 'stockings', 'terracotta', 'muscat', 'robotics', 'fanny-pack', 'ordinary', 'patrolling', 'doorbell', 'boat', 'checkroom', 'circumstance', 'kennel', 'mint', 'e-book', 'wholesale', 'romance', 'tribe', 'furry', 'optimization', 'thaw', 'bowl', 'bronchitis', 'structure', 'flash', 'personnel', 'pinafore', 'physics', 'ambiguity', 'android', 'pharmacopoeia', 'turkey', 'pheromone', 'castle', 'somewhere', 'warrior', 'counterterrorism', 'bark', 'croissant', 'ticket', 'inheritance', 'performance', 'terminology', 'timeline', 'grant', 'invention', 'purity', 'wrap', 'styling', 'disguise', 'tenor', 'memo', 'rubbish', 'pulse', 'clutch', 'crystal', 'finish', 'litmus', 'voter', 'ceramics', 'cartridge', 'shear', 'scalp', 'illustration', 'duckling', 'dandelion', 'tenth', 'employment', 'pseudoscience', 'sitar', 'whole', 'ethnicity', 'holiday', 'key', 'standpoint', 'fitness', 'major', 'winter', 'expose', 'cushion', 'accusation', 'abnormality', 'inconvenience', 'shit', 'stimulus', 'bafflement', 'shoulder', 'earthquake', 'coffee', 'profile', 'ecumenist', 'territory', 'manacle', 'crime', 'rumor', 'seeder', 'millennium', 'feedback', 'coral', 'borrowing', 'information', 'emergency', 'tournament', 'cartoon', 'tummy', 'practice', 'golf', 'description', 'trapezium', 'historian', 'clove', 'inability', 'appetizer', 'poor', 'bomb', 'constraint', 'instinct', 'benefit', 'butler', 'need', 'fog', 'ground', 'catastrophe', 'dough', 'frame', 'sting', 'secret', 'enclave', 'riddle', 'mosquito', 'pug', 'blowgun', 'highway', 'longboat', 'bandolier', 'toothpaste', 'council', 'shred', 'podcast', 'linseed', 'sauerkraut', 'republic', 'dish', 'disaster', 'petitioner', 'trailpatrol', 'sexuality', 'congress', 'pear', 'panther', 'silo', 'dignity', 'cravat', 'marketer', 'patrol', 'exclamation', 'shine', 'period', 'strap', 'feeding', 'significance', 'waist', 'suet', 'tree', 'foot', 'raven', 'surroundings', 'texture', 'pottery', 'prior', 'testing', 'meander', 'vicinity', 'degree', 'shirtdress', 'irony', 'reporting', 'drunk', 'twins', 'pray', 'obsession', 'bonsai', 'hurdle', 'pitch', 'world', 'patentee', 'strike', 'release', 'imitation', 'waterskiing', 'junker', 'singular', 'fuel', 'clothing', 'atmosphere', 'flan', 'assist', 'operation', 'shout', 'pendulum', 'health-care', 'banker', 'bungalow', 'composition', 'ostrich', 'dory', 'ale', 'verification', 'kneejerk', 'diagnosis', 'corral', 'comprehension', 'spasm', 'mask', 'carbon', 'content', 'barometer', 'culture', 'tradition', 'clipper', 'stopwatch', 'brooch', 'tiger', 'poison', 'landing', 'makeup', 'incentive', 'faith', 'skyline', 'fishmonger', 'deputy', 'anatomy', 'furnace', 'pie', 'lamp', 'pollution', 'rainy', 'civilisation', 'acquaintance', 'institute', 'host', 'prize', 'sick', 'snarl', 'cobbler', 'compliance', 'dog', 'accounting', 'vine', 'bugle', 'labour', 'guestbook', 'brood', 'pants', 'rectangle', 'nursery', 'bean', 'smog', 'monotheism', 'platypus', 'brassiere', 'slipper', 'providence', 'gradient', 'journalist', 'dogwood', 'secretary', 'pennant', 'carotene', 'monitor', 'contract', 'show-stopper', 'redirect', 'nylon', 'reasoning', 'sphynx', 'dealing', 'snuck', 'cottage', 'teapot', 'logistics', 'sidewalk', 'sash', 'reduction', 'cofactor', 'gap', 'hornet', 'country', 'soprano', 'weakness', 'wriggler', 'schoolhouse', 'microphone', 'toll', 'analyst', 'helicopter', 'tusk', 'tsunami', 'reveal', 'exaggeration', 'south', 'limit', 'cereal', 'coordination', 'firm', 'range', 'oatmeal', 'hubcap', 'credibility', 'lunch', 'rating', 'columnist', 'bookend', 'gosling', 'annual', 'kick-off', 'pier', 'pronunciation', 'diffuse', 'consistency', 'cucumber', 'lobby', 'submitter', 'runway', 'foodstuffs', 'collectivization', 'wildlife', 'ascent', 'ideal', 'elevator', 'beat', 'representative', 'obi', 'poll', 'trend', 'scorn', 'nail', 'reward', 'app', 'obedience', 'rye', 'conscience', 'unit', 'independent', 'inspector', 'workhorse', 'baseboard', 'emphasis', 'reply', 'pannier', 'vaulting', 'midline', 'agency', 'haze', 'sanity', 'pickax', 'ferry', 'yellow', 'cocktail', 'necktie', 'caper', 'seabass', 'synthesis', 'blight', 'sushi', 'miscarriage', 'trek', 'prelude', 'incompetence', 'similarity', 'monument', 'tote', 'wrecker', 'helium', 'day', 'soldier', 'camel', 'tuber', 'tune', 'necessity', 'rear', 'illiteracy', 'vanilla', 'degradation', 'turban', 'stot', 'incident', 'cactus', 'cathedral', 'today', 'scientist', 'thinking', 'suspension', 'stable', 'parachute', 'vertigo', 'cause', 'nonbeliever', 'trait', 'opossum', 'expression', 'doubter', 'boulder', 'downforce', 'bicycle', 'recorder', 'sheath', 'thug', 'opposition', 'proctor', 'hummus', 'theft', 'factor', 'cob', 'circle', 'underground', 'forager', 'meringue', 'beauty', 'lining', 'functionality', 'notoriety', 'ramen', 'blocker', 'crystallography', 'crewmate', 'pocket', 'detective', 'query', 'pastoralist', 'magazine', 'tenement', 'resolution', 'list', 'preoccupation', 'rambler', 'globe', 'poppy', 'ripple', 'revascularization', 'promotion', 'pay', 'creme brulee', 'solitaire', 'chess', 'motorcycle', 'counterpart', 'log', 'mammoth', 'antigen', 'souvenir', 'liner', 'lounge', 'satisfaction', 'menopause', 'form', 'dip', 'actress', 'rabbit', 'sin', 'stench', 'reputation', 'netball', 'consumer', 'scrip', 'chutney', 'screenwriting', 'radio', 'cop-out', 'trinket', 'formula', 'dependency', 'stir-fry', 'feeling', 'brake', 'methane', 'technologist', 'blackberry', 'parent', 'anthropology', 'correspondent', 'berry', 'eyebrows', 'blizzard', 'uncertainty', 'bud', 'speakerphone', 'running', 'desert', 'orient', 'antecedent', 'tray', 'shampoo', 'villa', 'sigh', 'switchboard', 'pantsuit', 'privacy', 'mister', 'gobbler', 'garter', 'spouse', 'perch', 'might', 'bidding', 'honeybee', 'whistle', 'past', 'forebear', 'rhythm', 'partner', 'affinity', 'armament', 'progression', 'experimentation', 'email', 'variable', 'matchmaker', 'cancer', 'stack', 'meadow', 'numismatist', 'main', 'swim', 'jeep', 'dust', 'equal', 'recruit', 'posterior', 'estate', 'prosecutor', 'boatload', 'atheist', 'floor', 'severity', 'restroom', 'realm', 'alternative', 'seagull', 'maggot', 'supreme', 'gaiters', 'slang', 'sprinter', 'cat', 'anarchy', 'crash', 'major-league', 'spice', 'curtain', 'sonata', 'theism', 'screen', 'full', 'strife', 'barium', 'cup', 'nutrition', 'theater', 'polyester', 'minor', 'street', 'comestible', 'garden', 'sediment', 'ex-wife', 'personal', 'employee', 'allocation', 'kebab', 'button', 'brushfire', 'dogsled', 'convection', 'sousaphone', 'police', 'erection', 'departure', 'high-rise', 'turnstile', 'lesbian', 'quadrant', 'tornado', 'mall', 'wreck', 'speech', 'filly', 'howard', 'declaration', 'dairy', 'handicap', 'airplane', 'banner', 'kid', 'sink', 'waiting', 'dagger', 'split', 'self', 'permission', 'acupuncture', 'underweight', 'impulse', 'footprint', 'academics', 'hesitation', 'funeral', 'linguistics', 'celebration', 'leptocephalus', 'in-joke', 'hovel', 'adapter', 'netsuke', 'religion', 'blossom', 'colloquy', 'independence', 'humanity', 'clergyman', 'consignment', 'sty', 'interject', 'democrat', 'pole', 'combination', 'oval', 'jasmine', 'contest', 'solvency', 'touch', 'percentage', 'frock', 'professor', 'wrist', 'folder', 'edge', 'till', 'grandmother', 'sunflower', 'grasp', 'plover', 'shoe-horn', 'tilt', 'quit', 'mandate', 'dinner', 'terror', 'boot', 'bracelet', 'badger', 'experiment', 'hat', 'slaw', 'spiderling', 'interview', 'muskrat', 'neonate', 'delight', 'cycle', 'buddy', 'vellum', 'maple', 'satin', 'boxspring', 'chest', 'jumbo', 'syrup', 'rack', 'councilperson', 'battery', 'cabinet', 'cliff', 'vehicle', 'step-uncle', 'codpiece', 'corruption', 'song', 'contribution', 'damn', 'run', 'grandpa', 'driveway', 'octave', 'difficulty', 'farm', 'velodrome', 'rip', 'lag', 'disclaimer', 'goldfish', 'countess', 'rate', 'filing', 'promenade', 'airbag', 'leaver', 'dugout', 'cake', 'sack', 'chalice', 'awareness', 'pot', 'boyhood', 'leek', 'pilaf', 'convert', 'pinkie', 'macaroni', 'wampum', 'stamp', 'marsh', 'sinuosity', 'umbrella', 'pike', 'broad', 'fibrosis', 'aid', 'shorts', 'spectacles', 'pick', 'taxicab', 'lever', 'eaves', 'toaster', 'prosperity', 'type', 'colon', 'tritone', 'memory', 'doctorate', 'aftershock', 'worship', 'airline', 'imprisonment', 'jaw', 'pup', 'cutover', 'rostrum', 'modeling', 'stem', 'bit', 'volcano', 'shopping', 'doing', 'lie', 'media', 'sanction', 'overview', 'core', 'appeal', 'nest', 'chaos', 'coliseum', 'editing', 'perspective', 'plasterboard', 'conservative', 'interviewer', 'diabetes', 'strawman', 'name', 'moustache', 'foam', 'fat', 'rap', 'acre', 'dancing', 'weather', 'semester', 'eye', 'paperback', 'meridian', 'tobacco', 'share', 'screening', 'chronometer', 'weapon', 'literate', 'bulk', 'kinase', 'derivative', 'birdhouse', 'back-up', 'clover', 'discount', 'relish', 'calculus', 'equity', 'tremor', 'guava', 'easel', 'scallops', 'outback', 'bail', 'mukluk', 'cow', 'gland', 'block', 'billion', 'set', 'subsidence', 'tuition', 'entirety', 'anticipation', 'sill', 'mascara', 'penny', 'hydrogen', 'dusk', 'beancurd', 'lemur', 'glance', 'manifestation', 'shingle', 'tattoo', 'salt', 'gazebo', 'region', 'quiche', 'bun', 'moose', 'broccoli', 'minnow', 'dialect', 'nephew', 'colleague', 'iceberg', 'sculpting', 'spokeswoman', 'clerk', 'moonscape', 'continuity', 'deal', 'night', 'exasperation', 'lookout', 'platelet', 'paintwork', 'memorial', 'theology', 'economy', 'serial', 'fraudster', 'mug', 'id', 'cohesion', 'outlet', 'maker', 'specialist', 'apricot', 'cadet', 'bolt', 'melatonin', 'acoustics', 'disease', 'jaguar', 'undertaker', 'cartload', 'stage', 'granddaughter', 'cannibal', 'statistic', 'inbox', 'gladiolus', 'cupboard', 'coyote', 'tonight', 'turning', 'anger', 'pompom', 'pension', 'nougat', 'reservoir', 'antique', 'nurse', 'head', 'security', 'feast', 'transcript', 'pest', 'thump', 'pantologist', 'agony', 'epic', 'jiffy', 'marimba', 'meantime', 'guide', 'fork', 'comptroller', 'kielbasa', 'croup', 'spectacle', 'federation', 'fax', 'petition', 'evening-wear', 'dock', 'utensil', 'bargain', 'triumph', 'pilgrimage', 'tortoise', 'baritone', 'eyeliner', 'elevation', 'valuable', 'sidecar', 'bronco', 'sender', 'state', 'circulation', 'embarrassment', 'durian', 'flugelhorn', 'copying', 'letter', 'complication', 'eyeglasses', 'joke', 'tactics', 'bias', 'confectionery', 'beam', 'octavo', 'son', 'homogenate', 'digestion', 'skylight', 'beef', 'arch-rival', 'mansard', 'premise', 'trousers', 'bribery', 'reserve', 'warming', 'anybody', 'dollar', 'morbidity', 'rhyme', 'marble', 'gynaecology', 'pail', 'doctrine', 'intervention', 'ozone', 'mother-in-law', 'glucose', 'grandchild', 'rationale', 'handlebar', 'decade', 'breath', 'insect', 'illness', 'progenitor', 'masterpiece', 'thigh', 'debris', 'typewriter', 'card', 'rank', 'wingman', 'liquor', 'payee', 'steel', 'babe', 'settlement', 'sabre', 'board', 'base', 'spell', 'fowl', 'nit', 'hovercraft', 'doubling', 'cygnet', 'rheumatism', 'friend', 'anniversary', 'bangle', 'registry', 'gauntlet', 'guitar', 'chair', 'movement', 'boost', 'intuition', 'bracket', 'polo', 'pelican', 'bulldozer', 'jealousy', 'contagion', 'incubation', 'moat', 'minister', 'leading', 'barrier', 'bat', 'coupon', 'go-kart', 'volatility', 'pendant', 'throne', 'breast', 'zebrafish', 'gram', 'forum', 'niche', 'execution', 'patience', 'nerve', 'gyro', 'shadow', 'gelatin', 'oasis', 'tart', 'pass', 'chapter', 'copyright', 'pianist', 'teller', 'crate', 'conductor', 'down', 'property', 'arrival', 'tub', 'microlending', 'determination', 'cameo', 'latex', 'variant', 'meme', 'lily', 'tendency', 'earmuffs', 'linkage', 'separation', 'harpooner', 'proposal', 'decision', 'library', 'glass', 'accord', 'bronze', 'partnership', 'molasses', 'committee', 'commander', 'barge', 'spring', 'baker', 'olive', 'conspiracy', 'month', 'supervisor', 'nursing', 'whey', 'habitat', 'vol', 'meter', 'chili', 'gathering', 'perfection', 'shin', 'downtown', 'gift', 'regionalism', 'trace', 'pledge', 'white', 'assertion', 'item', 'hanger', 'reality', 'analog', 'bus', 'reprocessing', 'apse', 'mambo', 'birdbath', 'emanate', 'believer', 'harvester', 'background', 'squid', 'excerpt', 'daikon', 'chord', 'encouragement', 'sorrow', 'analogy', 'cascade', 'stupidity', 'coonskin', 'sleeping', 'cheddar', 'east', 'prevention', 'rainbow', 'nestmate', 'tavern', 'behold', 'import', 'proof', 'fox', 'boutique', 'preservation', 'carnival', 'archives', 'dibble', 'rabbi', 'migration', 'tassel', 'fragrance', 'agent', 'nucleotide', 'bucket', 'jungle', 'drudgery', 'fanny', 'discretion', 'polliwog', 'placebo', 'fabric', 'writing', 'examination', 'luck', 'edger', 'vase', 'aggression', 'cleaner', 'attendant', 'fanlight', 'transformation', 'affect', 'alloy', 'midden', 'rite', 'destroyer', 'thongs', 'muscatel', 'godparent', 'seller', 'element', 'ranger', 'molding', 'fraud', 'player', 'closet', 'cheek', 'lace', 'compliment', 'mill', 'underneath', 'bayou', 'doubt', 'ecology', 'horizon', 'malnutrition', 'concrete', 'washtub', 'microwave', 'equation', 'minibus', 'darn', 'bridge', 'junk', 'soundness', 'bagel', 'buck', 'colonial', 'wound', 'few', 'boolean', 'vessel', 'nose', 'caption', 'greatness', 'discrepancy', 'cuisine', 'dialogue', 'stadium', 'boss', 'license', 'den', 'land', 'frost', 'surrounds', 'primate', 'forelimb', 'currant', 'jerk', 'queen', 'catalogue', 'pea', 'happiness', 'crawdad', 'horseradish', 'admire', 'bather', 'rise', 'horn', 'mess', 'speaker', 'patty', 'dispute', 'grandfather', 'eyebrow', 'pounding', 'hall', 'explosion', 'glen', 'album', 'piss', 'output', 'flanker', 'weight', 'decimal', 'statin', 'console', 'boom', 'fraction', 'tuba', 'accent', 'intervenor', 'optimisation', 'satellite', 'surprise', 'artificer', 'quota', 'freighter', 'hypochondria', 'cabin', 'savory', 'brand', 'prostanoid', 'vixen', 'error', 'crewman', 'laparoscope', 'whip', 'savage', 'kazoo', 'muffin', 'sponsorship', 'depot', 'whale', 'page', 'assistant', 'naming', 'anchovy', 'jogging', 'sex', 'circumference', 'stepping-stone', 'resist', 'alias', 'daily', 'usage', 'hide', 'ghost', 'nectarine', 'course', 'method', 'custard', 'skeleton', 'passenger', 'rubber', 'strawberry', 'terrarium', 'leveret', 'function', 'plow', 'genius', 'youth', 'conditioner', 'checkbook', 'oldie', 'spark', 'effect', 'meteor', 'team', 'gemsbok', 'occurrence', 'imbalance', 'cougar', 'researcher', 'bread', 'tip', 'tablet', 'chive', 'stranger', 'lout', 'grid', 'dynasty', 'ecclesia', 'heartache', 'budget', 'pelt', 'goose', 'recipient', 'hamburger', 'starboard', 'navigation', 'morphology', 'account', 'questioner', 'standing', 'savior', 'counseling', 'van', 'vacation', 'deck', 'treasure', 'patriarch', 'thrill', 'fencing', 'chalet', 'pickup', 'maestro', 'eyeball', 'fight', 'patch', 'conformation', 'eurocentrism', 'criminal', 'sunshine', 'nutrient', 'charm', 'faithful', 'alley', 'poignance', 'toilet', 'recreation', 'marshland', 'wrapping', 'destruction', 'crisp', 'biopsy', 'igloo', 'expansionism', 'telescreen', 'septicaemia', 'numeric', 'shareholder', 'piano', 'vista', 'outrigger', 'printer', 'bait', 'wallet', 'scissors', 'hint', 'framework', 'archaeologist', 'trading', 'balalaika', 'bidder', 'indicator', 'spending', 'notice', 'shearling', 'subset', 'reaction', 'drapes', 'stag', 'following', 'recliner', 'amnesty', 'gander', 'racing', 'retirement', 'apology', 'common', 'coffin', 'tell', 'crest', 'lieutenant', 'pinecone', 'thirst', 'jazz', 'mustache', 'socks', 'meat', 'eyelids', 'communicant', 'risk', 'presidency', 'prince', 'migrant', 'good', 'appetiser', 'arithmetic', 'sleuth', 'julienne', 'suppression', 'flick', 'miscommunication', 'cylinder', 'hospital', 'trolley', 'tractor', 'scarecrow', 'metro', 'grapefruit', 'bankbook', 'pound', 'vibraphone', 'shoes', 'alpenhorn', 'eviction', 'trouble', 'transplantation', 'danger', 'coast', 'struggle', 'orchid', 'plain', 'sultan', 'spinach', 'simvastatin', 'sidestream', 'quotation', 'brochure', 'regulation', 'suite', 'alcove', 'listing', 'briefly', 'sociology', 'pepper', 'eggnog', 'waterfall', 'nature', 'waitress', 'gang', 'afterthought', 'crucifixion', 'cattle', 'rape', 'pinworm', 'search', 'plaster', 'silkworm', 'ice-cream', 'piccolo', 'detour', 'universe', 'cornflakes', 'placement', 'gnat', 'scope', 'hunter', 'combine', 'crewmember', 'result', 'succotash', 'colony', 'instruction', 'scotch', 'flicker', 'vogue', 'lip', 'lipoprotein', 'postage', 'database', 'bomber', 'networking', 'locust', 'recommendation', 'pyridine', 'digging', 'skill', 'twist', 'quarter', 'preparation', 'smelting', 'cloakroom', 'musculature', 'girdle', 'taste', 'tracking', 'volume', 'democracy', 'jeweller', 'personality', 'cornerstone', 'whirlpool', 'removal', 'aquarium', 'pheasant', 'shoot', 'total', 'hell', 'disposal', 'descendant', 'sadness', 'info', 'implement', 'abolishment', 'pupil', 'probe', 'workforce', 'extension', 'afterlife', 'diagram', 'sort', 'robot', 'cleat', 'fritter', 'transportation', 'surface', 'visit', 'hatred', 'ephemera', 'honesty', 'race', 'grandson', 'bend', 'ecliptic', 'arm', 'subexpression', 'pocketbook', 'vaccine', 'scraper', 'symbol', 'layout', 'dozen', 'denominator', 'ectoderm', 'alert', 'stepmother', 'palate', 'consul', 'rainstorm', 'merit', 'cut', 'likeness', 'brow', 'jalapeño', 'housing', 'read', 'balance', 'pancake', 'charge', 'riot', 'cloud', 'heir', 'inventory', 'drizzle', 'crisis', 'whorl', 'glee', 'confirmation', 'doorpost', 'quilt', 'buffalo', 'bough', 'secretariat', 'corduroy', 'cheesecake', 'snug', 'identification', 'dragon', 'speculation', 'gateway', 'drinking', 'resident', 'modernity', 'whelp', 'scratch', 'celebrity', 'laundry', 'thermals', 'flow', 'accountant', 'ginseng', 'development', 'wren', 'prey', 'faucet', 'refectory', 'spleen', 'glow', 'dose', 'catcher', 'sensitivity', 'train', 'percent', 'candidacy', 'salami', 'testimony', 'razor', 'photography', 'mailing', 'signify', 'observation', 'crush', 'nudge', 'popcorn', 'sonar', 'mineral', 'directive', 'lock', 'poster', 'raccoon', 'witness', 'infarction', 'spud', 'discovery', 'boundary', 'handle', 'barn', 'trade', 'apple', 'hyphenation', 'coach', 'vampire', 'inhabitant', 'senate', 'swivel', 'colonialism', 'therapy', 'ton', 'extent', 'semiconductor', 'sweatsuit', 'temple', 'consonant', 'subject', 'vanadyl', 'balloonist', 'addiction', 'daybed', 'peninsula', 'sow', 'violin', 'swing', 'donut', 'fifth', 'pepperoni', 'crook', 'tax', 'teen', 'divalent', 'pony', 'tank-top', 'velvet', 'ping', 'abbey', 'blank', 'velocity', 'quiet', 'proximal', 'plough', 'sophomore', 'methodology', 'lawmaker', 'zebra', 'colonisation', 'shark', 'lipid', 'shoestring', 'priority', 'apartment', 'destiny', 'turf', 'kangaroo', 'gesture', 'daffodil', 'yeast', 'proposition', 'sniffle', 'supper', 'heating', 'sewer', 'limestone', 'backdrop', 'belt', 'request', 'fascia', 'phenotype', 'kindness', 'flatboat', 'cream', 'deficit', 'dime', 'diadem', 'return', 'hardboard', 'punch', 'seep', 'ordination', 'hook', 'veteran', 'scam', 'mower', 'beaver', 'lion', 'behalf', 'interaction', 'definition', 'constant', 'wombat', 'skean', 'jeans', 'conference', 'spiritual', 'softening', 'alb', 'shrimp', 'barber', 'purse', 'heterosexual', 'lyocell', 'seaweed', 'can', 'sum', 'haven', 'panel', 'cilantro', 'software', 'freckle', 'top', 'decency', 'entertainment', 'latency', 'drawing', 'e-mail', 'wrestler', 'chiffonier', 'heron', 'curler', 'banking', 'urgency', 'worth', 'restaurant', 'bush', 'envelope', 'rediscovery', 'square', 'review', 'stain', 'leap', 'insight', 'gale', 'encounter', 'tosser', 'insert', 'venti', 'geek', 'answer', 'dishwasher', 'gliding', 'curse', 'agreement', 'disregard', 'blast', 'mouth', 'unity', 'reliability', 'instructor', 'choir', 'landmine', 'walnut', 'messy', 'gentleman', 'licorice', 'discrimination', 'spaghetti', 'collard', 'leave', 'custom', 'quill', 'ruby', 'fibroblast', 'soybean', 'stance', 'steward', 'belfry', 'eyelashes', 'path', 'pineapple', 'desk', 'welcome', 'preference', 'acorn', 'concern', 'diversity', 'modification', 'era', 'charlatan', 'lemon', 'organizing', 'tachometer', 'nothing', 'insurance', 'capacity', 'proceedings', 'gorilla', 'cold', 'affiliate', 'cyclone', 'piglet', 'pseudocode', 'chem', 'peak', 'corporal', 'space', 'storage', 'bite', 'ascot', 'stopsign', 'organ', 'metabolite', 'nexus', 'marmalade', 'intercourse', 'finisher', 'dragonfly', 'pronoun', 'romaine', 'max', 'yurt', 'bandwidth', 'veneer', 'briefs', 'temperature', 'overflight', 'suburb', 'inflation', 'nobody', 'gerbil', 'lyrics', 'initialise', 'twitter', 'tooth', 'silicon', 'lift', 'cassock', 'activity', 'champagne', 'mechanic', 'spelt', 'mileage', 'men', 'environment', 'interchange', 'hourglass', 'fit', 'pursuit', 'beanstalk', 'garage', 'sardine', 'bottle', 'crowd', 'spirituality', 'feature', 'height', 'pegboard', 'flexibility', 'hybridization', 'chipmunk', 'lab', 'talking', 'sari', 'flower', 'jumpsuit', 'swell', 'mine', 'airport', 'ammunition', 'walking', 'temporary', 'education', 'bakery', 'bag', 'goat', 'creche', 'hand', 'attendance', 'place', 'draw', 'punctuation', 'tutu', 'scheme', 'win', 'detector', 'trapdoor', 'disagreement', 'bird', 'booklet', 'park', 'translation', 'hypothermia', 'vinegar', 'diamond', 'figurine', 'bloom', 'tackle', 'bonfire', 'costume', 'eavesdropper', 'suit', 'stonework', 'building', 'estrogen', 'bone', 'official', 'wave', 'shot', 'mover', 'dirt', 'blackbird', 'alligator', 'daisy', 'winery', 'hydraulics', 'rugby', 'good-bye', 'detention', 'headrest', 'equality', 'stew', 'utilization', 'litter', 'wasp', 'cowboy', 'truck', 'hospice', 'moody', 'vibration', 'tongue', 'servant', 'nasal', 'blessing', 'habit', 'lute', 'scenery', 'general', 'entry', 'mining', 'magnet', 'veranda', 'organising', 'setting', 'defendant', 'stucco', 'trapezoid', 'requirement', 'governor', 'shaker', 'frigate', 'crib', 'effort', 'lanai', 'wedding', 'frontier', 'prayer', 'mocha', 'collagen', 'hobbit', 'standardization', 'hood', 'hydrocarb', 'raisin', 'cytokine', 'coat', 'maize', 'thunderbolt', 'replica', 'fortune', 'poncho', 'dress', 'divider', 'center', 'mandolin', 'mozzarella', 'lamb', 'capability', 'hammock', 'offence', 'car', 'lung', 'yesterday', 'naturalisation', 'gloom', 'polish', 'camera', 'roadway', 'inn', 'museum', 'cotton', 'airforce', 'pump', 'spear', 'sir', 'woodwind', 'dreamer', 'journal', 'guideline', 'choker', 'git', 'dam', 'forever', 'sticker', 'gaffe', 'snuggle', 'warmth', 'fingernail', 'strength', 'numeracy', 'metronome', 'belligerency', 'engagement', 'vegetation', 'liquid', 'yourself', 'automaton', 'ectodermal', 'caribou', 'perfume', 'essential', 'cape', 'melon', 'lantern', 'self-confidence', 'witch-hunt', 'timing', 'tulip', 'stinger', 'respite', 'precipitation', 'caffeine', 'welfare', 'boy', 'sight', 'immortal', 'music', 'guilty', 'emission', 'beanie', 'zombie', 'organization', 'oak', 'audience', 'material', 'pulley', 'relationship', 'cannon', 'tape', 'finding', 'penguin', 'entity', 'disconnection', 'pedal', 'comfortable', 'allergist', 'sphere', 'boatyard', 'softdrink', 'experience', 'hippodrome', 'mate', 'insomnia', 'teenager', 'facelift', 'multimedia', 'salesman', 'pink', 'theory', 'outrun', 'outlaw', 'moon', 'stick', 'midnight', 'vegetarian', 'stud', 'dirndl', 'population', 'server', 'hydrolysis', 'brilliant', 'ivory', 'overclocking', 'businessman', 'excursion', 'hundred', 'choice', 'detail', 'misunderstand', 'donkey', 'maternity', 'trance', 'biosphere', 'scow', 'entrepreneur', 'back', 'goodness', 'fluke', 'stacking', 'specification', 'pince-nez', 'archaeology', 'stamen', 'obstacle', 'clothes', 'career', 'cloak', 'scanner', 'patrimony', 'worm', 'city', 'eclipse', 'volunteering', 'bake', 'bull', 'hero', 'tanker', 'periodical', 'oyster', 'geyser', 'vision', 'cauliflower', 'vengeance', 'mast', 'narrative', 'slash', 'physical', 'breastplate', 'growth', 'seaplane', 'roof', 'elongation', 'snob', 'pile', 'e-reader', 'marketing', 'novel', 'derivation', 'pressurisation', 'residue', 'fir', 'nickname', 'shame', 'lad', 'blackness', 'abuse', 'rat', 'reason', 'minority', 'jackal', 'storey', 'locket', 'hash', 'lighting', 'fund', 'heartbeat', 'honoree', 'astrology', 'cirrus', 'hypothesis', 'kingdom', 'incarnation', 'beet', 'hackwork', 'millstone', 'monger', 'exhaust', 'cough', 'adobe', 'torte', 'side', 'tug', 'surgeon', 'wait', 'gray', 'station-wagon', 'map', 'bikini', 'asset', 'calico', 'citizenship', 'fuck', 'twister', 'ship', 'combat', 'president', 'paper', 'childhood', 'catalysis', 'luncheonette', 'bell', 'billboard', 'cassava', 'flung', 'pressure', 'boon', 'pacemaker', 'claw', 'sole', 'source', 'loan', 'provision', 'stump', 'profession', 'poker', 'sequel', 'stiletto', 'milk', 'mist', 'longitude', 'floodplain', 'kiss', 'vise', 'compensation', 'howitzer', 'lacquerware', 'backbone', 'iron', 'yellowjacket', 'stepson', 'cello', 'zampone', 'radiosonde', 'backburn', 'storm', 'kitsch', 'humour', 'constitution', 'subscription', 'wink', 'shoemaker', 'supplier', 'adoption', 'emergent', 'autumn', 'gastronomy', 'isolation', 'shield', 'hostel', 'authority', 'wholesaler', 'pickaxe', 'cross', 'dust storm', 'singing', 'toffee', 'rake', 'maracas', 'eyelid', 'webpage', 'dinosaur', 'father', 'pig', 'frosting', 'chub', 'storyboard', 'bootee', 'context', 'tattler', 'paddock', 'basis', 'meatball', 'screamer', 'parallelogram', 'moment', 'pence', 'love', 'heartwood', 'moonshine', 'guinea', 'suffocation', 'strand', 'kimono', 'tennis', 'earnings', 'hare', 'molecule', 'eligibility', 'rutabaga', 'silence', 'doll', 'stream', 'level', 'salute', 'teepee', 'trowel', 'partridge', 'burglar', 'redhead', 'adviser', 'hubris', 'mortal', 'decoration', 'shade', 'reader', 'cage', 'endorsement', 'clam', 'cutting', 'reset', 'canoe', 'music-making', 'egg', 'expense', 'speed', 'judo', 'proliferation', 'photo', 'tuna', 'covariate', 'forest', 'broom', 'hassock', 'spike', 'spatula', 'peony', 'wrong', 'mango', 'nightgown', 'footrest', 'highland', 'roast', 'surgery', 'teacher', 'whisker', 'chicory', 'individual', 'teletype', 'warlord', 'society', 'cone', 'swimming', 'gene', 'tenet', 'shock', 'forecast', 'ceramic', 'doctor', 'octagon', 'mail', 'pinstripe', 'somebody', 'flintlock', 'excuse', 'chaise', 'cheque', 'canteen', 'popularity', 'quote', 'reversal', 'crepe', 'centre', 'shift', 'diaper', 'sunday', 'blame', 'gate', 'lobster', 'local', 'station', 'festival', 'diarist', 'tuxedo', 'firewall', 'venom', 'warm-up', 'friction', 'breakfast', 'guard', 'lambkin', 'serval', 'galoshes', 'diving', 'hermit', 'retrospect', 'measles', 'capital', 'dynamo', 'fishing', 'lynx', 'raid', 'note', 'hazel', 'currency', 'latter', 'rocket-ship', 'socialism', 'grandma', 'establishment', 'snowflake', 'hydrolyse', 'inevitable', 'usher', 'merchandise', 'pavilion', 'hospitalization', 'invader', 'lament', 'pasta', 'juice', 'outhouse', 'option', 'maintenance', 'murder', 'order', 'rooster', 'morale', 'gown', 'soy', 'plywood', 'thesis', 'kick', 'resistance', 'spectrograph', 'mobile', 'macrofauna', 'measurement', 'trainer', 'signet', 'pan', 'circadian', 'weeder', 'broker', 'creativity', 'victim', 'alto', 'coverall', 'scrutiny', 'aluminum', 'barracks', 'sleepiness', 'neighbour', 'age', 'replication', 'championship', 'fur', 'inhibitor', 'digit', 'table', 'thyme', 'drug', 'ass', 'filter', 'chasuble', 'accomplishment', 'mushroom', 'passport', 'cop', 'creator', 'pistol', 'travel', 'hospitalisation', 'alpaca', 'elite', 'pillbox', 'step-daughter', 'cormorant', 'endpoint', 'downturn', 'scarification', 'marshmallow', 'grove', 'week', 'pollutant', 'king', 'foal', 'death', 'passage', 'hotel', 'sculpture', 'greenhouse', 'nightingale', 'councilor', 'trailer', 'nation', 'cicada', 'escape', 'ark', 'grease', 'bass', 'female', 'glory', 'pleat', 'allegation', 'opinion', 'rosemary', 'threshold', 'lyre', 'way', 'complement', 'endive', 'yahoo', 'vest', 'sunroom', 'trachoma', 'bladder', 'carol', 'massage', 'artist', 'epee', 'deviance', 'faculty', 'refreshments', 'weird', 'schizophrenic', 'puppet', 'curd', 'diploma', 'painter', 'scheduling', 'sportsman', 'estimate', 'excitement', 'public', 'people', 'hamster', 'consulate', 'distinction', 'chef', 'camper', 'criterion', 'attenuation', 'opening', 'vernacular', 'package', 'conspirator', 'nuke', 'squirrel', 'configuration', 'knuckle', 'watercress', 'tap', 'consulting', 'ziggurat', 'basil', 'minion', 'pipeline', 'emotion', 'infant', 'latitude', 'taxi', 'inspection', 'bond', 'sweatshirt', 'gingerbread', 'spreadsheet', 'lunchmeat', 'resume', 'intelligence', 'instant', 'tragedy', 'pusher', 'tech', 'geometry', 'lobotomy', 'predecessor', 'wad', 'troop', 'canvas', 'octet', 'rust', 'clue', 'dramaturge', 'shadowbox', 'tentacle', 'larva', 'boyfriend', 'mood', 'ocean', 'shipping', 'glockenspiel', 'beginning', 'marker', 'slate', 'favor', 'blend', 'explanation', 'lye', 'syndrome', 'leadership', 'icicle', 'barbiturate', 'shape', 'kilometer', 'font', 'sleep', 'jockey', 'playwright', 'trap', 'schnitzel', 'derrick', 'reconsideration', 'dissemination', 'termite', 'brain', 'spokesman', 'garment', 'antibody', 'thunderhead', 'input', 'kitchen', 'tomato', 'typhoon', 'shallot', 'astronomy', 'prefix', 'blow', 'hike', 'carrier', 'fairness', 'summer', 'lifetime', 'caboose', 'floozie', 'province', 'crinoline', 'cartilage', 'takeover', 'cheer', 'learning', 'quail', 'legume', 'manner', 'ketch', 'shofar', 'carabao', 'concept', 'roommate', 'vintner', 'tweet', 'senior', 'motor', 'mutt', 'eyestrain', 'roster', 'classmate', 'hail', 'beastie', 'crunch', 'gravity', 'ore', 'wolf', 'style', 'objective', 'rainmaker', 'yolk', 'spit', 'baobab', 'acceptance', 'steeple', 'kingfish', 'office', 'parchment', 'noodle', 'courtroom', 'crew', 'gig', 'dahlia', 'injury', 'depressive', 'hemp', 'soccer', 'airfare', 'cord', 'anguish', 'wetsuit', 'probation', 'brick', 'hiccups', 'semicircle', 'parser', 'inversion', 'softball', 'gadget', 'outlook', 'servitude', 'solidarity', 'promise', 'excess', 'hoof', 'corporation', 'wasting', 'town', 'seizure', 'energy', 'portrait', 'something', 'alluvium', 'senator', 'meet', 'engineering', 'customer', 'rider', 'mean', 'fort', 'locomotive', 'zoo', 'handgun', 'monastery', 'okra', 'click', 'terrapin', 'continent', 'outlay', 'event', 'diet', 'tender', 'cruise', 'slider', 'football', 'rage', 'juggernaut', 'writer', 'infancy', 'hearing', 'rag', 'fob', 'mole', 'clearing', 'macaroon', 'wood', 'mobility', 'haircut', 'jam', 'date', 'residence', 'analysis', 'wording', 'shakedown', 'oats', 'food', 'tolerance', 'holder', 'heifer', 'coin', 'repayment', 'fireplace', 'optimist', 'strobe', 'whirlwind', 'eicosanoid', 'manatee', 'bibliography', 'scrap', 'punishment', 'automation', 'design', 'resemblance', 'comportment', 'bolero', 'scrim', 'jade', 'harpsichord', 'ladybug', 'reef', 'mariachi', 'jack', 'screw', 'advocate', 'boudoir', 'afternoon', 'bratwurst', 'sanctuary', 'camp', 'nicety', 'trigonometry', 'developer', 'instrumentation', 'offering', 'infection', 'contour', 'ladder', 'plane', 'daughter', 'spank', 'ambulance', 'sweets', 'reject', 'put', 'pomegranate', 'earplug', 'completion', 'lawn', 'presume', 'crap', 'shell', 'eleventh', 'criteria', 'cobweb', 'formal', 'discharge', 'silk', 'schema', 'decision-making', 'wheat', 'parable', 'consideration', 'bath', 'misfit', 'lizard', 'saddle', 'executive', 'fee', 'nun', 'edible', 'pop', 'right', 'parcel', 'quest', 'airship', 'lumberman', 'child', 'creationist', 'response', 'fugato', 'bother', 'dud', 'applewood', 'tile', 'monster', 'doorknob', 'ballet', 'perception', 'conversation', 'immigrant', 'leverage', 'chaplain', 'row', 'negligee', 'garb', 'emitter', 'distance', 'visa', 'leaf', 'title', 'barrel', 'ephemeris', 'cleric', 'overheard', 'ego', 'backup', 'final', 'generator', 'garlic', 'bobcat', 'postfix', 'administrator', 'anarchist', 'approach', 'fill', 'lover', 'point', 'folk', 'correspondence', 'godfather', 'report', 'bore', 'plugin', 'knickers', 'patio', 'oboe', 'wife', 'phrase', 'summit', 'hatchet', 'osmosis', 'penicillin', 'fact', 'contact', 'catch', 'fleck', 'wrench', 'swamp', 'armpit', 'value', 'fulfillment', 'play', 'bowling', 'underwriting', 'fallacy', 'chief', 'gasoline', 'pickle', 'die', 'dealer', 'headquarters', 'exhibition', 'composite', 'headphones', 'lycra', 'debate', 'jicama', 'domination', 'strategy', 'dig', 'burro', 'hawk', 'disgust', 'prairie', 'armchair', 'musician', 'chicken', 'blue', 'pair', 'candelabra', 'elm', 'bidet', 'lawyer', 'c-clamp', 'printing', 'clasp', 'gravitas', 'enthusiasm', 'anagram', 'tract', 'redesign', 'airbus', 'outside', 'hacienda', 'battle', 'cry', 'illusion', 'situation', 'hardening', 'question', 'produce', 'euphonium', 'exposure', 'apron', 'effector', 'liquidity', 'transmission', 'appreciation', 'clockwork', 'churn', 'login', 'ceiling', 'angiosperm', 'insectarium', 'gigantism', 'lollipop', 'morsel', 'screw-up', 'shrine', 'music-box', 'gear', 'communication', 'audit', 'brink', 'ethics', 'scimitar', 'revolver', 'pumpernickel', 'scout', 'ingredient', 'diplomacy', 'farming', 'maniac', 'carpet', 'entree', 'mile', 'vitro', 'postbox', 'ornament', 'tag', 'duffel', 'ancestor', 'treaty', 'veil', 'honor', 'whisper', 'deduction', 'toot', 'stitcher', 'boogeyman', 'beret', 'pencil', 'phosphate', 'industrialization', 'skyscraper', 'neighbor', 'patent', 'civilization', 'accountability', 'desktop', 'perpendicular', 'plenty', 'lady', 'plunger', 'deodorant', 'kill', 'reunion', 'awe', 'hurt', 'designation', 'sake', 'mezzanine', 'pudding', 'compassion', 'cast', 'direction', 'codling', 'bid', 'plight', 'genocide', 'lychee', 'recording', 'purpose', 'teriyaki', 'idiom', 'connotation', 'curiosity', 'runaway', 'twine', 'file', 'ranch', 'ovary', 'woodchuck', 'poisoning', 'mainland', 'sympathy', 'puppy', 'tights', 'sustainment', 'aardvark', 'dad', 'genre', 'nationality', 'well', 'archeology', 'surround', 'devil', 'time', 'comeback', 'yoke', 'townhouse', 'pad', 'creature', 'wheel', 'plier', 'palace', 'hacksaw', 'reluctance', 'stereo', 'contingency', 'curio', 'nonsense', 'spy', 'secretion', 'racist', 'mini-skirt', 'condition', 'vibrissae', 'article', 'happening', 'communist', 'bathtub', 'chapel', 'ownership', 'foreigner', 'cross-contamination', 'brewer', 'pansy', 'squeegee', 'tensor', 'honeydew', 'ferret', 'macrame', 'raise', 'protest', 'molar', 'monsoon', 'emery', 'duster', 'lipstick', 'disparity', 'supplement', 'kettle', 'pitching', 'act', 'mangrove', 'research', 'koala', 'moth', 'hedgehog', 'egghead', 'mastoid', 'sneeze', 'guerrilla', 'offer', 'taxpayer', 'inauguration', 'timer', 'lathe', 'childbirth', 'half-brother', 'pigsty', 'matrix', 'courthouse', 'minor-league', 'mankind', 'project', 'chasm', 'working', 'cantaloupe', 'store', 'chainstay', 'nut', 'reboot', 'legitimacy', 'rudiment', 'giggle', 'sermon', 'tortilla', 'citrus', 'talk', 'angina', 'extreme', 'campanile', 'campaign', 'elver', 'brushing', 'overshoot', 'cinema', 'mat', 'gumshoe', 'profit', 'uplift', 'anywhere', 'exile', 'step-father', 'infinite', 'designer', 'lord', 'TV', 'modernist', 'influx', 'laryngitis', 'divine', 'drain', 'counter-force', 'penalty', 'beyond', 'tectonics', 'paint', 'victory', 'dame', 'milestone', 'thrust', 'walkway', 'cayenne', 'turnover', 'sale', 'peach', 'shower', 'administration', 'seeker', 'slice', 'anyone', 'household', 'cranberry', 'casserole', 'court', 'governance', 'daylight', 'estuary', 'temptress', 'kilogram', 'zoologist', 'bacon', 'living', 'divorce', 'iris', 'genetics', 'mission', 'brush', 'abrogation', 'ox', 'sailing', 'downfall', 'mythology', 'riding', 'object', 'job', 'disadvantage', 'possession', 'mesenchyme', 'quince', 'middle', 'integration', 'injunction', 'carp', 'procedure', 'number', 'gymnast', 'talent', 'earrings', 'hardship', 'resource', 'management', 'chairman', 'flame', 'mortality', 'stretch', 'fender', 'judge', 'product', 'family', 'loaf', 'hometown', 'image', 'qualification', 'misogyny', 'nurture', 'high', 'story-telling', 'ceremony', 'chime', 'inlay', 'fence', 'vinyl', 'reform', 'dashboard', 'steam', 'dot', 'cock', 'infiltration', 'hurdler', 'divan', 'lens', 'pricing', 'freezer', 'ribbon', 'wiring', 'hammer', 'opportunist', 'rhubarb', 'noise', 'adrenaline', 'disposition', 'scent', 'void', 'trunk', 'divide', 'dynamics', 'acknowledgment', 'business', 'harald', 'havoc', 'poem', 'mixture', 'cappelletti', 'stalk', 'plumber', 'kendo', 'respect', 'ad', 'valance', 'pneumonia', 'clamp', 'baseball', 'clavicle', 'bulb', 'homosexuality', 'clip', 'somersault', 'carry', 'tenant', 'yoyo', 'ruffle', 'bubble', 'playroom', 'know-how', 'register', 'investigator', 'turn', 'billing', 'bin', 'measure', 'cloves', 'toenail', 'concentration', 'housewife', 'persimmon', 'dolphin', 'crane', 'everybody', 'realization', 'iridescence', 'pinto', 'theme', 'online', 'exercise', 'calendar', 'mortise', 'assessment', 'term', 'omega', 'thermometer', 'grouper', 'keyboard', 'breakpoint', 'impala', 'bankruptcy', 'port', 'macro', 'shore', 'insurgence', 'ratepayer', 'pumpkin', 'amendment', 'reverse', 'zither', 'span', 'tadpole', 'railroad', 'quiver', 'container', 'anorak', 'contractor', 'woodshed', 'scenario', 'pirate', 'upper', 'recall', 'doggie', 'myth', 'scholarship', 'proximity', 'tambourine', 'marxism', 'carbohydrate', 'stock', 'mother', 'hose', 'catsup', 'advocacy', 'arrow', 'branch', 'impostor', 'contributor', 'exam', 'cartel', 'ounce', 'defense', 'capon', 'oversight', 'tussle', 'achiever', 'relief', 'commitment', 'bust', 'killer', 'knowledge', 'fries', 'vintage', 'misreading', 'shoreline', 'hatchling', 'veterinarian', 'drake', 'frenzy', 'sky', 'impression', 'coalition', 'pattypan', 'gravy', 'submarine', 'handrail', 'waffle', 'erosion', 'short', 'centimeter', 'guacamole', 'finer', 'raspberry', 'nibble', 'slope', 'paranoia', 'appellation', 'documentary', 'scallion', 'department', 'urge', 'convenience', 'shop', 'planet', 'phrasing', 'life', 'bongo', 'bob', 'metric', 'subroutine', 'problem', 'spree', 'apprehension', 'verb', 'hit', 'carpeting', 'slide', 'cinder', 'haunt', 'deposition', 'impediment', 'exhibit', 'kumquat', 'armor', 'traveler', 'piracy', 'sycamore', 'athlete', 'industrialisation', 'focus', 'going', 'repair', 'round', 'sectional', 'cymbal', 'spume', 'pack', 'stool', 'vineyard', 'closure', 'tatami', 'hutch', 'cashew', 'worker', 'ferryboat', 'puzzle', 'retrospective', 'laboratory', 'model', 'halt', 'conversion', 'confidence', 'summary', 'rhinoceros', 'mention', 'tinderbox', 'location', 'investigation', 'legislature', 'anterior', 'invasion', 'co-producer', 'bacterium', 'peace', 'capitalism', 'interloper', 'glider', 'asterisk', 'fairy', 'driving', 'modem', 'receptor', 'substance', 'petticoat', 'straw', 'parking', 'fahrenheit', 'embellishment', 'wind', 'prophet', 'jar', 'tube', 'dungarees', 'turret', 'toothpick', 'influence', 'saint', 'ecosystem', 'warden', 'llama', 'burn-out', 'heavy', 'possible', 'kiosk', 'smile', 'blind', 'journalism', 'pavement', 'differential', 'orangutan', 'houseboat', 'classic', 'superiority', 'greens', 'poverty', 'lotion', 'league', 'antechamber', 'indigence', 'command', 'coil', 'pretzel', 'carving', 'babushka', 'terrace', 'step-aunt', 'orange', 'gnu', 'ankle', 'alteration', 'tone', 'copywriter', 'interconnection', 'acquisition', 'provider', 'confusion', 'aide', 'seminar', 'inspiration', 'classification', 'porthole', 'hotdog', 'meteorology', 'legging', 'consensus', 'district', 'tear', 'duck', 'selection', 'tumbler', 'fedora', 'duplexer', 'diver', 'rim', 'sampan', 'movie', 'angel', 'grain', 'sentence', 'computer', 'corsage', 'condominium', 'walk', 'pilgrim', 'complex', 'gutter', 'synonym', 'abacus', 'artifact', 'tick', 'topic', 'commodity', 'windshield', 'suede', 'butterfly', 'witch', 'grill', 'spectrum', 'burden', 'oven', 'antler', 'escort', 'jumper', 'soda', 'ballot', 'wool', 'roller', 'session', 'planning', 'rowing', 'glue', 'scripture', 'slavery', 'window', 'counter', 'amenity', 'hectare', 'anteater', 'undershirt', 'burlesque', 'hoe', 'beheading', 'terrorism', 'terminal', 'ethyl', 'revolution', 'technique', 'craftsman', 'tambour', 'spiral', 'pomelo', 'furniture', 'endoderm', 'retrospectivity', 'recess', 'hierarchy', 'machinery', 'banyan', 'kite', 'bondsman', 'hold', 'contrail', 'rations', 'banana', 'intention', 'gallery', 'beck', 'landscape', 'auditorium', 'cursor', 'robe', 'textbook', 'alphabet', 'chateau', 'creationism', 'wasabi', 'generation', 'civilian', 'century', 'horst', 'original', 'incidence', 'guess', 'transport', 'timetable', 'helmet', 'titanium', 'limitation', 'canal', 'bootie', 'accelerator', 'harbour', 'owner', 'bourgeoisie', 'seafood', 'basics', 'playground', 'wind-chime', 'virus', 'grin', 'concentrate', 'panpipe', 'underpants', 'due', 'yak', 'means', 'curriculum', 'blackfish', 'star', 'argument', 'origin', 'shutdown', 'pub', 'wilderness', 'comic', 'pizza', 'manufacturer', 'smell', 'meaning', 'overweight', 'ski', 'empire', 'smoking', 'treasury', 'species', 'everything', 'corridor', 'yarn', 'tabby', 'bow', 'publicity', 'harmonise', 'cracker', 'institution', 'ruckus', 'plate', 'attraction', 'pagan', 'axis', 'thrush', 'cigarette', 'chauvinist', 'spoon', 'bay', 'organisation', 'friendship', 'keeper', 'workshop', 'raft', 'clone', 'killing', 'facility', 'chauffeur', 'shallows', 'unibody', 'suck', 'gather', 'attic', 'misplacement', 'wifi', 'carrot', 'cultivar', 'biplane', 'accuracy', 'horde', 'hay', 'sentiment', 'sovereignty', 'athletics', 'cirrhosis', 'pancreas', 'mobster', 'jellyfish', 'angle', 'graffiti', 'university', 'porcelain', 'cheetah', 'praise', 'swan', 'midwife', 'prostacyclin', 'aspic', 'intensity', 'semantics', 'sailor', 'loophole', 'thousand', 'jelly', 'declination', 'young', 'affidavit', 'newsletter', 'teammate', 'front', 'tolerant', 'graduate', 'regulator', 'hip', 'loyalty', 'emerald', 'exposition', 'irrigation', 'saffron', 'likelihood', 'bellows', 'macaw', 'consist', 'crown', 'caddy', 'opponent', 'marathon', 'driver', 'veto', 'prevalence', 'swine', 'leeway', 'cria', 'eyrie', 'wingtip', 'presentation', 'elbow', 'alpha', 'normalization', 'step-sister', 'hexagon', 'rubric', 'cuticle', 'compress', 'passion', 'tactile', 'albatross', 'documentation', 'reporter', 'salsa', 'lack', 'politics', 'sheet', 'micronutrient', 'turtle', 'site', 'pool', 'commuter', 'zone', 'acrylic', 'clock', 'supernatural', 'cube', 'handmaiden', 'geography', 'planula', 'parsnip', 'underclothes', 'tailbud', 'favorite', 'link', 'aim', 'ficlet', 'galley', 'evidence', 'loincloth', 'socialist', 'recognition', 'philanthropy', 'stop', 'ocelot', 'carpenter', 'whiskey', 'complicity', 'satire', 'beggar', 'convertible', 'vulture', 'corps', 'farrow', 'liability', 'pillow', 'birth', 'cross-stitch', 'remote', 'enterprise', 'motel', 'advance', 'hand-holding', 'checking', 'someplace', 'attribute', 'practitioner', 'climb', 'abdomen', 'conviction', 'littleneck', 'ravioli', 'karate', 'ninja', 'glutamate', 'turnip', 'ritual', 'flair', 'hostess', 'harmonica', 'sugar', 'porpoise', 'sesame', 'trench', 'adult', 'tool', 'comma', 'congregation', 'herbs', 'patron', 'publishing', 'eagle', 'grandmom', 'television', 'trustee', 'standoff', 'voyage', 'insolence', 'sherbet', 'overexertion', 'washer', 'density', 'strudel', 'proprietor', 'employ', 'arm-rest', 'extremist', 'ambience', 'ball', 'nondisclosure', 'therapist', 'kayak', 'chafe', 'step-mother', 'mayor', 'sister', 'espadrille', 'pita', 'premeditation', 'patina', 'armour', 'minimum', 'pinot', 'fingerling', 'pasture', 'gain', 'airman', 'inventor', 'news', 'expansion', 'gunpowder', 'ketchup', 'simplicity', 'hiking', 'onion', 'dressing', 'medal', 'colonization', 'flesh', 'home', 'brocolli', 'noodles', 'artery', 'river', 'anticodon', 'improvement', 'tow-truck', 'embossing', 'assumption', 'thumb', 'solicitation', 'collision', 'meatloaf', 'sneaker', 'twilight', 'campus', 'rally', 'limb', 'book', 'statistics', 'vendor', 'controller', 'silica', 'edition', 'counsel', 'drop', 'granny', 'booster', 'coke', 'someone', 'shipper', 'revitalization', 'classroom', 'nutmeg', 'accident', 'tracksuit', 'interface', 'knee', 'chap', 'pork', 'atrium', 'metaphor', 'pathology', 'pawnshop', 'ethernet', 'knife', 'advantage', 'ingrate', 'survival', 'grand', 'season', 'count', 'gamebird', 'zero', 'cloister', 'statement', 'manufacturing', 'difference', 'citron', 'leprosy', 'shootdown', 'harmony', 'bedroom', 'bet', 'gossip', 'sensitive', 'distribution', 'visual', 'authorization', 'dwelling', 'tamale', 'beast', 'roll', 'net', 'analgesia', 'wage', 'colorlessness', 'rowboat', 'bassoon', 'perennial', 'price', 'hippopotamus', 'alibi', 'freezing', 'conga', 'hardware', 'windage', 'distributor', 'shackle', 'shawl', 'signal', 'madam', 'harbor', 'electricity', 'gavel', 'asphalt', 'depth', 'battalion', 'statue', 'flare', 'gender', 'workout', 'vascular', 'recession', 'clarinet', 'venture', 'booking', 'gasp', 'picket', 'motion', 'nightmare', 'shelter', 'conifer', 'semicolon', 'platter', 'sorbet', 'aggradation', 'fun', 'maybe', 'needle', 'walker', 'rail', 'parka', 'ant', 'reservation', 'caravan', 'track', 'suitcase', 'chromolithograph', 'story', 'refuse', 'heritage', 'innervation', 'drag', 'chow', 'drawer', 'support', 'precision', 'normal', 'demon', 'citizen', 'bog', 'orchard', 'counselor', 'community', 'itinerary', 'chino', 'anklet', 'sage', 'ptarmigan', 'hunt', 'graduation', 'odyssey', 'tabletop', 'alarm', 'clarification', 'cope', 'prose', 'fillet', 'most', 'room', 'ikebana', 'tire', 'grab-bag', 'skywalk', 'frown', 'oxygen', 'belief', 'virtue', 'disclosure', 'feel', 'shelf', 'picturesque', 'slapstick', 'dolman', 'homicide', 'porcupine', 'study', 'soliloquy', 'scorpion', 'speaking', 'champion', 'stake', 'linguist', 'outset', 'pecan', 'step-grandmother', 'shaw', 'fibre', 'dilution', 'eggplant', 'lapdog', 'cork', 'buying', 'republican', 'centurion', 'alfalfa', 'double', 'exterior', 'equipment', 'safe', 'peer', 'messenger', 'reciprocity', 'outfit', 'magic', 'folklore', 'deathwatch', 'person', 'reindeer', 'fiery', 'pliers', 'captain', 'loneliness', 'ginger', 'hellcat', 'fashion', 'chick', 'director', 'neighbourhood', 'electrocardiogram', 'war', 'top-hat', 'ironclad', 'pocket-watch', 'lilac', 'bombing', 'whack', 'machine', 'dew', 'lane', 'commercial', 'buy', 'duty', 'bottom', 'spider', 'census', 'macadamia', 'menorah', 'worshiper', 'ladle', 'bachelor', 'lunchroom', 'nod', 'statute', 'adulthood', 'blanket', 'pit', 'fridge', 'authenticity', 'dune buggy', 'hardhat', 'mouser', 'sprat', 'innocence', 'overnighter', 'gamma-ray', 'former', 'waiter', 'elk', 'debt', 'crotch', 'hashtag', 'parade', 'descent', 'booty', 'hydrant', 'cuckoo', 'authentication', 'panic', 'aperitif', 'end', 'gondola', 'mayonnaise', 'peek', 'glut', 'giant', 'brandy', 'waterspout', 'call', 'validate', 'hake', 'current', 'mastication', 'trim', 'plowman', 'jail', 'regard', 'discourse', 'snow', 'limo', 'begonia', 'client', 'tandem', 'sepal', 'trial', 'accordion', 'hearth', 'congressperson', 'bandanna', 'auction', 'attack', 'evil', 'gum', 'dick', 'wrapper', 'enactment', 'neologism', 'math', 'propaganda', 'litigation', 'wisteria', 'seal', 'vomit', 'overcoat', 'sport', 'rule', 'banquette', 'median', 'labourer', 'hepatitis', 'fiberglass', 'orientation', 'breakdown', 'renaissance', 'fool', 'relaxation', 'downstairs', 'cornmeal', 'sloth', 'sandbar', 'baseline', 'hound', 'wine', 'topsail', 'wagon', 'dragonfruit', 'architecture', 'insurrection', 'baggy', 'puffin', 'deer', 'lymphocyte', 'cytoplasm', 'treat', 'intentionality', 'neuron', 'lime', 'integrity', 'hearsay', 'makeover', 'crocodile', 'derby', 'chill', 'gelding', 'paperwork', 'cohort', 'manicure', 'coinsurance', 'look', 'soul', 'sea', 'supervision', 'graphic', 'contrary', 'injustice', 'year', 'menu', 'loggia', 'canopy', 'cummerbund', 'violation', 'prestige', 'climate', 'dividend', 'fledgling', 'trust', 'saving', 'expedition', 'accordance', 'revelation', 'caution', 'tweezers', 'hormone', 'activist', 'isogloss', 'signup', 'sonnet', 'usual', 'sorghum', 'bestseller', 'parole', 'advertising', 'internet', 'miss', 'sunlight', 'announcement', 'dictator', 'revenge', 'bandana', 'noir', 'cloth', 'forestry', 'majority', 'bead', 'self-esteem', 'newsprint', 'tourism', 'oat', 'spine', 'nectar', 'take-out', 'dill', 'vegetarianism', 'mix', 'ruling', 'herring', 'foray', 'sign', 'poet', 'cleavage', 'mind', 'quantity', 'jug', 'infix', 'chairlift', 'spot', 'characterization', 'complexity', 'class', 'root', 'vestment', 'icy', 'vote', 'flax', 'farmland', 'kamikaze', 'philosopher', 'safety', 'label', 'vignette', 'pathway', 'desire', 'rock', 'tunic', 'priesthood', 'cinnamon', 'pagoda', 'fen', 'fishbone', 'larch', 'bike', 'consciousness', 'ejector', 'pastry', 'cent', 'half-sister', 'paw', 'fresco', 'espalier', 'taro', 'tough-guy', 'bran', 'radish', 'cyst', 'skate', 'fennel', 'yard', 'tea', 'caliber', 'male', 'jackfruit', 'stock-in-trade', 'proportion', 'parenthesis', 'jet', 'transit', 'SUV', 'toothbrush', 'signature', 'expectancy', 'chairperson', 'watcher', 'tepee', 'fav', 'keyboarding', 'phone', 'doughnut', 'notebook', 'smith', 'buckle', 'misrepresentation', 'stencil', 'libido', 'technology', 'registration', 'physiology', 'formation', 'rope', 'catamaran', 'footstool', 'dinghy', 'adjective', 'message', 'restructuring', 'many', 'spur', 'abundance', 'flu', 'dedication', 'mud', 'break', 'sample', 'rug', 'metal', 'highlight', 'workbench', 'panty', 'hallway', 'master', 'efficacy', 'cosset', 'load', 'lemonade', 'cribbage', 'jewellery', 'manager', 'stand', 'commission', 'sourwood', 'watchmaker', 'plum', 'case', 'falling-out', 'cardboard', 'cricket', 'brother-in-law', 'thong', 'tan', 'icon', 'deed', 'maelstrom', 'glacier', 'law', 'admission', 'kitty', 'impropriety', 'basketball', 'passive', 'swanling', 'hydrofoil', 'runner', 'malice', 'efficiency', 'bra', 'heyday', 'samovar', 'footnote', 'length', 'quart', 'close', 'laughter', 'pint', 'forearm', 'leg', 'chorus', 'blinker', 'stamina', 'bonnet', 'tributary', 'amber', 'reach', 'chowder', 'avocado', 'shoehorn', 'lecture', 'underestimate', 'ultimatum', 'wing', 'drive', 'ear', 'ophthalmologist', 'gel', 'disdain', 'chatter', 'yin', 'impudence', 'competitor', 'frustration', 'proof-reader', 'pause', 'calorie', 'video', 'quinoa', 'creek', 'government', 'salary', 'placode', 'test', 'fleece', 'mob', 'trove', 'hosiery', 'deposit', 'antling', 'will', 'entrance', 'step-son', 'harm', 'monkey', 'cash', 'match', 'crocus', 'clogs', 'downgrade', 'reclamation', 'angstrom', 'spade', 'hydrocarbon', 'flight', 'adaptation', 'characteristic', 'system', 'vet', 'shanty', 'defender', 'accommodation', 'deployment', 'cloudburst', 'raiment', 'biscuit', 'hull', 'donor', 'advertisement', 'county', 'hazelnut', 'harvest', 'apparel', 'specialty', 'homosexual', 'challenge', 'birthday', 'helo', 'bookcase', 'embryo', 'sundial', 'goggles', 'norm', 'appetite', 'lava', 'soot', 'liver', 'mangle', 'appliance', 'tailor', 'competence', 'lark', 'buzzard', 'workplace', 'lasagna', 'trail', 'boycott', 'lending', 'possibility', 'ligand', 'cockroach', 'castanet', 'freon', 'omnivore', 'left', 'papaya', 'vice', 'tomatillo', 'rocket', 'buffet', 'dolor', 'dictionary', 'preserves', 'precedent', 'sibling', 'pain', 'wax', 'encyclopedia', 'mutton', 'association', 'author', 'blush', 'ruler', 'hire', 'maximum', 'valley', 'icing', 'making', 'introduction', 'aspect', 'crusader', 'triangle', 'chamber', 'union', 'flock', 'instrument', 'chemical', 'fold', 'revival', 'streetcar', 'sock', 'try', 'sector', 'guy', 'rum', 'repository', 'millisecond', 'staff', 'violence', 'beach', 'cart', 'neon', 'initial', 'cyclamen', 'hate', 'voice', 'pimp', 'stab', 'canon', 'god', 'route', 'chronograph', 'resort', 'ramie', 'arch', 'amazement', 'throat', 'misnomer', 'warning', 'baboon', 'meeting', 'installation', 'military', 'remains', 'armrest', 'laborer', 'hemisphere', 'column', 'spruce', 'skirt', 'bottom-line', 'subconscious', 'reading', 'neurobiologist', 'clinic', 'layer', 'motorboat', 'arrogance', 'barley', 'grit', 'swimsuit', 'film', 'dueling', 'chemotaxis', 'saw', 'consent', 'wrinkle', 'initiative', 'ink', 'kit', 'fountain', 'escalator', 'nick', 'bench', 'wok', 'empowerment', 'prejudice', 'omelet', 'vagrant', 'crayfish', 'telephone', 'CD', 'settler', 'ambassador', 'draft', 'puddle', 'referendum', 'vodka', 'mousse', 'lay', 'rancher', 'peasant', 'fish', 'demand', 'timpani', 'lightning', 'virginal', 'body', 'ratio', 'oxford', 'variety', 'brook', 'weasel', 'arena', 'objection', 'paste', 'infrastructure', 'oeuvre', 'icecream', 'mentor', 'service', 'collapse', 'condor', 'graph', 'triad', 'tonic', 'airspace', 'forgery', 'astrolabe', 'vault', 'disruption', 'toque', 'work', 'overhead', 'tripod', 'best-seller', 'mirror', 'step', 'wastebasket', 'flour', 'prostrate', 'increase', 'compassionate', 'reamer', 'engineer', 'traffic', 'paramedic', 'arrangement', 'glimpse', 'geranium', 'thanks', 'steamroller', 'halloween', 'advent', 'web', 'rehospitalisation', 'phase', 'decadence', 'silver', 'sailboat', 'nourishment', 'noun', 'glove', 'trellis', 'node', 'palm', 'lettuce', 'sneakers', 'sandwich', 'kidney', 'popsicle', 'coleslaw', 'native', 'wiretap', 'cane', 'colt', 'picnic', 'horror', 'inch', 'medication', 'dance', 'candy', 'webmail', 'rice', 'diction', 'underwire', 'saxophone', 'dentist', 'urn', 'jellybeans', 'north', 'validity', 'debtor', 'slip', 'tic', 'marksman', 'pardon', 'antiquity', 'stallion', 'venue', 'upgrade', 'homeland', 'cure', 'livestock', 'trophy', 'psychology', 'equinox', 'directory', 'hyacinth', 'boxer', 'lesson', 'digestive', 'snake', 'strip', 'psychiatrist', 'necklace', 'mantle', 'fisherman', 'packaging', 'pleasure', 'invoice', 'butcher', 'adjustment', 'innocent', 'want', 'disarmament', 'thorn', 'dancer', 'brace', 'beneficiary', 'breakthrough', 'sarong', 'unblinking', 'porch', 'robin', 'contact lens', 'compass', 'sorrel', 'tale', 'grub', 'fortnight', 'ashtray', 'ligula', 'notepad', 'squatter', 'waterbed', 'morning', 'chart', 'hardcover', 'guitarist', 'mochi', 'motive', 'polenta', 'cabana', 'cardigan', 'laptop', 'ford', 'grammar', 'jute', 'founding', 'bitten', 'sweatshop', 'pantry', 'cowbell', 'fry', 'backpack', 'dump truck', 'swordfish', 'moonlight', 'category', 'flint', 'chinchilla', 'vegetable', 'ischemia', 'hops', 'first', 'zephyr', 'collection', 'consequence', 'exit', 'atelier', 'arrest', 'warrant', 'gymnastics', 'buggy', 'subsection', 'hunting', 'gun', 'grief', 'explorer', 'color', 'clave', 'adrenalin', 'wonder', 'wet-bar', 'implication', 'dependent', 'courage', 'penis', 'ideology', 'loop', 'savannah', 'medium', 'schooner', 'strait', 'nightlife', 'series', 'reflection', 'stair', 'thing', 'attachment', 'version', 'hunger', 'gator', 'plume', 'ephyra', 'snowmobiling', 'deliberation', 'astrologer', 'attacker', 'almond', 'farmer', 'commonsense', 'caterpillar', 'haversack', 'score', 'view', 'pajamas', 'sense', 'chug', 'enforcement', 'causal', 'masonry', 'face', 'amusement', 'bottling', 'rod', 'jailhouse', 'mom', 'cacao', 'crazy', 'southeast', 'fault', 'foundation', 'dare', 'seat', 'refusal', 'cephalopod', 'cuff-link', 'bustle', 'remnant', 'party', 'sledge', 'accelerant', 'tin', 'subcontractor', 'airfield', 'dhow', 'accompanist', 'yam', 'lawsuit', 'smoke', 'jump', 'airmail', 'chives', 'surge', 'bowtie', 'rush', 'pill', 'crow', 'larder', 'bagpipe', 'millet', 'gaming', 'goodnight', 'nightlight', 'assembly', 'ATM', 'tissue', 'reception', 'politician', 'napkin', 'participant', 'mandarin', 'component', 'staircase', 'epauliere', 'behavior', 'mama', 'construction', 'azimuth', 'stimulation', 'shipyard', 'trombone', 'leader', 'potty', 'stall', 'junior', 'approval', 'yogurt', 'powder', 'skullcap', 'stomach', 'income', 'manservant', 'samurai', 'disembodiment', 'dumbwaiter', 'conclusion', 'group', 'sprout', 'curl', 'racism', 'abortion', 'bosom', 'seed', 'lap', 'thermostat', 'insulation', 'future', 'studio', 'chrome', 'revenant', 'sac', 'pyramid', 'homonym', 'skin', 'fine', 'reinscription', 'hello', 'mountain', 'tourist', 'dungeon', 'circuit', 'fear', 'photographer', 'availability', 'teaching', 'guest', 'bookmark', 'temp', 'med', 'agenda', 'spawn', 'polarization', 'commandment', 'elimination', 'shack', 'integral', 'hive', 'seaside', 'gallon', 'opium', 'precedence', 'knot', 'snowsuit', 'missile', 'agriculture', 'cost', 'shovel', 'maiden', 'rain', 'cell', 'elicit', 'password', 'handover', 'conflict', 'compost', 'sleet', 'vector', 'bassinet', 'transparency', 'decrease', 'skating', 'webinar', 'convention', 'preface', 'miracle', 'synod', 'homeownership', 'epoch', 'data', 'width', 'wild', 'caftan', 'railway', 'assignment', 'million', 'occupation', 'washbasin', 'crackers', 'lot', 'heater', 'format', 'screwdriver', 'blade', 'disappointment', 'birdcage', 'episode', 'calculator', 'revascularisation', 'lifestyle', 'photograph', 'analytics', 'snakebite', 'bear', 'wafer', 'suspect', 'dessert', 'moron', 'charity', 'subprime', 'crewmen', 'cutlet', 'amount', 'record', 'arthur', 'causeway', 'hype', 'browser', 'interpreter', 'certificate', 'privilege', 'red', 'crude', 'sail', 'charter', 'antennae', 'blood', 'snowboarding', 'real', 'payoff', 'safari', 'priest', 'autoimmunity', 'dining', 'spray', 'code', 'update', 'yarmulke', 'bed', 'light', 'greed', 'cooking', 'viewer', 'idea', 'disability', 'stealth', 'celery', 'expertise', 'synergy', 'alder', 'eardrum', 'cue', 'guarantee', 'routine', 'puma', 'mystery', 'cation', 'windscreen', 'godmother', 'bouquet', 'hobby', 'viability', 'stability', 'scaffold', 'shed', 'newspaper', 'marines', 'facsimile', 'prohibition', 'leather', 'push', 'snap', 'diary', 'dream', 'western', 'panda', 'factory', 'paradise', 'steak', 'interval', 'soil', 'permit', 'spyglass', 'border', 'assassination', 'collectivisation', 'chit-chat', 'tom-tom', 'smolt', 'broiler', 'biology', 'monitoring', 'epithelium', 'setback', 'reorganisation', 'archer', 'criticism', 'crust', 'creditor', 'fishnet', 'dysfunction', 'prisoner', 'generosity', 'innovation', 'vitality', 'railing', 'browsing', 'mallard', 'financing', 'pumpkinseed', 'piety', 'rebellion', 'youngster', 'decongestant', 'permafrost', 'widget', 'green', 'pigeon', 'chastity', 'step-brother', 'flag', 'pipe', 'formicarium', 'cargo', 'neglect', 'operating', 'giraffe', 'borrower', 'brown', 'manor', 'phenomenon', 'walrus', 'closing', 'wannabe', 'dude', 'disco', 'pouch', 'culvert', 'beer', 'start', 'gong', 'sword', 'earthworm', 'grey', 'nickel', 'remark', 'ability', 'riser', 'sightseeing', 'utility', 'stole', 'jewelry', 'success', 'buffer', 'aircraft', 'pillar', 'warren', 'bedrock', 'epoxy', 'pamphlet', 'mailer', 'monopoly', 'pith', 'defeat', 'savings', 'relay', 'gem', 'logic', 'heroine', 'cafe', 'poetry', 'mistake', 'granola', 'solicitor', 'blog', 'switch', 'buyer', 'futon', 'coevolution', 'readiness', 'weedkiller', 'stay', 'patroller', 'elf', 'volleyball', 'restoration', 'bullet', 'toad', 'clef', 'feed', 'clearance', 'odometer', 'dimple', 'protocol', 'hole', 'monk', 'foxglove', 'upward', 'kettledrum', 'mutation', 'oregano', 'envy', 'astrakhan', 'legend', 'tomb', 'inquiry']\n",
            "['laugh', 'con', 'script', 'hop', 'jury', 'fourths', 'door', 'ray', 'fall', 'doc']\n",
            "['laughs', 'cons', 'scripts', 'hops', 'juries', 'fourth', 'doors', 'rays', 'falls', 'docs']\n",
            "Lengths: train: 315, val: 29, test: 7\n"
          ]
        }
      ],
      "source": [
        "# Set of words with unusual plurals\n",
        "noun_test = ['foot', 'man', 'person', 'self', 'wife', 'wolf', 'woman']\n",
        "\n",
        "engine = inflect.engine()\n",
        "\n",
        "# Load new noun_list dataset from csv file\n",
        "with open('nounlist.csv', 'r') as f:\n",
        "    noun_list = f.read().splitlines()\n",
        "    noun_list = [i.strip() for i in noun_list]\n",
        "random.seed(0)\n",
        "# shuffle the noun list\n",
        "random.shuffle(noun_list)\n",
        "print(noun_list)\n",
        "# Remove all list items which are in the nouns list (our test set)\n",
        "noun_list = [i for i in noun_list if i not in noun_test]\n",
        "# Remove the last 10% for validation\n",
        "noun_train = noun_list[:-int(len(noun_list)*0.1)]\n",
        "noun_val = noun_list[-int(len(noun_list)*0.1):]\n",
        "\n",
        "# Plural task\n",
        "def format_dataset(noun_list):\n",
        "    dataset = []\n",
        "    for noun in noun_list:\n",
        "        plural = engine.plural(noun)\n",
        "        dataset.append({'answerKey': plural, 'input': noun})\n",
        "    return dataset\n",
        "\n",
        "\n",
        "noun_train = format_dataset(noun_train)\n",
        "noun_val = format_dataset(noun_val)\n",
        "noun_test = format_dataset(noun_test)\n",
        "\n",
        "\n",
        "# Only include nouns where the plural is a single token\n",
        "noun_train = [i for i in noun_train if len(tokenizer(i['answerKey'])['input_ids']) == 1]\n",
        "noun_val = [i for i in noun_val if len(tokenizer(i['answerKey'])['input_ids']) == 1]\n",
        "noun_test = [i for i in noun_test if len(tokenizer(i['answerKey'])['input_ids']) == 1]\n",
        "\n",
        "# Print the first 10 items in the dataset\n",
        "print([point['input'] for point in noun_train[:10]])\n",
        "print([point['answerKey'] for point in noun_train[:10]])\n",
        "\n",
        "print(f'Lengths: train: {len(noun_train)}, val: {len(noun_val)}, test: {len(noun_test)}')"
      ]
    },
    {
      "cell_type": "markdown",
      "metadata": {
        "id": "cCpYm0JEI45S"
      },
      "source": [
        "Compare hard prompting with soft prompting on this task, then answer the analysis questions in the written part of this homework. You should get over 60% correct on the val set with soft prompting."
      ]
    },
    {
      "cell_type": "code",
      "execution_count": null,
      "metadata": {
        "id": "ZE5sX6DSI45S"
      },
      "outputs": [],
      "source": [
        "def basic_format(point):\n",
        "    if isinstance(point, dict):\n",
        "        point = point['input']\n",
        "    return f\"The plural of {point} is\"\n",
        "\n",
        "examples = ['pasta', 'sweater', 'wave', 'mouse', 'attorney', 'bottle', 'phone', 'grass', 'evening', 'candy', 'flower', 'planet', 'architect', 'washer',\n",
        "            'keyhole', 'economy', 'grace', 'finance', 'midnight', 'cushion', 'plateau', 'mouse', 'chord', 'cactus', 'swap', 'tremor', 'criterion', 'sink', 'bandana', 'trade'\n",
        "            ]\n",
        "\n",
        "def make_few_shot(i):\n",
        "    def few_shot(point):\n",
        "        prompt = ''\n",
        "        for j in range(i):\n",
        "            prompt += basic_format(examples[j]) + ' ' + engine.plural(examples[j]) + '.\\n'\n",
        "        prompt += basic_format(point)\n",
        "        return prompt\n",
        "    return few_shot"
      ]
    },
    {
      "cell_type": "code",
      "execution_count": null,
      "metadata": {
        "id": "-f3LXo1pI45S",
        "colab": {
          "base_uri": "https://localhost:8080/"
        },
        "outputId": "a7689c37-4b08-4282-86f9-9efc4f3f3488"
      },
      "outputs": [
        {
          "output_type": "stream",
          "name": "stderr",
          "text": [
            "Truncation was not explicitly activated but `max_length` is provided a specific value, please use `truncation=True` to explicitly truncate examples to max length. Defaulting to 'longest_first' truncation strategy. If you encode pairs of sequences (GLUE-style) with the tokenizer you can select this strategy more precisely by providing a specific strategy to `truncation`.\n"
          ]
        },
        {
          "output_type": "stream",
          "name": "stdout",
          "text": [
            "Epoch 0, Item 0, loss: 8.7362060546875\n",
            "Epoch 0, Item 200, loss: 8.222498893737793\n",
            "decoding  a a a a a a a is\n",
            "--------------------\n",
            "Epoch 0, Validation loss: 7.030351737449909\n",
            "Epoch 1, Item 0, loss: 7.263357639312744\n",
            "Epoch 1, Item 200, loss: 6.450688362121582\n",
            "decoding  a is is a work a a is\n",
            "--------------------\n",
            "Epoch 1, Validation loss: 6.239261462770659\n",
            "Epoch 2, Item 0, loss: 6.260743141174316\n",
            "Epoch 2, Item 200, loss: 6.015690803527832\n",
            "decoding  a is is service work is a is\n",
            "--------------------\n",
            "Epoch 2, Validation loss: 5.703594635272848\n",
            "Epoch 3, Item 0, loss: 5.587852954864502\n",
            "Epoch 3, Item 200, loss: 5.775708198547363\n",
            "decoding  a is is service work is a inch\n",
            "--------------------\n",
            "Epoch 3, Validation loss: 5.344602765708134\n",
            "Epoch 4, Item 0, loss: 5.197272300720215\n",
            "Epoch 4, Item 200, loss: 5.6266021728515625\n",
            "decoding  a is is service work step a inch\n",
            "--------------------\n",
            "Epoch 4, Validation loss: 5.059251226227859\n",
            "Epoch 5, Item 0, loss: 4.9706339836120605\n",
            "Epoch 5, Item 200, loss: 5.519589424133301\n",
            "decoding  is is is service work step a inch\n",
            "--------------------\n",
            "Epoch 5, Validation loss: 4.779850499383334\n",
            "Epoch 6, Item 0, loss: 4.783467769622803\n",
            "Epoch 6, Item 200, loss: 5.444634437561035\n",
            "decoding  is is is service work step a inch\n",
            "--------------------\n",
            "Epoch 6, Validation loss: 4.6308043578575395\n",
            "Epoch 7, Item 0, loss: 4.623790740966797\n",
            "Epoch 7, Item 200, loss: 5.37883996963501\n",
            "decoding  is is is service work step a inch\n",
            "--------------------\n",
            "Epoch 7, Validation loss: 4.515524518900905\n",
            "Epoch 8, Item 0, loss: 4.500787734985352\n",
            "Epoch 8, Item 200, loss: 5.314174652099609\n",
            "decoding  is is is service work step a inch\n",
            "--------------------\n",
            "Epoch 8, Validation loss: 4.408197764692636\n",
            "Epoch 9, Item 0, loss: 4.390763282775879\n",
            "Epoch 9, Item 200, loss: 5.2397050857543945\n",
            "decoding  is is is service work step a inch\n",
            "--------------------\n",
            "Epoch 9, Validation loss: 4.305168735569921\n",
            "Epoch 10, Item 0, loss: 4.28595495223999\n",
            "Epoch 10, Item 200, loss: 5.154181003570557\n",
            "decoding  is is is service work step a inch\n",
            "--------------------\n",
            "Epoch 10, Validation loss: 4.201811478055757\n",
            "Epoch 11, Item 0, loss: 4.175169944763184\n",
            "Epoch 11, Item 200, loss: 5.058269023895264\n",
            "decoding  is is is service work step a inch\n",
            "--------------------\n",
            "Epoch 11, Validation loss: 4.093754990347501\n",
            "Epoch 12, Item 0, loss: 4.051520347595215\n",
            "Epoch 12, Item 200, loss: 4.951956748962402\n",
            "decoding  is is is service work step a inch\n",
            "--------------------\n",
            "Epoch 12, Validation loss: 3.975911831033641\n",
            "Epoch 13, Item 0, loss: 3.9049220085144043\n",
            "Epoch 13, Item 200, loss: 4.841434001922607\n",
            "decoding  is ink is service work step a inch\n",
            "--------------------\n",
            "Epoch 13, Validation loss: 3.845170966510115\n",
            "Epoch 14, Item 0, loss: 3.726088523864746\n",
            "Epoch 14, Item 200, loss: 4.743070602416992\n",
            "decoding  skirt ink is service work step a inch\n",
            "--------------------\n",
            "Epoch 14, Validation loss: 3.694767655997441\n",
            "Epoch 15, Item 0, loss: 3.4982967376708984\n",
            "Epoch 15, Item 200, loss: 4.665759086608887\n",
            "decoding  skirt ink is service work step thanks inch\n",
            "--------------------\n",
            "Epoch 15, Validation loss: 3.5418762009719322\n",
            "Epoch 16, Item 0, loss: 3.2668352127075195\n",
            "Epoch 16, Item 200, loss: 4.508519172668457\n",
            "decoding  skirt ink is service work step thanks inch\n",
            "--------------------\n",
            "Epoch 16, Validation loss: 3.4024650639501113\n",
            "Epoch 17, Item 0, loss: 3.103222370147705\n",
            "Epoch 17, Item 200, loss: 4.324016571044922\n",
            "decoding  skirt ink is service work steps thanks inch\n",
            "--------------------\n",
            "Epoch 17, Validation loss: 3.242331652805723\n",
            "Epoch 18, Item 0, loss: 2.9394054412841797\n",
            "Epoch 18, Item 200, loss: 4.1095871925354\n",
            "decoding  skirt ink is service work steps thanks inch\n",
            "--------------------\n",
            "Epoch 18, Validation loss: 3.063211572581324\n",
            "Epoch 19, Item 0, loss: 2.7936413288116455\n",
            "Epoch 19, Item 200, loss: 3.8717665672302246\n",
            "decoding  skirt ink is service work steps thanks inch\n",
            "--------------------\n",
            "Epoch 19, Validation loss: 2.861920644497049\n",
            "Epoch 20, Item 0, loss: 2.6418464183807373\n",
            "Epoch 20, Item 200, loss: 3.6118669509887695\n",
            "decoding  skirts ink fishes service work steps thanks inch\n",
            "--------------------\n",
            "Epoch 20, Validation loss: 2.661076570379323\n",
            "Epoch 21, Item 0, loss: 2.4780733585357666\n",
            "Epoch 21, Item 200, loss: 3.333381175994873\n",
            "decoding  skirts ink fishes services works steps thanks inches\n",
            "--------------------\n",
            "Epoch 21, Validation loss: 2.454804001183345\n",
            "Epoch 22, Item 0, loss: 2.3144781589508057\n",
            "Epoch 22, Item 200, loss: 3.0939230918884277\n",
            "decoding  skirts ink fishes services works steps thanks inches\n",
            "--------------------\n",
            "Epoch 22, Validation loss: 2.2904607961917747\n",
            "Epoch 23, Item 0, loss: 2.2083818912506104\n",
            "Epoch 23, Item 200, loss: 2.8937392234802246\n",
            "decoding  skirts is fishes services works steps thanks inches\n",
            "--------------------\n",
            "Epoch 23, Validation loss: 2.1666621175305596\n",
            "Epoch 24, Item 0, loss: 2.125448703765869\n",
            "Epoch 24, Item 200, loss: 2.7296142578125\n",
            "decoding  skirts is fishes services works steps thanks inches\n",
            "--------------------\n",
            "Epoch 24, Validation loss: 2.0672099631408165\n",
            "Epoch 25, Item 0, loss: 2.0517795085906982\n",
            "Epoch 25, Item 200, loss: 2.586121082305908\n",
            "decoding  skirts ink fishes services works steps thanks inches\n",
            "--------------------\n",
            "Epoch 25, Validation loss: 1.991098218950732\n",
            "Epoch 26, Item 0, loss: 1.972991704940796\n",
            "Epoch 26, Item 200, loss: 2.4676051139831543\n",
            "decoding  skirts ink fishes services works steps thanks inches\n",
            "--------------------\n",
            "Epoch 26, Validation loss: 1.9394160632429451\n",
            "Epoch 27, Item 0, loss: 1.8882278203964233\n",
            "Epoch 27, Item 200, loss: 2.396024703979492\n",
            "decoding  skirts ink fishes services works steps thanks inches\n",
            "--------------------\n",
            "Epoch 27, Validation loss: 1.897385884975565\n",
            "Epoch 28, Item 0, loss: 1.7993708848953247\n",
            "Epoch 28, Item 200, loss: 2.3624603748321533\n",
            "decoding  skirts ink fishes services works steps thanks inches\n",
            "--------------------\n",
            "Epoch 28, Validation loss: 1.8667049202425727\n",
            "Epoch 29, Item 0, loss: 1.7175391912460327\n",
            "Epoch 29, Item 200, loss: 2.3026602268218994\n",
            "decoding  skirts ink fishes services works steps thanks inches\n",
            "--------------------\n",
            "Epoch 29, Validation loss: 1.839139305312058\n",
            "Epoch 30, Item 0, loss: 1.6683433055877686\n",
            "Epoch 30, Item 200, loss: 2.224316120147705\n",
            "decoding  skirts ink fishes services works steps thanks inches\n",
            "--------------------\n",
            "Epoch 30, Validation loss: 1.8126940357274022\n",
            "Epoch 31, Item 0, loss: 1.6218295097351074\n",
            "Epoch 31, Item 200, loss: 2.1547586917877197\n",
            "decoding  skirts ink fishes services works steps thanks inches\n",
            "--------------------\n",
            "Epoch 31, Validation loss: 1.7882814530668587\n",
            "Epoch 32, Item 0, loss: 1.574915885925293\n",
            "Epoch 32, Item 200, loss: 2.0889997482299805\n",
            "decoding  skirts ink fishes services works steps thanks inches\n",
            "--------------------\n",
            "Epoch 32, Validation loss: 1.767380032046088\n",
            "Epoch 33, Item 0, loss: 1.5286352634429932\n",
            "Epoch 33, Item 200, loss: 2.019291400909424\n",
            "decoding  skirts ink fishes services works steps thanks inches\n",
            "--------------------\n",
            "Epoch 33, Validation loss: 1.7464199477228626\n",
            "Epoch 34, Item 0, loss: 1.4814119338989258\n",
            "Epoch 34, Item 200, loss: 1.9356164932250977\n",
            "decoding  skirts ink fishes services works steps thanks inches\n",
            "--------------------\n",
            "Epoch 34, Validation loss: 1.7278646518444192\n",
            "Epoch 35, Item 0, loss: 1.4274847507476807\n",
            "Epoch 35, Item 200, loss: 1.836342692375183\n",
            "decoding  skirts ink fishes services works steps thanks inches\n",
            "--------------------\n",
            "Epoch 35, Validation loss: 1.7182506980567143\n",
            "Epoch 36, Item 0, loss: 1.3697071075439453\n",
            "Epoch 36, Item 200, loss: 1.7584019899368286\n",
            "decoding  skirts ink fishes services works steps thanks inches\n",
            "--------------------\n",
            "Epoch 36, Validation loss: 1.7155497033020546\n",
            "Epoch 37, Item 0, loss: 1.3089704513549805\n",
            "Epoch 37, Item 200, loss: 1.701807975769043\n",
            "decoding  skirts ink fishes services works steps thanks inches\n",
            "--------------------\n",
            "Epoch 37, Validation loss: 1.714132128090694\n",
            "Epoch 38, Item 0, loss: 1.2444565296173096\n",
            "Epoch 38, Item 200, loss: 1.649407982826233\n",
            "decoding  skirts ink fishes services works steps thanks inches\n",
            "--------------------\n",
            "Epoch 38, Validation loss: 1.7134080262019717\n",
            "Epoch 39, Item 0, loss: 1.1870100498199463\n",
            "Epoch 39, Item 200, loss: 1.598463535308838\n",
            "decoding  skirts ink fishes services works steps thanks inches\n",
            "--------------------\n",
            "Epoch 39, Validation loss: 1.7130900169241017\n"
          ]
        }
      ],
      "source": [
        "model_pluralize = initialize_soft_model()\n",
        "train_model(model_pluralize, noun_train, noun_val, basic_format, batch_size=8, epochs=40)"
      ]
    },
    {
      "cell_type": "code",
      "execution_count": null,
      "metadata": {
        "id": "9-Fm5R2OI45S",
        "colab": {
          "base_uri": "https://localhost:8080/",
          "height": 176
        },
        "outputId": "aa924ea1-d537-4931-c1b3-b4029f882f3d"
      },
      "outputs": [
        {
          "output_type": "error",
          "ename": "NameError",
          "evalue": "name 'model' is not defined",
          "traceback": [
            "\u001b[0;31m---------------------------------------------------------------------------\u001b[0m",
            "\u001b[0;31mNameError\u001b[0m                                 Traceback (most recent call last)",
            "\u001b[0;32m<ipython-input-18-f054e4877ac3>\u001b[0m in \u001b[0;36m<cell line: 0>\u001b[0;34m()\u001b[0m\n\u001b[1;32m      1\u001b[0m \u001b[0;31m# Save the model to a pickle file (If your runtime crashes, you can load the model from this file)\u001b[0m\u001b[0;34m\u001b[0m\u001b[0;34m\u001b[0m\u001b[0m\n\u001b[1;32m      2\u001b[0m \u001b[0;32mwith\u001b[0m \u001b[0mopen\u001b[0m\u001b[0;34m(\u001b[0m\u001b[0;34m'soft_embeddings_model_pluralize.pkl'\u001b[0m\u001b[0;34m,\u001b[0m \u001b[0;34m'wb'\u001b[0m\u001b[0;34m)\u001b[0m \u001b[0;32mas\u001b[0m \u001b[0mf\u001b[0m\u001b[0;34m:\u001b[0m\u001b[0;34m\u001b[0m\u001b[0;34m\u001b[0m\u001b[0m\n\u001b[0;32m----> 3\u001b[0;31m     \u001b[0mpkl\u001b[0m\u001b[0;34m.\u001b[0m\u001b[0mdump\u001b[0m\u001b[0;34m(\u001b[0m\u001b[0mmodel\u001b[0m\u001b[0;34m,\u001b[0m \u001b[0mf\u001b[0m\u001b[0;34m)\u001b[0m\u001b[0;34m\u001b[0m\u001b[0;34m\u001b[0m\u001b[0m\n\u001b[0m",
            "\u001b[0;31mNameError\u001b[0m: name 'model' is not defined"
          ]
        }
      ],
      "source": [
        "# Save the model to a pickle file (If your runtime crashes, you can load the model from this file)\n",
        "with open('soft_embeddings_model_pluralize.pkl', 'wb') as f:\n",
        "    pkl.dump(model, f)"
      ]
    },
    {
      "cell_type": "code",
      "execution_count": null,
      "metadata": {
        "id": "3A80lhQjI45S",
        "colab": {
          "base_uri": "https://localhost:8080/",
          "height": 1000
        },
        "outputId": "afb7d96d-ac54-4171-d84e-3265ab7a1a70"
      },
      "outputs": [
        {
          "output_type": "stream",
          "name": "stdout",
          "text": [
            "Prompt: The plural of skirt is, output: |skirts|, answerkey |skirts|\n",
            "Prompt: The plural of ink is, output: |ink|, answerkey |inks|\n",
            "Prompt: The plural of fish is, output: |fishes|, answerkey |fish|\n",
            "Prompt: The plural of service is, output: |services|, answerkey |services|\n",
            "Prompt: The plural of work is, output: |works|, answerkey |works|\n",
            "Prompt: The plural of step is, output: |steps|, answerkey |steps|\n",
            "Prompt: The plural of thanks is, output: |thanks|, answerkey |thank|\n",
            "Prompt: The plural of inch is, output: |inches|, answerkey |inches|\n",
            "Prompt: The plural of rice is, output: |rice|, answerkey |rices|\n",
            "Prompt: The plural of tic is, output: |t|, answerkey |tics|\n",
            "Prompt: The plural of hops is, output: |hops|, answerkey |hop|\n",
            "Prompt: The plural of gun is, output: |guns|, answerkey |guns|\n",
            "Prompt: The plural of series is, output: |series|, answerkey |series|\n",
            "Prompt: The plural of stair is, output: |stair|, answerkey |stairs|\n",
            "Prompt: The plural of thing is, output: |things|, answerkey |things|\n",
            "Prompt: The plural of version is, output: |versions|, answerkey |versions|\n",
            "Prompt: The plural of view is, output: |views|, answerkey |views|\n",
            "Prompt: The plural of face is, output: |faces|, answerkey |faces|\n",
            "Prompt: The plural of leader is, output: |leaders|, answerkey |leaders|\n",
            "Prompt: The plural of group is, output: |groups|, answerkey |groups|\n",
            "Prompt: The plural of cell is, output: |cells|, answerkey |cells|\n",
            "Prompt: The plural of code is, output: |codes|, answerkey |codes|\n",
            "Prompt: The plural of light is, output: |lights|, answerkey |lights|\n",
            "Prompt: The plural of marines is, output: |marines|, answerkey |marine|\n",
            "Prompt: The plural of flag is, output: |flags|, answerkey |flags|\n",
            "Prompt: The plural of ability is, output: |abilities|, answerkey |abilities|\n",
            "Prompt: The plural of savings is, output: |savings|, answerkey |saving|\n",
            "Prompt: The plural of blog is, output: |blogs|, answerkey |blogs|\n",
            "Prompt: The plural of hole is, output: |holes|, answerkey |holes|\n"
          ]
        },
        {
          "output_type": "display_data",
          "data": {
            "text/plain": [
              "<Figure size 640x480 with 1 Axes>"
            ],
            "image/png": "[encoded data removed]"
          },
          "metadata": {}
        },
        {
          "output_type": "stream",
          "name": "stdout",
          "text": [
            "Prompt: The plural of foot is, output: |feet|, answerkey |feet|\n",
            "Prompt: The plural of man is, output: |men|, answerkey |men|\n",
            "Prompt: The plural of person is, output: |persons|, answerkey |people|\n",
            "Prompt: The plural of self is, output: |self|, answerkey |selves|\n",
            "Prompt: The plural of wife is, output: |wives|, answerkey |wives|\n",
            "Prompt: The plural of wolf is, output: |wolves|, answerkey |wolves|\n",
            "Prompt: The plural of woman is, output: |women|, answerkey |women|\n"
          ]
        },
        {
          "output_type": "display_data",
          "data": {
            "text/plain": [
              "<Figure size 640x480 with 1 Axes>"
            ],
            "image/png": "[encoded data removed]"
          },
          "metadata": {}
        }
      ],
      "source": [
        "plot_answer_stats(model_pluralize, noun_val, basic_format, verbose=True, pad_soft=True)\n",
        "plot_answer_stats(model_pluralize, noun_test, basic_format, verbose=True, pad_soft=True)"
      ]
    },
    {
      "cell_type": "code",
      "execution_count": null,
      "metadata": {
        "id": "byiaYr9WI45S",
        "colab": {
          "base_uri": "https://localhost:8080/",
          "height": 1000
        },
        "outputId": "e54ea72a-d804-4d15-eefc-88710ed8ffc6"
      },
      "outputs": [
        {
          "output_type": "display_data",
          "data": {
            "text/plain": [
              "<Figure size 640x480 with 1 Axes>"
            ],
            "image/png": "[encoded data removed]"
          },
          "metadata": {}
        },
        {
          "output_type": "display_data",
          "data": {
            "text/plain": [
              "<Figure size 640x480 with 1 Axes>"
            ],
            "image/png": "[encoded data removed]"
          },
          "metadata": {}
        },
        {
          "output_type": "display_data",
          "data": {
            "text/plain": [
              "<Figure size 640x480 with 1 Axes>"
            ],
            "image/png": "[encoded data removed]"
          },
          "metadata": {}
        },
        {
          "output_type": "display_data",
          "data": {
            "text/plain": [
              "<Figure size 640x480 with 1 Axes>"
            ],
            "image/png": "[encoded data removed]"
          },
          "metadata": {}
        },
        {
          "output_type": "display_data",
          "data": {
            "text/plain": [
              "<Figure size 640x480 with 1 Axes>"
            ],
            "image/png": "[encoded data removed]"
          },
          "metadata": {}
        },
        {
          "output_type": "display_data",
          "data": {
            "text/plain": [
              "<Figure size 640x480 with 1 Axes>"
            ],
            "image/png": "[encoded data removed]"
          },
          "metadata": {}
        },
        {
          "output_type": "display_data",
          "data": {
            "text/plain": [
              "<Figure size 640x480 with 1 Axes>"
            ],
            "image/png": "[encoded data removed]"
          },
          "metadata": {}
        },
        {
          "output_type": "display_data",
          "data": {
            "text/plain": [
              "<Figure size 640x480 with 1 Axes>"
            ],
            "image/png": "[encoded data removed]"
          },
          "metadata": {}
        },
        {
          "output_type": "display_data",
          "data": {
            "text/plain": [
              "<Figure size 640x480 with 1 Axes>"
            ],
            "image/png": "[encoded data removed]"
          },
          "metadata": {}
        },
        {
          "output_type": "display_data",
          "data": {
            "text/plain": [
              "<Figure size 640x480 with 1 Axes>"
            ],
            "image/png": "[encoded data removed]"
          },
          "metadata": {}
        }
      ],
      "source": [
        "# Plot results with hard prompts of various lengths\n",
        "for num_shots in range(10):\n",
        "    plot_answer_stats(hard_embedding_model, noun_val, make_few_shot(num_shots), verbose=False, pad_soft=True)"
      ]
    }
  ],
  "metadata": {
    "accelerator": "GPU",
    "colab": {
      "provenance": []
    },
    "gpuClass": "standard",
    "kernelspec": {
      "display_name": "Python 3.7.13 ('cs182_hw88')",
      "language": "python",
      "name": "python3"
    },
    "language_info": {
      "codemirror_mode": {
        "name": "ipython",
        "version": 3
      },
      "file_extension": ".py",
      "mimetype": "text/x-python",
      "name": "python",
      "nbconvert_exporter": "python",
      "pygments_lexer": "ipython3",
      "version": "3.9.13"
    },
    "vscode": {
      "interpreter": {
        "hash": "24c732284262cd41d749de7c2ab26fba11a555a98d922bf877eca389ddd668a1"
      }
    },
    "widgets": {
      "application/vnd.jupyter.widget-state+json": {
        "33c01522d09e4fb78aedbd92c90b1e9c": {
          "model_module": "@jupyter-widgets/controls",
          "model_name": "HBoxModel",
          "model_module_version": "1.5.0",
          "state": {
            "_dom_classes": [],
            "_model_module": "@jupyter-widgets/controls",
            "_model_module_version": "1.5.0",
            "_model_name": "HBoxModel",
            "_view_count": null,
            "_view_module": "@jupyter-widgets/controls",
            "_view_module_version": "1.5.0",
            "_view_name": "HBoxView",
            "box_style": "",
            "children": [
              "IPY_MODEL_ab94686f622848b6942b08e49d8f4e78",
              "IPY_MODEL_861f2b8f1ed049d680460dfcabddd163",
              "IPY_MODEL_aea32382af914c2ca5fb87c0f547edeb"
            ],
            "layout": "IPY_MODEL_5857c672d65d47aa800dbfcbaee89454"
          }
        },
        "ab94686f622848b6942b08e49d8f4e78": {
          "model_module": "@jupyter-widgets/controls",
          "model_name": "HTMLModel",
          "model_module_version": "1.5.0",
          "state": {
            "_dom_classes": [],
            "_model_module": "@jupyter-widgets/controls",
            "_model_module_version": "1.5.0",
            "_model_name": "HTMLModel",
            "_view_count": null,
            "_view_module": "@jupyter-widgets/controls",
            "_view_module_version": "1.5.0",
            "_view_name": "HTMLView",
            "description": "",
            "description_tooltip": null,
            "layout": "IPY_MODEL_1697e0ae4eb34b43b0ae542d4dcca878",
            "placeholder": "​",
            "style": "IPY_MODEL_0b2e097c6c03428496160967ac3b0e5d",
            "value": "tokenizer_config.json: 100%"
          }
        },
        "861f2b8f1ed049d680460dfcabddd163": {
          "model_module": "@jupyter-widgets/controls",
          "model_name": "FloatProgressModel",
          "model_module_version": "1.5.0",
          "state": {
            "_dom_classes": [],
            "_model_module": "@jupyter-widgets/controls",
            "_model_module_version": "1.5.0",
            "_model_name": "FloatProgressModel",
            "_view_count": null,
            "_view_module": "@jupyter-widgets/controls",
            "_view_module_version": "1.5.0",
            "_view_name": "ProgressView",
            "bar_style": "success",
            "description": "",
            "description_tooltip": null,
            "layout": "IPY_MODEL_1ba4f702a8b54be1b96202d2e8fa852b",
            "max": 26,
            "min": 0,
            "orientation": "horizontal",
            "style": "IPY_MODEL_91ca6c9b313a4f648f24f35f3a3499ee",
            "value": 26
          }
        },
        "aea32382af914c2ca5fb87c0f547edeb": {
          "model_module": "@jupyter-widgets/controls",
          "model_name": "HTMLModel",
          "model_module_version": "1.5.0",
          "state": {
            "_dom_classes": [],
            "_model_module": "@jupyter-widgets/controls",
            "_model_module_version": "1.5.0",
            "_model_name": "HTMLModel",
            "_view_count": null,
            "_view_module": "@jupyter-widgets/controls",
            "_view_module_version": "1.5.0",
            "_view_name": "HTMLView",
            "description": "",
            "description_tooltip": null,
            "layout": "IPY_MODEL_894250f5e631499cb89b992fefe050fb",
            "placeholder": "​",
            "style": "IPY_MODEL_515d8cd9fc0e467f833efa96d5b012d9",
            "value": " 26.0/26.0 [00:00&lt;00:00, 2.80kB/s]"
          }
        },
        "5857c672d65d47aa800dbfcbaee89454": {
          "model_module": "@jupyter-widgets/base",
          "model_name": "LayoutModel",
          "model_module_version": "1.2.0",
          "state": {
            "_model_module": "@jupyter-widgets/base",
            "_model_module_version": "1.2.0",
            "_model_name": "LayoutModel",
            "_view_count": null,
            "_view_module": "@jupyter-widgets/base",
            "_view_module_version": "1.2.0",
            "_view_name": "LayoutView",
            "align_content": null,
            "align_items": null,
            "align_self": null,
            "border": null,
            "bottom": null,
            "display": null,
            "flex": null,
            "flex_flow": null,
            "grid_area": null,
            "grid_auto_columns": null,
            "grid_auto_flow": null,
            "grid_auto_rows": null,
            "grid_column": null,
            "grid_gap": null,
            "grid_row": null,
            "grid_template_areas": null,
            "grid_template_columns": null,
            "grid_template_rows": null,
            "height": null,
            "justify_content": null,
            "justify_items": null,
            "left": null,
            "margin": null,
            "max_height": null,
            "max_width": null,
            "min_height": null,
            "min_width": null,
            "object_fit": null,
            "object_position": null,
            "order": null,
            "overflow": null,
            "overflow_x": null,
            "overflow_y": null,
            "padding": null,
            "right": null,
            "top": null,
            "visibility": null,
            "width": null
          }
        },
        "1697e0ae4eb34b43b0ae542d4dcca878": {
          "model_module": "@jupyter-widgets/base",
          "model_name": "LayoutModel",
          "model_module_version": "1.2.0",
          "state": {
            "_model_module": "@jupyter-widgets/base",
            "_model_module_version": "1.2.0",
            "_model_name": "LayoutModel",
            "_view_count": null,
            "_view_module": "@jupyter-widgets/base",
            "_view_module_version": "1.2.0",
            "_view_name": "LayoutView",
            "align_content": null,
            "align_items": null,
            "align_self": null,
            "border": null,
            "bottom": null,
            "display": null,
            "flex": null,
            "flex_flow": null,
            "grid_area": null,
            "grid_auto_columns": null,
            "grid_auto_flow": null,
            "grid_auto_rows": null,
            "grid_column": null,
            "grid_gap": null,
            "grid_row": null,
            "grid_template_areas": null,
            "grid_template_columns": null,
            "grid_template_rows": null,
            "height": null,
            "justify_content": null,
            "justify_items": null,
            "left": null,
            "margin": null,
            "max_height": null,
            "max_width": null,
            "min_height": null,
            "min_width": null,
            "object_fit": null,
            "object_position": null,
            "order": null,
            "overflow": null,
            "overflow_x": null,
            "overflow_y": null,
            "padding": null,
            "right": null,
            "top": null,
            "visibility": null,
            "width": null
          }
        },
        "0b2e097c6c03428496160967ac3b0e5d": {
          "model_module": "@jupyter-widgets/controls",
          "model_name": "DescriptionStyleModel",
          "model_module_version": "1.5.0",
          "state": {
            "_model_module": "@jupyter-widgets/controls",
            "_model_module_version": "1.5.0",
            "_model_name": "DescriptionStyleModel",
            "_view_count": null,
            "_view_module": "@jupyter-widgets/base",
            "_view_module_version": "1.2.0",
            "_view_name": "StyleView",
            "description_width": ""
          }
        },
        "1ba4f702a8b54be1b96202d2e8fa852b": {
          "model_module": "@jupyter-widgets/base",
          "model_name": "LayoutModel",
          "model_module_version": "1.2.0",
          "state": {
            "_model_module": "@jupyter-widgets/base",
            "_model_module_version": "1.2.0",
            "_model_name": "LayoutModel",
            "_view_count": null,
            "_view_module": "@jupyter-widgets/base",
            "_view_module_version": "1.2.0",
            "_view_name": "LayoutView",
            "align_content": null,
            "align_items": null,
            "align_self": null,
            "border": null,
            "bottom": null,
            "display": null,
            "flex": null,
            "flex_flow": null,
            "grid_area": null,
            "grid_auto_columns": null,
            "grid_auto_flow": null,
            "grid_auto_rows": null,
            "grid_column": null,
            "grid_gap": null,
            "grid_row": null,
            "grid_template_areas": null,
            "grid_template_columns": null,
            "grid_template_rows": null,
            "height": null,
            "justify_content": null,
            "justify_items": null,
            "left": null,
            "margin": null,
            "max_height": null,
            "max_width": null,
            "min_height": null,
            "min_width": null,
            "object_fit": null,
            "object_position": null,
            "order": null,
            "overflow": null,
            "overflow_x": null,
            "overflow_y": null,
            "padding": null,
            "right": null,
            "top": null,
            "visibility": null,
            "width": null
          }
        },
        "91ca6c9b313a4f648f24f35f3a3499ee": {
          "model_module": "@jupyter-widgets/controls",
          "model_name": "ProgressStyleModel",
          "model_module_version": "1.5.0",
          "state": {
            "_model_module": "@jupyter-widgets/controls",
            "_model_module_version": "1.5.0",
            "_model_name": "ProgressStyleModel",
            "_view_count": null,
            "_view_module": "@jupyter-widgets/base",
            "_view_module_version": "1.2.0",
            "_view_name": "StyleView",
            "bar_color": null,
            "description_width": ""
          }
        },
        "894250f5e631499cb89b992fefe050fb": {
          "model_module": "@jupyter-widgets/base",
          "model_name": "LayoutModel",
          "model_module_version": "1.2.0",
          "state": {
            "_model_module": "@jupyter-widgets/base",
            "_model_module_version": "1.2.0",
            "_model_name": "LayoutModel",
            "_view_count": null,
            "_view_module": "@jupyter-widgets/base",
            "_view_module_version": "1.2.0",
            "_view_name": "LayoutView",
            "align_content": null,
            "align_items": null,
            "align_self": null,
            "border": null,
            "bottom": null,
            "display": null,
            "flex": null,
            "flex_flow": null,
            "grid_area": null,
            "grid_auto_columns": null,
            "grid_auto_flow": null,
            "grid_auto_rows": null,
            "grid_column": null,
            "grid_gap": null,
            "grid_row": null,
            "grid_template_areas": null,
            "grid_template_columns": null,
            "grid_template_rows": null,
            "height": null,
            "justify_content": null,
            "justify_items": null,
            "left": null,
            "margin": null,
            "max_height": null,
            "max_width": null,
            "min_height": null,
            "min_width": null,
            "object_fit": null,
            "object_position": null,
            "order": null,
            "overflow": null,
            "overflow_x": null,
            "overflow_y": null,
            "padding": null,
            "right": null,
            "top": null,
            "visibility": null,
            "width": null
          }
        },
        "515d8cd9fc0e467f833efa96d5b012d9": {
          "model_module": "@jupyter-widgets/controls",
          "model_name": "DescriptionStyleModel",
          "model_module_version": "1.5.0",
          "state": {
            "_model_module": "@jupyter-widgets/controls",
            "_model_module_version": "1.5.0",
            "_model_name": "DescriptionStyleModel",
            "_view_count": null,
            "_view_module": "@jupyter-widgets/base",
            "_view_module_version": "1.2.0",
            "_view_name": "StyleView",
            "description_width": ""
          }
        },
        "cc63312e0f78483297d066c2606e5ac9": {
          "model_module": "@jupyter-widgets/controls",
          "model_name": "HBoxModel",
          "model_module_version": "1.5.0",
          "state": {
            "_dom_classes": [],
            "_model_module": "@jupyter-widgets/controls",
            "_model_module_version": "1.5.0",
            "_model_name": "HBoxModel",
            "_view_count": null,
            "_view_module": "@jupyter-widgets/controls",
            "_view_module_version": "1.5.0",
            "_view_name": "HBoxView",
            "box_style": "",
            "children": [
              "IPY_MODEL_b95b482ea6864d99a73b0d094fc85cce",
              "IPY_MODEL_019eeee08a484769b441370dc4ecdbf3",
              "IPY_MODEL_931e31e26fc048bd811f51bf35d5c2d4"
            ],
            "layout": "IPY_MODEL_d56d380da9934769bd1ad855dc9ebed4"
          }
        },
        "b95b482ea6864d99a73b0d094fc85cce": {
          "model_module": "@jupyter-widgets/controls",
          "model_name": "HTMLModel",
          "model_module_version": "1.5.0",
          "state": {
            "_dom_classes": [],
            "_model_module": "@jupyter-widgets/controls",
            "_model_module_version": "1.5.0",
            "_model_name": "HTMLModel",
            "_view_count": null,
            "_view_module": "@jupyter-widgets/controls",
            "_view_module_version": "1.5.0",
            "_view_name": "HTMLView",
            "description": "",
            "description_tooltip": null,
            "layout": "IPY_MODEL_a0afe81219c4480dbf9e4ac641a5beb3",
            "placeholder": "​",
            "style": "IPY_MODEL_e866e9be0f2945b181a1a7a0ec311dd5",
            "value": "vocab.json: 100%"
          }
        },
        "019eeee08a484769b441370dc4ecdbf3": {
          "model_module": "@jupyter-widgets/controls",
          "model_name": "FloatProgressModel",
          "model_module_version": "1.5.0",
          "state": {
            "_dom_classes": [],
            "_model_module": "@jupyter-widgets/controls",
            "_model_module_version": "1.5.0",
            "_model_name": "FloatProgressModel",
            "_view_count": null,
            "_view_module": "@jupyter-widgets/controls",
            "_view_module_version": "1.5.0",
            "_view_name": "ProgressView",
            "bar_style": "success",
            "description": "",
            "description_tooltip": null,
            "layout": "IPY_MODEL_ee10bcf3c4a74f61a469eaaaeb192599",
            "max": 1042301,
            "min": 0,
            "orientation": "horizontal",
            "style": "IPY_MODEL_3b886e9b47c94113a27a76080a2eeace",
            "value": 1042301
          }
        },
        "931e31e26fc048bd811f51bf35d5c2d4": {
          "model_module": "@jupyter-widgets/controls",
          "model_name": "HTMLModel",
          "model_module_version": "1.5.0",
          "state": {
            "_dom_classes": [],
            "_model_module": "@jupyter-widgets/controls",
            "_model_module_version": "1.5.0",
            "_model_name": "HTMLModel",
            "_view_count": null,
            "_view_module": "@jupyter-widgets/controls",
            "_view_module_version": "1.5.0",
            "_view_name": "HTMLView",
            "description": "",
            "description_tooltip": null,
            "layout": "IPY_MODEL_5651718c69e44c849680576fe491c30b",
            "placeholder": "​",
            "style": "IPY_MODEL_833783cf306549c98bce930d46f669f4",
            "value": " 1.04M/1.04M [00:00&lt;00:00, 4.71MB/s]"
          }
        },
        "d56d380da9934769bd1ad855dc9ebed4": {
          "model_module": "@jupyter-widgets/base",
          "model_name": "LayoutModel",
          "model_module_version": "1.2.0",
          "state": {
            "_model_module": "@jupyter-widgets/base",
            "_model_module_version": "1.2.0",
            "_model_name": "LayoutModel",
            "_view_count": null,
            "_view_module": "@jupyter-widgets/base",
            "_view_module_version": "1.2.0",
            "_view_name": "LayoutView",
            "align_content": null,
            "align_items": null,
            "align_self": null,
            "border": null,
            "bottom": null,
            "display": null,
            "flex": null,
            "flex_flow": null,
            "grid_area": null,
            "grid_auto_columns": null,
            "grid_auto_flow": null,
            "grid_auto_rows": null,
            "grid_column": null,
            "grid_gap": null,
            "grid_row": null,
            "grid_template_areas": null,
            "grid_template_columns": null,
            "grid_template_rows": null,
            "height": null,
            "justify_content": null,
            "justify_items": null,
            "left": null,
            "margin": null,
            "max_height": null,
            "max_width": null,
            "min_height": null,
            "min_width": null,
            "object_fit": null,
            "object_position": null,
            "order": null,
            "overflow": null,
            "overflow_x": null,
            "overflow_y": null,
            "padding": null,
            "right": null,
            "top": null,
            "visibility": null,
            "width": null
          }
        },
        "a0afe81219c4480dbf9e4ac641a5beb3": {
          "model_module": "@jupyter-widgets/base",
          "model_name": "LayoutModel",
          "model_module_version": "1.2.0",
          "state": {
            "_model_module": "@jupyter-widgets/base",
            "_model_module_version": "1.2.0",
            "_model_name": "LayoutModel",
            "_view_count": null,
            "_view_module": "@jupyter-widgets/base",
            "_view_module_version": "1.2.0",
            "_view_name": "LayoutView",
            "align_content": null,
            "align_items": null,
            "align_self": null,
            "border": null,
            "bottom": null,
            "display": null,
            "flex": null,
            "flex_flow": null,
            "grid_area": null,
            "grid_auto_columns": null,
            "grid_auto_flow": null,
            "grid_auto_rows": null,
            "grid_column": null,
            "grid_gap": null,
            "grid_row": null,
            "grid_template_areas": null,
            "grid_template_columns": null,
            "grid_template_rows": null,
            "height": null,
            "justify_content": null,
            "justify_items": null,
            "left": null,
            "margin": null,
            "max_height": null,
            "max_width": null,
            "min_height": null,
            "min_width": null,
            "object_fit": null,
            "object_position": null,
            "order": null,
            "overflow": null,
            "overflow_x": null,
            "overflow_y": null,
            "padding": null,
            "right": null,
            "top": null,
            "visibility": null,
            "width": null
          }
        },
        "e866e9be0f2945b181a1a7a0ec311dd5": {
          "model_module": "@jupyter-widgets/controls",
          "model_name": "DescriptionStyleModel",
          "model_module_version": "1.5.0",
          "state": {
            "_model_module": "@jupyter-widgets/controls",
            "_model_module_version": "1.5.0",
            "_model_name": "DescriptionStyleModel",
            "_view_count": null,
            "_view_module": "@jupyter-widgets/base",
            "_view_module_version": "1.2.0",
            "_view_name": "StyleView",
            "description_width": ""
          }
        },
        "ee10bcf3c4a74f61a469eaaaeb192599": {
          "model_module": "@jupyter-widgets/base",
          "model_name": "LayoutModel",
          "model_module_version": "1.2.0",
          "state": {
            "_model_module": "@jupyter-widgets/base",
            "_model_module_version": "1.2.0",
            "_model_name": "LayoutModel",
            "_view_count": null,
            "_view_module": "@jupyter-widgets/base",
            "_view_module_version": "1.2.0",
            "_view_name": "LayoutView",
            "align_content": null,
            "align_items": null,
            "align_self": null,
            "border": null,
            "bottom": null,
            "display": null,
            "flex": null,
            "flex_flow": null,
            "grid_area": null,
            "grid_auto_columns": null,
            "grid_auto_flow": null,
            "grid_auto_rows": null,
            "grid_column": null,
            "grid_gap": null,
            "grid_row": null,
            "grid_template_areas": null,
            "grid_template_columns": null,
            "grid_template_rows": null,
            "height": null,
            "justify_content": null,
            "justify_items": null,
            "left": null,
            "margin": null,
            "max_height": null,
            "max_width": null,
            "min_height": null,
            "min_width": null,
            "object_fit": null,
            "object_position": null,
            "order": null,
            "overflow": null,
            "overflow_x": null,
            "overflow_y": null,
            "padding": null,
            "right": null,
            "top": null,
            "visibility": null,
            "width": null
          }
        },
        "3b886e9b47c94113a27a76080a2eeace": {
          "model_module": "@jupyter-widgets/controls",
          "model_name": "ProgressStyleModel",
          "model_module_version": "1.5.0",
          "state": {
            "_model_module": "@jupyter-widgets/controls",
            "_model_module_version": "1.5.0",
            "_model_name": "ProgressStyleModel",
            "_view_count": null,
            "_view_module": "@jupyter-widgets/base",
            "_view_module_version": "1.2.0",
            "_view_name": "StyleView",
            "bar_color": null,
            "description_width": ""
          }
        },
        "5651718c69e44c849680576fe491c30b": {
          "model_module": "@jupyter-widgets/base",
          "model_name": "LayoutModel",
          "model_module_version": "1.2.0",
          "state": {
            "_model_module": "@jupyter-widgets/base",
            "_model_module_version": "1.2.0",
            "_model_name": "LayoutModel",
            "_view_count": null,
            "_view_module": "@jupyter-widgets/base",
            "_view_module_version": "1.2.0",
            "_view_name": "LayoutView",
            "align_content": null,
            "align_items": null,
            "align_self": null,
            "border": null,
            "bottom": null,
            "display": null,
            "flex": null,
            "flex_flow": null,
            "grid_area": null,
            "grid_auto_columns": null,
            "grid_auto_flow": null,
            "grid_auto_rows": null,
            "grid_column": null,
            "grid_gap": null,
            "grid_row": null,
            "grid_template_areas": null,
            "grid_template_columns": null,
            "grid_template_rows": null,
            "height": null,
            "justify_content": null,
            "justify_items": null,
            "left": null,
            "margin": null,
            "max_height": null,
            "max_width": null,
            "min_height": null,
            "min_width": null,
            "object_fit": null,
            "object_position": null,
            "order": null,
            "overflow": null,
            "overflow_x": null,
            "overflow_y": null,
            "padding": null,
            "right": null,
            "top": null,
            "visibility": null,
            "width": null
          }
        },
        "833783cf306549c98bce930d46f669f4": {
          "model_module": "@jupyter-widgets/controls",
          "model_name": "DescriptionStyleModel",
          "model_module_version": "1.5.0",
          "state": {
            "_model_module": "@jupyter-widgets/controls",
            "_model_module_version": "1.5.0",
            "_model_name": "DescriptionStyleModel",
            "_view_count": null,
            "_view_module": "@jupyter-widgets/base",
            "_view_module_version": "1.2.0",
            "_view_name": "StyleView",
            "description_width": ""
          }
        },
        "160f4a60e05e4d09bb83d03a0f746e84": {
          "model_module": "@jupyter-widgets/controls",
          "model_name": "HBoxModel",
          "model_module_version": "1.5.0",
          "state": {
            "_dom_classes": [],
            "_model_module": "@jupyter-widgets/controls",
            "_model_module_version": "1.5.0",
            "_model_name": "HBoxModel",
            "_view_count": null,
            "_view_module": "@jupyter-widgets/controls",
            "_view_module_version": "1.5.0",
            "_view_name": "HBoxView",
            "box_style": "",
            "children": [
              "IPY_MODEL_3d43ad903ac04282bf9ef141dec8d8d6",
              "IPY_MODEL_b04d984e47204bd79e5d0b24d94d25c2",
              "IPY_MODEL_984469ccaabb42cc91b6fb60910ffbc8"
            ],
            "layout": "IPY_MODEL_fe0742457a834de4b24787a2a5e027ec"
          }
        },
        "3d43ad903ac04282bf9ef141dec8d8d6": {
          "model_module": "@jupyter-widgets/controls",
          "model_name": "HTMLModel",
          "model_module_version": "1.5.0",
          "state": {
            "_dom_classes": [],
            "_model_module": "@jupyter-widgets/controls",
            "_model_module_version": "1.5.0",
            "_model_name": "HTMLModel",
            "_view_count": null,
            "_view_module": "@jupyter-widgets/controls",
            "_view_module_version": "1.5.0",
            "_view_name": "HTMLView",
            "description": "",
            "description_tooltip": null,
            "layout": "IPY_MODEL_8b5c08ce6e524c9c997e70e9bcab970b",
            "placeholder": "​",
            "style": "IPY_MODEL_5c0fe37bc1404046b8a23f7110eb164c",
            "value": "merges.txt: 100%"
          }
        },
        "b04d984e47204bd79e5d0b24d94d25c2": {
          "model_module": "@jupyter-widgets/controls",
          "model_name": "FloatProgressModel",
          "model_module_version": "1.5.0",
          "state": {
            "_dom_classes": [],
            "_model_module": "@jupyter-widgets/controls",
            "_model_module_version": "1.5.0",
            "_model_name": "FloatProgressModel",
            "_view_count": null,
            "_view_module": "@jupyter-widgets/controls",
            "_view_module_version": "1.5.0",
            "_view_name": "ProgressView",
            "bar_style": "success",
            "description": "",
            "description_tooltip": null,
            "layout": "IPY_MODEL_2f814f2cb304457cab7e5f8e9121345f",
            "max": 456318,
            "min": 0,
            "orientation": "horizontal",
            "style": "IPY_MODEL_e93416e767f848ffa5885cb462d5e313",
            "value": 456318
          }
        },
        "984469ccaabb42cc91b6fb60910ffbc8": {
          "model_module": "@jupyter-widgets/controls",
          "model_name": "HTMLModel",
          "model_module_version": "1.5.0",
          "state": {
            "_dom_classes": [],
            "_model_module": "@jupyter-widgets/controls",
            "_model_module_version": "1.5.0",
            "_model_name": "HTMLModel",
            "_view_count": null,
            "_view_module": "@jupyter-widgets/controls",
            "_view_module_version": "1.5.0",
            "_view_name": "HTMLView",
            "description": "",
            "description_tooltip": null,
            "layout": "IPY_MODEL_1a5717a5d562488089f47bb95f9393bb",
            "placeholder": "​",
            "style": "IPY_MODEL_8948853c50714ebcadcbfc71b5c9dc5e",
            "value": " 456k/456k [00:00&lt;00:00, 3.16MB/s]"
          }
        },
        "fe0742457a834de4b24787a2a5e027ec": {
          "model_module": "@jupyter-widgets/base",
          "model_name": "LayoutModel",
          "model_module_version": "1.2.0",
          "state": {
            "_model_module": "@jupyter-widgets/base",
            "_model_module_version": "1.2.0",
            "_model_name": "LayoutModel",
            "_view_count": null,
            "_view_module": "@jupyter-widgets/base",
            "_view_module_version": "1.2.0",
            "_view_name": "LayoutView",
            "align_content": null,
            "align_items": null,
            "align_self": null,
            "border": null,
            "bottom": null,
            "display": null,
            "flex": null,
            "flex_flow": null,
            "grid_area": null,
            "grid_auto_columns": null,
            "grid_auto_flow": null,
            "grid_auto_rows": null,
            "grid_column": null,
            "grid_gap": null,
            "grid_row": null,
            "grid_template_areas": null,
            "grid_template_columns": null,
            "grid_template_rows": null,
            "height": null,
            "justify_content": null,
            "justify_items": null,
            "left": null,
            "margin": null,
            "max_height": null,
            "max_width": null,
            "min_height": null,
            "min_width": null,
            "object_fit": null,
            "object_position": null,
            "order": null,
            "overflow": null,
            "overflow_x": null,
            "overflow_y": null,
            "padding": null,
            "right": null,
            "top": null,
            "visibility": null,
            "width": null
          }
        },
        "8b5c08ce6e524c9c997e70e9bcab970b": {
          "model_module": "@jupyter-widgets/base",
          "model_name": "LayoutModel",
          "model_module_version": "1.2.0",
          "state": {
            "_model_module": "@jupyter-widgets/base",
            "_model_module_version": "1.2.0",
            "_model_name": "LayoutModel",
            "_view_count": null,
            "_view_module": "@jupyter-widgets/base",
            "_view_module_version": "1.2.0",
            "_view_name": "LayoutView",
            "align_content": null,
            "align_items": null,
            "align_self": null,
            "border": null,
            "bottom": null,
            "display": null,
            "flex": null,
            "flex_flow": null,
            "grid_area": null,
            "grid_auto_columns": null,
            "grid_auto_flow": null,
            "grid_auto_rows": null,
            "grid_column": null,
            "grid_gap": null,
            "grid_row": null,
            "grid_template_areas": null,
            "grid_template_columns": null,
            "grid_template_rows": null,
            "height": null,
            "justify_content": null,
            "justify_items": null,
            "left": null,
            "margin": null,
            "max_height": null,
            "max_width": null,
            "min_height": null,
            "min_width": null,
            "object_fit": null,
            "object_position": null,
            "order": null,
            "overflow": null,
            "overflow_x": null,
            "overflow_y": null,
            "padding": null,
            "right": null,
            "top": null,
            "visibility": null,
            "width": null
          }
        },
        "5c0fe37bc1404046b8a23f7110eb164c": {
          "model_module": "@jupyter-widgets/controls",
          "model_name": "DescriptionStyleModel",
          "model_module_version": "1.5.0",
          "state": {
            "_model_module": "@jupyter-widgets/controls",
            "_model_module_version": "1.5.0",
            "_model_name": "DescriptionStyleModel",
            "_view_count": null,
            "_view_module": "@jupyter-widgets/base",
            "_view_module_version": "1.2.0",
            "_view_name": "StyleView",
            "description_width": ""
          }
        },
        "2f814f2cb304457cab7e5f8e9121345f": {
          "model_module": "@jupyter-widgets/base",
          "model_name": "LayoutModel",
          "model_module_version": "1.2.0",
          "state": {
            "_model_module": "@jupyter-widgets/base",
            "_model_module_version": "1.2.0",
            "_model_name": "LayoutModel",
            "_view_count": null,
            "_view_module": "@jupyter-widgets/base",
            "_view_module_version": "1.2.0",
            "_view_name": "LayoutView",
            "align_content": null,
            "align_items": null,
            "align_self": null,
            "border": null,
            "bottom": null,
            "display": null,
            "flex": null,
            "flex_flow": null,
            "grid_area": null,
            "grid_auto_columns": null,
            "grid_auto_flow": null,
            "grid_auto_rows": null,
            "grid_column": null,
            "grid_gap": null,
            "grid_row": null,
            "grid_template_areas": null,
            "grid_template_columns": null,
            "grid_template_rows": null,
            "height": null,
            "justify_content": null,
            "justify_items": null,
            "left": null,
            "margin": null,
            "max_height": null,
            "max_width": null,
            "min_height": null,
            "min_width": null,
            "object_fit": null,
            "object_position": null,
            "order": null,
            "overflow": null,
            "overflow_x": null,
            "overflow_y": null,
            "padding": null,
            "right": null,
            "top": null,
            "visibility": null,
            "width": null
          }
        },
        "e93416e767f848ffa5885cb462d5e313": {
          "model_module": "@jupyter-widgets/controls",
          "model_name": "ProgressStyleModel",
          "model_module_version": "1.5.0",
          "state": {
            "_model_module": "@jupyter-widgets/controls",
            "_model_module_version": "1.5.0",
            "_model_name": "ProgressStyleModel",
            "_view_count": null,
            "_view_module": "@jupyter-widgets/base",
            "_view_module_version": "1.2.0",
            "_view_name": "StyleView",
            "bar_color": null,
            "description_width": ""
          }
        },
        "1a5717a5d562488089f47bb95f9393bb": {
          "model_module": "@jupyter-widgets/base",
          "model_name": "LayoutModel",
          "model_module_version": "1.2.0",
          "state": {
            "_model_module": "@jupyter-widgets/base",
            "_model_module_version": "1.2.0",
            "_model_name": "LayoutModel",
            "_view_count": null,
            "_view_module": "@jupyter-widgets/base",
            "_view_module_version": "1.2.0",
            "_view_name": "LayoutView",
            "align_content": null,
            "align_items": null,
            "align_self": null,
            "border": null,
            "bottom": null,
            "display": null,
            "flex": null,
            "flex_flow": null,
            "grid_area": null,
            "grid_auto_columns": null,
            "grid_auto_flow": null,
            "grid_auto_rows": null,
            "grid_column": null,
            "grid_gap": null,
            "grid_row": null,
            "grid_template_areas": null,
            "grid_template_columns": null,
            "grid_template_rows": null,
            "height": null,
            "justify_content": null,
            "justify_items": null,
            "left": null,
            "margin": null,
            "max_height": null,
            "max_width": null,
            "min_height": null,
            "min_width": null,
            "object_fit": null,
            "object_position": null,
            "order": null,
            "overflow": null,
            "overflow_x": null,
            "overflow_y": null,
            "padding": null,
            "right": null,
            "top": null,
            "visibility": null,
            "width": null
          }
        },
        "8948853c50714ebcadcbfc71b5c9dc5e": {
          "model_module": "@jupyter-widgets/controls",
          "model_name": "DescriptionStyleModel",
          "model_module_version": "1.5.0",
          "state": {
            "_model_module": "@jupyter-widgets/controls",
            "_model_module_version": "1.5.0",
            "_model_name": "DescriptionStyleModel",
            "_view_count": null,
            "_view_module": "@jupyter-widgets/base",
            "_view_module_version": "1.2.0",
            "_view_name": "StyleView",
            "description_width": ""
          }
        },
        "e9f2d1df4a414e3d9fa58addb470fd22": {
          "model_module": "@jupyter-widgets/controls",
          "model_name": "HBoxModel",
          "model_module_version": "1.5.0",
          "state": {
            "_dom_classes": [],
            "_model_module": "@jupyter-widgets/controls",
            "_model_module_version": "1.5.0",
            "_model_name": "HBoxModel",
            "_view_count": null,
            "_view_module": "@jupyter-widgets/controls",
            "_view_module_version": "1.5.0",
            "_view_name": "HBoxView",
            "box_style": "",
            "children": [
              "IPY_MODEL_db47a40e099e474485ac02620d2e8a62",
              "IPY_MODEL_21cd2231e19a47f2b4df0931772ef431",
              "IPY_MODEL_960291d9812f43ea9398331087ed41d7"
            ],
            "layout": "IPY_MODEL_20cba768c9b34a1eb858fe0bbb7a2911"
          }
        },
        "db47a40e099e474485ac02620d2e8a62": {
          "model_module": "@jupyter-widgets/controls",
          "model_name": "HTMLModel",
          "model_module_version": "1.5.0",
          "state": {
            "_dom_classes": [],
            "_model_module": "@jupyter-widgets/controls",
            "_model_module_version": "1.5.0",
            "_model_name": "HTMLModel",
            "_view_count": null,
            "_view_module": "@jupyter-widgets/controls",
            "_view_module_version": "1.5.0",
            "_view_name": "HTMLView",
            "description": "",
            "description_tooltip": null,
            "layout": "IPY_MODEL_bc67f0bd900642f38bfa08c6be25f86b",
            "placeholder": "​",
            "style": "IPY_MODEL_5242cc6275244723aa8f69b9380b7617",
            "value": "tokenizer.json: 100%"
          }
        },
        "21cd2231e19a47f2b4df0931772ef431": {
          "model_module": "@jupyter-widgets/controls",
          "model_name": "FloatProgressModel",
          "model_module_version": "1.5.0",
          "state": {
            "_dom_classes": [],
            "_model_module": "@jupyter-widgets/controls",
            "_model_module_version": "1.5.0",
            "_model_name": "FloatProgressModel",
            "_view_count": null,
            "_view_module": "@jupyter-widgets/controls",
            "_view_module_version": "1.5.0",
            "_view_name": "ProgressView",
            "bar_style": "success",
            "description": "",
            "description_tooltip": null,
            "layout": "IPY_MODEL_4f061cd9db234eb5be6abb5e092fb7d1",
            "max": 1355256,
            "min": 0,
            "orientation": "horizontal",
            "style": "IPY_MODEL_d657d21e7fb343b2a728052952bd0359",
            "value": 1355256
          }
        },
        "960291d9812f43ea9398331087ed41d7": {
          "model_module": "@jupyter-widgets/controls",
          "model_name": "HTMLModel",
          "model_module_version": "1.5.0",
          "state": {
            "_dom_classes": [],
            "_model_module": "@jupyter-widgets/controls",
            "_model_module_version": "1.5.0",
            "_model_name": "HTMLModel",
            "_view_count": null,
            "_view_module": "@jupyter-widgets/controls",
            "_view_module_version": "1.5.0",
            "_view_name": "HTMLView",
            "description": "",
            "description_tooltip": null,
            "layout": "IPY_MODEL_56ff6670e2fb4fda8da9d2194a91347a",
            "placeholder": "​",
            "style": "IPY_MODEL_d3e4a64d297f4f58a699f1c472908612",
            "value": " 1.36M/1.36M [00:00&lt;00:00, 1.45MB/s]"
          }
        },
        "20cba768c9b34a1eb858fe0bbb7a2911": {
          "model_module": "@jupyter-widgets/base",
          "model_name": "LayoutModel",
          "model_module_version": "1.2.0",
          "state": {
            "_model_module": "@jupyter-widgets/base",
            "_model_module_version": "1.2.0",
            "_model_name": "LayoutModel",
            "_view_count": null,
            "_view_module": "@jupyter-widgets/base",
            "_view_module_version": "1.2.0",
            "_view_name": "LayoutView",
            "align_content": null,
            "align_items": null,
            "align_self": null,
            "border": null,
            "bottom": null,
            "display": null,
            "flex": null,
            "flex_flow": null,
            "grid_area": null,
            "grid_auto_columns": null,
            "grid_auto_flow": null,
            "grid_auto_rows": null,
            "grid_column": null,
            "grid_gap": null,
            "grid_row": null,
            "grid_template_areas": null,
            "grid_template_columns": null,
            "grid_template_rows": null,
            "height": null,
            "justify_content": null,
            "justify_items": null,
            "left": null,
            "margin": null,
            "max_height": null,
            "max_width": null,
            "min_height": null,
            "min_width": null,
            "object_fit": null,
            "object_position": null,
            "order": null,
            "overflow": null,
            "overflow_x": null,
            "overflow_y": null,
            "padding": null,
            "right": null,
            "top": null,
            "visibility": null,
            "width": null
          }
        },
        "bc67f0bd900642f38bfa08c6be25f86b": {
          "model_module": "@jupyter-widgets/base",
          "model_name": "LayoutModel",
          "model_module_version": "1.2.0",
          "state": {
            "_model_module": "@jupyter-widgets/base",
            "_model_module_version": "1.2.0",
            "_model_name": "LayoutModel",
            "_view_count": null,
            "_view_module": "@jupyter-widgets/base",
            "_view_module_version": "1.2.0",
            "_view_name": "LayoutView",
            "align_content": null,
            "align_items": null,
            "align_self": null,
            "border": null,
            "bottom": null,
            "display": null,
            "flex": null,
            "flex_flow": null,
            "grid_area": null,
            "grid_auto_columns": null,
            "grid_auto_flow": null,
            "grid_auto_rows": null,
            "grid_column": null,
            "grid_gap": null,
            "grid_row": null,
            "grid_template_areas": null,
            "grid_template_columns": null,
            "grid_template_rows": null,
            "height": null,
            "justify_content": null,
            "justify_items": null,
            "left": null,
            "margin": null,
            "max_height": null,
            "max_width": null,
            "min_height": null,
            "min_width": null,
            "object_fit": null,
            "object_position": null,
            "order": null,
            "overflow": null,
            "overflow_x": null,
            "overflow_y": null,
            "padding": null,
            "right": null,
            "top": null,
            "visibility": null,
            "width": null
          }
        },
        "5242cc6275244723aa8f69b9380b7617": {
          "model_module": "@jupyter-widgets/controls",
          "model_name": "DescriptionStyleModel",
          "model_module_version": "1.5.0",
          "state": {
            "_model_module": "@jupyter-widgets/controls",
            "_model_module_version": "1.5.0",
            "_model_name": "DescriptionStyleModel",
            "_view_count": null,
            "_view_module": "@jupyter-widgets/base",
            "_view_module_version": "1.2.0",
            "_view_name": "StyleView",
            "description_width": ""
          }
        },
        "4f061cd9db234eb5be6abb5e092fb7d1": {
          "model_module": "@jupyter-widgets/base",
          "model_name": "LayoutModel",
          "model_module_version": "1.2.0",
          "state": {
            "_model_module": "@jupyter-widgets/base",
            "_model_module_version": "1.2.0",
            "_model_name": "LayoutModel",
            "_view_count": null,
            "_view_module": "@jupyter-widgets/base",
            "_view_module_version": "1.2.0",
            "_view_name": "LayoutView",
            "align_content": null,
            "align_items": null,
            "align_self": null,
            "border": null,
            "bottom": null,
            "display": null,
            "flex": null,
            "flex_flow": null,
            "grid_area": null,
            "grid_auto_columns": null,
            "grid_auto_flow": null,
            "grid_auto_rows": null,
            "grid_column": null,
            "grid_gap": null,
            "grid_row": null,
            "grid_template_areas": null,
            "grid_template_columns": null,
            "grid_template_rows": null,
            "height": null,
            "justify_content": null,
            "justify_items": null,
            "left": null,
            "margin": null,
            "max_height": null,
            "max_width": null,
            "min_height": null,
            "min_width": null,
            "object_fit": null,
            "object_position": null,
            "order": null,
            "overflow": null,
            "overflow_x": null,
            "overflow_y": null,
            "padding": null,
            "right": null,
            "top": null,
            "visibility": null,
            "width": null
          }
        },
        "d657d21e7fb343b2a728052952bd0359": {
          "model_module": "@jupyter-widgets/controls",
          "model_name": "ProgressStyleModel",
          "model_module_version": "1.5.0",
          "state": {
            "_model_module": "@jupyter-widgets/controls",
            "_model_module_version": "1.5.0",
            "_model_name": "ProgressStyleModel",
            "_view_count": null,
            "_view_module": "@jupyter-widgets/base",
            "_view_module_version": "1.2.0",
            "_view_name": "StyleView",
            "bar_color": null,
            "description_width": ""
          }
        },
        "56ff6670e2fb4fda8da9d2194a91347a": {
          "model_module": "@jupyter-widgets/base",
          "model_name": "LayoutModel",
          "model_module_version": "1.2.0",
          "state": {
            "_model_module": "@jupyter-widgets/base",
            "_model_module_version": "1.2.0",
            "_model_name": "LayoutModel",
            "_view_count": null,
            "_view_module": "@jupyter-widgets/base",
            "_view_module_version": "1.2.0",
            "_view_name": "LayoutView",
            "align_content": null,
            "align_items": null,
            "align_self": null,
            "border": null,
            "bottom": null,
            "display": null,
            "flex": null,
            "flex_flow": null,
            "grid_area": null,
            "grid_auto_columns": null,
            "grid_auto_flow": null,
            "grid_auto_rows": null,
            "grid_column": null,
            "grid_gap": null,
            "grid_row": null,
            "grid_template_areas": null,
            "grid_template_columns": null,
            "grid_template_rows": null,
            "height": null,
            "justify_content": null,
            "justify_items": null,
            "left": null,
            "margin": null,
            "max_height": null,
            "max_width": null,
            "min_height": null,
            "min_width": null,
            "object_fit": null,
            "object_position": null,
            "order": null,
            "overflow": null,
            "overflow_x": null,
            "overflow_y": null,
            "padding": null,
            "right": null,
            "top": null,
            "visibility": null,
            "width": null
          }
        },
        "d3e4a64d297f4f58a699f1c472908612": {
          "model_module": "@jupyter-widgets/controls",
          "model_name": "DescriptionStyleModel",
          "model_module_version": "1.5.0",
          "state": {
            "_model_module": "@jupyter-widgets/controls",
            "_model_module_version": "1.5.0",
            "_model_name": "DescriptionStyleModel",
            "_view_count": null,
            "_view_module": "@jupyter-widgets/base",
            "_view_module_version": "1.2.0",
            "_view_name": "StyleView",
            "description_width": ""
          }
        },
        "fc96e1d076d1466a9dc178985bdbafaa": {
          "model_module": "@jupyter-widgets/controls",
          "model_name": "HBoxModel",
          "model_module_version": "1.5.0",
          "state": {
            "_dom_classes": [],
            "_model_module": "@jupyter-widgets/controls",
            "_model_module_version": "1.5.0",
            "_model_name": "HBoxModel",
            "_view_count": null,
            "_view_module": "@jupyter-widgets/controls",
            "_view_module_version": "1.5.0",
            "_view_name": "HBoxView",
            "box_style": "",
            "children": [
              "IPY_MODEL_81e86e40e6ab4cc5af571959e659b733",
              "IPY_MODEL_54f9d25a83834e3d975e37b3b1f6e2c0",
              "IPY_MODEL_1b666ba9c14a4510adfbc94a8e931093"
            ],
            "layout": "IPY_MODEL_ef8d049db1e04c0f8669fc785d140d38"
          }
        },
        "81e86e40e6ab4cc5af571959e659b733": {
          "model_module": "@jupyter-widgets/controls",
          "model_name": "HTMLModel",
          "model_module_version": "1.5.0",
          "state": {
            "_dom_classes": [],
            "_model_module": "@jupyter-widgets/controls",
            "_model_module_version": "1.5.0",
            "_model_name": "HTMLModel",
            "_view_count": null,
            "_view_module": "@jupyter-widgets/controls",
            "_view_module_version": "1.5.0",
            "_view_name": "HTMLView",
            "description": "",
            "description_tooltip": null,
            "layout": "IPY_MODEL_f56fa3a4c55340338998145410dfd305",
            "placeholder": "​",
            "style": "IPY_MODEL_76f8658f29f54029ad751f2698196354",
            "value": "config.json: 100%"
          }
        },
        "54f9d25a83834e3d975e37b3b1f6e2c0": {
          "model_module": "@jupyter-widgets/controls",
          "model_name": "FloatProgressModel",
          "model_module_version": "1.5.0",
          "state": {
            "_dom_classes": [],
            "_model_module": "@jupyter-widgets/controls",
            "_model_module_version": "1.5.0",
            "_model_name": "FloatProgressModel",
            "_view_count": null,
            "_view_module": "@jupyter-widgets/controls",
            "_view_module_version": "1.5.0",
            "_view_name": "ProgressView",
            "bar_style": "success",
            "description": "",
            "description_tooltip": null,
            "layout": "IPY_MODEL_22fbe483039f4791b4276762da1484e9",
            "max": 665,
            "min": 0,
            "orientation": "horizontal",
            "style": "IPY_MODEL_ccbe30a5baa245b6ac9ee341aba24c19",
            "value": 665
          }
        },
        "1b666ba9c14a4510adfbc94a8e931093": {
          "model_module": "@jupyter-widgets/controls",
          "model_name": "HTMLModel",
          "model_module_version": "1.5.0",
          "state": {
            "_dom_classes": [],
            "_model_module": "@jupyter-widgets/controls",
            "_model_module_version": "1.5.0",
            "_model_name": "HTMLModel",
            "_view_count": null,
            "_view_module": "@jupyter-widgets/controls",
            "_view_module_version": "1.5.0",
            "_view_name": "HTMLView",
            "description": "",
            "description_tooltip": null,
            "layout": "IPY_MODEL_f4604cea7fe2494a9215f3ca61924399",
            "placeholder": "​",
            "style": "IPY_MODEL_9b1f4c7763824ce983ffa8f62582bffb",
            "value": " 665/665 [00:00&lt;00:00, 36.8kB/s]"
          }
        },
        "ef8d049db1e04c0f8669fc785d140d38": {
          "model_module": "@jupyter-widgets/base",
          "model_name": "LayoutModel",
          "model_module_version": "1.2.0",
          "state": {
            "_model_module": "@jupyter-widgets/base",
            "_model_module_version": "1.2.0",
            "_model_name": "LayoutModel",
            "_view_count": null,
            "_view_module": "@jupyter-widgets/base",
            "_view_module_version": "1.2.0",
            "_view_name": "LayoutView",
            "align_content": null,
            "align_items": null,
            "align_self": null,
            "border": null,
            "bottom": null,
            "display": null,
            "flex": null,
            "flex_flow": null,
            "grid_area": null,
            "grid_auto_columns": null,
            "grid_auto_flow": null,
            "grid_auto_rows": null,
            "grid_column": null,
            "grid_gap": null,
            "grid_row": null,
            "grid_template_areas": null,
            "grid_template_columns": null,
            "grid_template_rows": null,
            "height": null,
            "justify_content": null,
            "justify_items": null,
            "left": null,
            "margin": null,
            "max_height": null,
            "max_width": null,
            "min_height": null,
            "min_width": null,
            "object_fit": null,
            "object_position": null,
            "order": null,
            "overflow": null,
            "overflow_x": null,
            "overflow_y": null,
            "padding": null,
            "right": null,
            "top": null,
            "visibility": null,
            "width": null
          }
        },
        "f56fa3a4c55340338998145410dfd305": {
          "model_module": "@jupyter-widgets/base",
          "model_name": "LayoutModel",
          "model_module_version": "1.2.0",
          "state": {
            "_model_module": "@jupyter-widgets/base",
            "_model_module_version": "1.2.0",
            "_model_name": "LayoutModel",
            "_view_count": null,
            "_view_module": "@jupyter-widgets/base",
            "_view_module_version": "1.2.0",
            "_view_name": "LayoutView",
            "align_content": null,
            "align_items": null,
            "align_self": null,
            "border": null,
            "bottom": null,
            "display": null,
            "flex": null,
            "flex_flow": null,
            "grid_area": null,
            "grid_auto_columns": null,
            "grid_auto_flow": null,
            "grid_auto_rows": null,
            "grid_column": null,
            "grid_gap": null,
            "grid_row": null,
            "grid_template_areas": null,
            "grid_template_columns": null,
            "grid_template_rows": null,
            "height": null,
            "justify_content": null,
            "justify_items": null,
            "left": null,
            "margin": null,
            "max_height": null,
            "max_width": null,
            "min_height": null,
            "min_width": null,
            "object_fit": null,
            "object_position": null,
            "order": null,
            "overflow": null,
            "overflow_x": null,
            "overflow_y": null,
            "padding": null,
            "right": null,
            "top": null,
            "visibility": null,
            "width": null
          }
        },
        "76f8658f29f54029ad751f2698196354": {
          "model_module": "@jupyter-widgets/controls",
          "model_name": "DescriptionStyleModel",
          "model_module_version": "1.5.0",
          "state": {
            "_model_module": "@jupyter-widgets/controls",
            "_model_module_version": "1.5.0",
            "_model_name": "DescriptionStyleModel",
            "_view_count": null,
            "_view_module": "@jupyter-widgets/base",
            "_view_module_version": "1.2.0",
            "_view_name": "StyleView",
            "description_width": ""
          }
        },
        "22fbe483039f4791b4276762da1484e9": {
          "model_module": "@jupyter-widgets/base",
          "model_name": "LayoutModel",
          "model_module_version": "1.2.0",
          "state": {
            "_model_module": "@jupyter-widgets/base",
            "_model_module_version": "1.2.0",
            "_model_name": "LayoutModel",
            "_view_count": null,
            "_view_module": "@jupyter-widgets/base",
            "_view_module_version": "1.2.0",
            "_view_name": "LayoutView",
            "align_content": null,
            "align_items": null,
            "align_self": null,
            "border": null,
            "bottom": null,
            "display": null,
            "flex": null,
            "flex_flow": null,
            "grid_area": null,
            "grid_auto_columns": null,
            "grid_auto_flow": null,
            "grid_auto_rows": null,
            "grid_column": null,
            "grid_gap": null,
            "grid_row": null,
            "grid_template_areas": null,
            "grid_template_columns": null,
            "grid_template_rows": null,
            "height": null,
            "justify_content": null,
            "justify_items": null,
            "left": null,
            "margin": null,
            "max_height": null,
            "max_width": null,
            "min_height": null,
            "min_width": null,
            "object_fit": null,
            "object_position": null,
            "order": null,
            "overflow": null,
            "overflow_x": null,
            "overflow_y": null,
            "padding": null,
            "right": null,
            "top": null,
            "visibility": null,
            "width": null
          }
        },
        "ccbe30a5baa245b6ac9ee341aba24c19": {
          "model_module": "@jupyter-widgets/controls",
          "model_name": "ProgressStyleModel",
          "model_module_version": "1.5.0",
          "state": {
            "_model_module": "@jupyter-widgets/controls",
            "_model_module_version": "1.5.0",
            "_model_name": "ProgressStyleModel",
            "_view_count": null,
            "_view_module": "@jupyter-widgets/base",
            "_view_module_version": "1.2.0",
            "_view_name": "StyleView",
            "bar_color": null,
            "description_width": ""
          }
        },
        "f4604cea7fe2494a9215f3ca61924399": {
          "model_module": "@jupyter-widgets/base",
          "model_name": "LayoutModel",
          "model_module_version": "1.2.0",
          "state": {
            "_model_module": "@jupyter-widgets/base",
            "_model_module_version": "1.2.0",
            "_model_name": "LayoutModel",
            "_view_count": null,
            "_view_module": "@jupyter-widgets/base",
            "_view_module_version": "1.2.0",
            "_view_name": "LayoutView",
            "align_content": null,
            "align_items": null,
            "align_self": null,
            "border": null,
            "bottom": null,
            "display": null,
            "flex": null,
            "flex_flow": null,
            "grid_area": null,
            "grid_auto_columns": null,
            "grid_auto_flow": null,
            "grid_auto_rows": null,
            "grid_column": null,
            "grid_gap": null,
            "grid_row": null,
            "grid_template_areas": null,
            "grid_template_columns": null,
            "grid_template_rows": null,
            "height": null,
            "justify_content": null,
            "justify_items": null,
            "left": null,
            "margin": null,
            "max_height": null,
            "max_width": null,
            "min_height": null,
            "min_width": null,
            "object_fit": null,
            "object_position": null,
            "order": null,
            "overflow": null,
            "overflow_x": null,
            "overflow_y": null,
            "padding": null,
            "right": null,
            "top": null,
            "visibility": null,
            "width": null
          }
        },
        "9b1f4c7763824ce983ffa8f62582bffb": {
          "model_module": "@jupyter-widgets/controls",
          "model_name": "DescriptionStyleModel",
          "model_module_version": "1.5.0",
          "state": {
            "_model_module": "@jupyter-widgets/controls",
            "_model_module_version": "1.5.0",
            "_model_name": "DescriptionStyleModel",
            "_view_count": null,
            "_view_module": "@jupyter-widgets/base",
            "_view_module_version": "1.2.0",
            "_view_name": "StyleView",
            "description_width": ""
          }
        }
      }
    }
  },
  "nbformat": 4,
  "nbformat_minor": 0
}